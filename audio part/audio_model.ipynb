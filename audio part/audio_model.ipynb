{
 "cells": [
  {
   "cell_type": "code",
   "execution_count": 1,
   "metadata": {
    "colab": {
     "base_uri": "https://localhost:8080/",
     "height": 122
    },
    "colab_type": "code",
    "id": "UTSYrdFXUqn4",
    "outputId": "a5464e2f-924c-4a01-c016-33e4e3e8425c"
   },
   "outputs": [
    {
     "name": "stdout",
     "output_type": "stream",
     "text": [
      "Go to this URL in a browser: https://accounts.google.com/o/oauth2/auth?client_id=947318989803-6bn6qk8qdgf4n4g3pfee6491hc0brc4i.apps.googleusercontent.com&redirect_uri=urn%3aietf%3awg%3aoauth%3a2.0%3aoob&response_type=code&scope=email%20https%3a%2f%2fwww.googleapis.com%2fauth%2fdocs.test%20https%3a%2f%2fwww.googleapis.com%2fauth%2fdrive%20https%3a%2f%2fwww.googleapis.com%2fauth%2fdrive.photos.readonly%20https%3a%2f%2fwww.googleapis.com%2fauth%2fpeopleapi.readonly\n",
      "\n",
      "Enter your authorization code:\n",
      "··········\n",
      "Mounted at /content/drive\n"
     ]
    }
   ],
   "source": [
    "from google.colab import drive\n",
    "drive.mount('/content/drive')"
   ]
  },
  {
   "cell_type": "code",
   "execution_count": 1,
   "metadata": {
    "colab": {
     "base_uri": "https://localhost:8080/",
     "height": 34
    },
    "colab_type": "code",
    "id": "FztPo0flUrnd",
    "outputId": "757d23b8-e2de-4e81-fc72-e6b329b7ed0a"
   },
   "outputs": [
    {
     "name": "stdout",
     "output_type": "stream",
     "text": [
      "WARNING:tensorflow:Falling back to tensorflow client, its recommended to install the cloud tpu client directly with pip install cloud-tpu-client .\n"
     ]
    }
   ],
   "source": [
    "#%tensorflow_version 2.x\n",
    "import pandas as pd\n",
    "import numpy as np\n",
    "\n",
    "import librosa\n",
    "import librosa.display as lid\n",
    "\n",
    "import matplotlib.pyplot as plt\n",
    "%matplotlib inline\n",
    "\n",
    "import time\n",
    "\n",
    "from sklearn.preprocessing import OneHotEncoder\n",
    "from sklearn.model_selection import train_test_split\n",
    "\n",
    "from tensorflow.keras.models import Model\n",
    "from tensorflow.keras.layers import Conv1D, Flatten, Dense, Input, MaxPooling1D, Dropout, GaussianNoise, LSTM, AveragePooling1D\n",
    "from tensorflow.keras.regularizers import l1, l2\n",
    "import tensorflow as tf\n",
    "\n",
    "import multiprocessing as mp"
   ]
  },
  {
   "cell_type": "code",
   "execution_count": 2,
   "metadata": {},
   "outputs": [
    {
     "data": {
      "text/plain": [
       "'0.6.3'"
      ]
     },
     "execution_count": 2,
     "metadata": {},
     "output_type": "execute_result"
    }
   ],
   "source": [
    "librosa.__version__"
   ]
  },
  {
   "cell_type": "code",
   "execution_count": 3,
   "metadata": {},
   "outputs": [],
   "source": [
    "def multi_reader(path):\n",
    "    df = pd.read_csv(path, header=None)\n",
    "    return df"
   ]
  },
  {
   "cell_type": "code",
   "execution_count": 4,
   "metadata": {
    "colab": {},
    "colab_type": "code",
    "id": "_Ea4SPXvU8DD"
   },
   "outputs": [],
   "source": [
    "#path = \"drive/My Drive/audio/\"\n",
    "path=\"audio/\"\n",
    "\n",
    "\n",
    "pool = mp.Pool(2)\n",
    "fede, fede_n = pool.map(multi_reader, [path+\"Federico.csv\", path+\"Federico_new.csv\"])\n",
    "pool.close()\n",
    "pool.join()\n",
    "\n",
    "\n",
    "\n",
    "\n",
    "pool = mp.Pool(6)\n",
    "ricc_si, ricc_no, ricc_forse, ricc_si_n, ricc_no_n, ricc_forse_n = pool.map(multi_reader, \n",
    "                                                                            [path+\"Riccardo/Riccardo_sì.csv\", \n",
    "                                                                             path+\"Riccardo/Riccardo_no.csv\",\n",
    "                                                                             path+\"Riccardo/Riccardo_forse.csv\",\n",
    "                                                                             path+\"Riccardo/Riccardo_sì2.csv\",\n",
    "                                                                             path+\"Riccardo/Riccardo_no2.csv\",\n",
    "                                                                             path+\"Riccardo/Riccardo_forse2.csv\"])\n",
    "\n",
    "\n",
    "pool.close()\n",
    "pool.join()\n",
    "\n",
    "ricc_si = pd.concat((ricc_si.drop(0,axis=1), ricc_si_n.drop(0,axis=1)))\n",
    "ricc_no = pd.concat((ricc_no.drop(0,axis=1), ricc_no_n.drop(0,axis=1)))\n",
    "ricc_forse = pd.concat((ricc_forse.drop(0,axis=1), ricc_forse_n.drop(0,axis=1)))\n",
    "\n",
    "\n",
    "pool = mp.Pool(6)\n",
    "pk_si, pk_no, pk_forse, pk_si_n, pk_no_n, pk_forse_n = pool.map(multi_reader, \n",
    "                                                                [path+\"Pranav/Pranav_si.csv\", \n",
    "                                                                 path+\"Pranav/Pranav_no.csv\",\n",
    "                                                                 path+\"Pranav/Pranav_forse.csv\",\n",
    "                                                                 path+\"Pranav/Pranav_si_noisy.csv\",\n",
    "                                                                 path+\"Pranav/Pranav_no_noisy.csv\",\n",
    "                                                                 path+\"Pranav/Pranav_forse_noisy.csv\"])\n",
    "\n",
    "\n",
    "pool.close()\n",
    "pool.join()\n",
    "\n",
    "\n",
    "pk_si = pd.concat((pk_si.drop(0,axis=1), pk_si_n.drop(0,axis=1)))\n",
    "pk_no = pd.concat((pk_no.drop(0,axis=1), pk_no_n.drop(0,axis=1)))\n",
    "pk_forse = pd.concat((pk_forse.drop(0,axis=1), pk_forse_n.drop(0,axis=1)))"
   ]
  },
  {
   "cell_type": "code",
   "execution_count": 5,
   "metadata": {
    "colab": {},
    "colab_type": "code",
    "id": "CLdKC6y-VD4g"
   },
   "outputs": [],
   "source": [
    "fede = pd.concat((fede,fede_n))"
   ]
  },
  {
   "cell_type": "code",
   "execution_count": 6,
   "metadata": {
    "colab": {},
    "colab_type": "code",
    "id": "A4msRAmsVve2"
   },
   "outputs": [],
   "source": [
    "fede_si = fede[fede[0]=='sì'].drop(0,axis=1)\n",
    "fede_no = fede[fede[0]=='no'].drop(0,axis=1)\n",
    "fede_forse = fede[fede[0]=='forse'].drop(0,axis=1)"
   ]
  },
  {
   "cell_type": "code",
   "execution_count": 7,
   "metadata": {
    "colab": {},
    "colab_type": "code",
    "id": "PpBjfGTHhrwe"
   },
   "outputs": [],
   "source": [
    "fede_si[\"what\"] = \"si\"\n",
    "fede_no[\"what\"] = \"no\"\n",
    "fede_forse[\"what\"] = \"forse\"\n",
    "\n",
    "ricc_si[\"what\"] = \"si\"\n",
    "ricc_no[\"what\"] = \"no\"\n",
    "ricc_forse[\"what\"] = \"forse\"\n",
    "\n",
    "pk_si[\"what\"] = \"si\"\n",
    "pk_no[\"what\"] = \"no\"\n",
    "pk_forse[\"what\"] = \"forse\""
   ]
  },
  {
   "cell_type": "code",
   "execution_count": 8,
   "metadata": {
    "colab": {},
    "colab_type": "code",
    "id": "p6UE2fTfWfAQ"
   },
   "outputs": [],
   "source": [
    "ricc = pd.concat((ricc_si, ricc_no, ricc_forse))\n",
    "ricc[\"is_ricc\"] = 1\n",
    "pk = pd.concat((pk_si, pk_no, pk_forse))\n",
    "pk[\"is_pk\"] = 1\n",
    "fede = pd.concat((fede_si, fede_no, fede_forse))\n",
    "fede[\"is_fede\"] = 1\n",
    "\n",
    "data_set = pd.concat((ricc, pk, fede), sort=False).fillna(0)"
   ]
  },
  {
   "cell_type": "code",
   "execution_count": 16,
   "metadata": {
    "colab": {},
    "colab_type": "code",
    "id": "dFbbNLKM2Yj0"
   },
   "outputs": [],
   "source": [
    "hk_si = pd.read_csv(path + 'extraTesting/Harshita_si.csv', header=None).drop(0, axis=1)\n",
    "hk_no = pd.read_csv(path + 'extraTesting/Harshita_no.csv', header=None).drop(0,axis=1)\n",
    "hk_forse = pd.read_csv(path + 'extraTesting/Harshita_forse.csv', header=None).drop(0,axis=1)\n",
    "hk_caso = pd.read_csv(path + 'extraTesting/Harshita_caso.csv', header=None).drop(0,axis=1)"
   ]
  },
  {
   "cell_type": "code",
   "execution_count": 9,
   "metadata": {
    "colab": {},
    "colab_type": "code",
    "id": "jkTMly2YD-Z4"
   },
   "outputs": [
    {
     "name": "stdout",
     "output_type": "stream",
     "text": [
      "(981, 88204)\n"
     ]
    },
    {
     "data": {
      "text/html": [
       "<div>\n",
       "<style scoped>\n",
       "    .dataframe tbody tr th:only-of-type {\n",
       "        vertical-align: middle;\n",
       "    }\n",
       "\n",
       "    .dataframe tbody tr th {\n",
       "        vertical-align: top;\n",
       "    }\n",
       "\n",
       "    .dataframe thead th {\n",
       "        text-align: right;\n",
       "    }\n",
       "</style>\n",
       "<table border=\"1\" class=\"dataframe\">\n",
       "  <thead>\n",
       "    <tr style=\"text-align: right;\">\n",
       "      <th></th>\n",
       "      <th>1</th>\n",
       "      <th>2</th>\n",
       "      <th>3</th>\n",
       "      <th>4</th>\n",
       "      <th>5</th>\n",
       "      <th>6</th>\n",
       "      <th>7</th>\n",
       "      <th>8</th>\n",
       "      <th>9</th>\n",
       "      <th>10</th>\n",
       "      <th>...</th>\n",
       "      <th>88195</th>\n",
       "      <th>88196</th>\n",
       "      <th>88197</th>\n",
       "      <th>88198</th>\n",
       "      <th>88199</th>\n",
       "      <th>88200</th>\n",
       "      <th>what</th>\n",
       "      <th>is_ricc</th>\n",
       "      <th>is_pk</th>\n",
       "      <th>is_fede</th>\n",
       "    </tr>\n",
       "  </thead>\n",
       "  <tbody>\n",
       "    <tr>\n",
       "      <th>0</th>\n",
       "      <td>-0.001343</td>\n",
       "      <td>-0.001373</td>\n",
       "      <td>-0.001434</td>\n",
       "      <td>-0.001526</td>\n",
       "      <td>-0.001678</td>\n",
       "      <td>-0.001709</td>\n",
       "      <td>-0.001709</td>\n",
       "      <td>-0.001953</td>\n",
       "      <td>-0.002350</td>\n",
       "      <td>-0.002655</td>\n",
       "      <td>...</td>\n",
       "      <td>0.000244</td>\n",
       "      <td>0.000153</td>\n",
       "      <td>0.000061</td>\n",
       "      <td>0.000000</td>\n",
       "      <td>0.000031</td>\n",
       "      <td>0.000122</td>\n",
       "      <td>si</td>\n",
       "      <td>1.0</td>\n",
       "      <td>0.0</td>\n",
       "      <td>0.0</td>\n",
       "    </tr>\n",
       "    <tr>\n",
       "      <th>1</th>\n",
       "      <td>0.002136</td>\n",
       "      <td>0.001770</td>\n",
       "      <td>0.001404</td>\n",
       "      <td>0.000977</td>\n",
       "      <td>0.000671</td>\n",
       "      <td>0.000397</td>\n",
       "      <td>-0.000031</td>\n",
       "      <td>-0.000336</td>\n",
       "      <td>-0.000397</td>\n",
       "      <td>-0.000275</td>\n",
       "      <td>...</td>\n",
       "      <td>0.000122</td>\n",
       "      <td>0.000000</td>\n",
       "      <td>-0.000092</td>\n",
       "      <td>-0.000183</td>\n",
       "      <td>-0.000305</td>\n",
       "      <td>-0.000366</td>\n",
       "      <td>si</td>\n",
       "      <td>1.0</td>\n",
       "      <td>0.0</td>\n",
       "      <td>0.0</td>\n",
       "    </tr>\n",
       "    <tr>\n",
       "      <th>2</th>\n",
       "      <td>-0.008911</td>\n",
       "      <td>-0.009491</td>\n",
       "      <td>-0.009979</td>\n",
       "      <td>-0.010498</td>\n",
       "      <td>-0.010986</td>\n",
       "      <td>-0.011353</td>\n",
       "      <td>-0.011780</td>\n",
       "      <td>-0.012177</td>\n",
       "      <td>-0.012512</td>\n",
       "      <td>-0.012756</td>\n",
       "      <td>...</td>\n",
       "      <td>-0.004700</td>\n",
       "      <td>-0.004913</td>\n",
       "      <td>-0.004974</td>\n",
       "      <td>-0.005035</td>\n",
       "      <td>-0.004944</td>\n",
       "      <td>-0.004730</td>\n",
       "      <td>si</td>\n",
       "      <td>1.0</td>\n",
       "      <td>0.0</td>\n",
       "      <td>0.0</td>\n",
       "    </tr>\n",
       "    <tr>\n",
       "      <th>3</th>\n",
       "      <td>-0.005829</td>\n",
       "      <td>-0.005646</td>\n",
       "      <td>-0.005280</td>\n",
       "      <td>-0.004852</td>\n",
       "      <td>-0.004425</td>\n",
       "      <td>-0.004028</td>\n",
       "      <td>-0.003693</td>\n",
       "      <td>-0.003326</td>\n",
       "      <td>-0.002960</td>\n",
       "      <td>-0.002563</td>\n",
       "      <td>...</td>\n",
       "      <td>0.001678</td>\n",
       "      <td>0.000763</td>\n",
       "      <td>0.000397</td>\n",
       "      <td>0.000366</td>\n",
       "      <td>0.000336</td>\n",
       "      <td>0.000031</td>\n",
       "      <td>si</td>\n",
       "      <td>1.0</td>\n",
       "      <td>0.0</td>\n",
       "      <td>0.0</td>\n",
       "    </tr>\n",
       "    <tr>\n",
       "      <th>4</th>\n",
       "      <td>-0.008179</td>\n",
       "      <td>-0.008362</td>\n",
       "      <td>-0.008453</td>\n",
       "      <td>-0.008514</td>\n",
       "      <td>-0.008392</td>\n",
       "      <td>-0.008209</td>\n",
       "      <td>-0.008118</td>\n",
       "      <td>-0.008118</td>\n",
       "      <td>-0.008240</td>\n",
       "      <td>-0.008392</td>\n",
       "      <td>...</td>\n",
       "      <td>0.000275</td>\n",
       "      <td>0.000214</td>\n",
       "      <td>0.000244</td>\n",
       "      <td>0.000214</td>\n",
       "      <td>0.000183</td>\n",
       "      <td>0.000244</td>\n",
       "      <td>si</td>\n",
       "      <td>1.0</td>\n",
       "      <td>0.0</td>\n",
       "      <td>0.0</td>\n",
       "    </tr>\n",
       "  </tbody>\n",
       "</table>\n",
       "<p>5 rows × 88204 columns</p>\n",
       "</div>"
      ],
      "text/plain": [
       "          1         2         3         4         5         6         7  \\\n",
       "0 -0.001343 -0.001373 -0.001434 -0.001526 -0.001678 -0.001709 -0.001709   \n",
       "1  0.002136  0.001770  0.001404  0.000977  0.000671  0.000397 -0.000031   \n",
       "2 -0.008911 -0.009491 -0.009979 -0.010498 -0.010986 -0.011353 -0.011780   \n",
       "3 -0.005829 -0.005646 -0.005280 -0.004852 -0.004425 -0.004028 -0.003693   \n",
       "4 -0.008179 -0.008362 -0.008453 -0.008514 -0.008392 -0.008209 -0.008118   \n",
       "\n",
       "          8         9        10  ...     88195     88196     88197     88198  \\\n",
       "0 -0.001953 -0.002350 -0.002655  ...  0.000244  0.000153  0.000061  0.000000   \n",
       "1 -0.000336 -0.000397 -0.000275  ...  0.000122  0.000000 -0.000092 -0.000183   \n",
       "2 -0.012177 -0.012512 -0.012756  ... -0.004700 -0.004913 -0.004974 -0.005035   \n",
       "3 -0.003326 -0.002960 -0.002563  ...  0.001678  0.000763  0.000397  0.000366   \n",
       "4 -0.008118 -0.008240 -0.008392  ...  0.000275  0.000214  0.000244  0.000214   \n",
       "\n",
       "      88199     88200  what  is_ricc  is_pk  is_fede  \n",
       "0  0.000031  0.000122    si      1.0    0.0      0.0  \n",
       "1 -0.000305 -0.000366    si      1.0    0.0      0.0  \n",
       "2 -0.004944 -0.004730    si      1.0    0.0      0.0  \n",
       "3  0.000336  0.000031    si      1.0    0.0      0.0  \n",
       "4  0.000183  0.000244    si      1.0    0.0      0.0  \n",
       "\n",
       "[5 rows x 88204 columns]"
      ]
     },
     "execution_count": 9,
     "metadata": {},
     "output_type": "execute_result"
    }
   ],
   "source": [
    "print(data_set.shape)\n",
    "data_set.head()"
   ]
  },
  {
   "cell_type": "code",
   "execution_count": 10,
   "metadata": {
    "colab": {},
    "colab_type": "code",
    "id": "zX5kDeShGaqT"
   },
   "outputs": [],
   "source": [
    "train, test = train_test_split(data_set, test_size=0.3)"
   ]
  },
  {
   "cell_type": "code",
   "execution_count": 11,
   "metadata": {
    "colab": {},
    "colab_type": "code",
    "id": "lJPIrvVrGakj"
   },
   "outputs": [
    {
     "name": "stdout",
     "output_type": "stream",
     "text": [
      "(686, 88200, 1)\n",
      "(295, 88200, 1)\n"
     ]
    }
   ],
   "source": [
    "X_train = train.drop(['what', 'is_fede','is_ricc','is_pk'],axis=1).values.reshape(-1,88200,1)\n",
    "X_test = test.drop(['what', 'is_fede','is_ricc','is_pk'],axis=1).values.reshape(-1,88200,1)\n",
    "print(X_train.shape)\n",
    "print(X_test.shape)"
   ]
  },
  {
   "cell_type": "code",
   "execution_count": 12,
   "metadata": {
    "colab": {},
    "colab_type": "code",
    "id": "bpIBwH5lwE7t"
   },
   "outputs": [
    {
     "name": "stdout",
     "output_type": "stream",
     "text": [
      "Max value: 0.999969482421875\n",
      "Min value: -1.0\n"
     ]
    }
   ],
   "source": [
    "print(\"Max value:\", max(np.max(X_train), np.max(X_train)))\n",
    "print(\"Min value:\", min(np.min(X_train), np.min(X_train)))"
   ]
  },
  {
   "cell_type": "code",
   "execution_count": 13,
   "metadata": {
    "colab": {},
    "colab_type": "code",
    "id": "h6eMGSYxkRt9"
   },
   "outputs": [],
   "source": [
    "y_what_train = train['what'].values.reshape(-1,1)\n",
    "y_what_test = test['what'].values.reshape(-1,1)\n",
    "\n",
    "y_is_fede_train = train['is_fede'].values#.reshape(-1,1)\n",
    "y_is_ricc_train = train['is_ricc'].values#.reshape(-1,1)\n",
    "y_is_pk_train = train['is_pk'].values#.reshape(-1,1)\n",
    "\n",
    "y_is_fede_test = test['is_fede'].values#.reshape(-1,1)\n",
    "y_is_ricc_test = test['is_ricc'].values#.reshape(-1,1)\n",
    "y_is_pk_test = test['is_pk'].values#.reshape(-1,1)"
   ]
  },
  {
   "cell_type": "code",
   "execution_count": 14,
   "metadata": {
    "colab": {},
    "colab_type": "code",
    "id": "WIgfCw5jr5Cv"
   },
   "outputs": [
    {
     "name": "stdout",
     "output_type": "stream",
     "text": [
      "[[0. 0. 1.]\n",
      " [0. 1. 0.]\n",
      " [1. 0. 0.]]\n"
     ]
    }
   ],
   "source": [
    "what_encoder = OneHotEncoder()\n",
    "print(what_encoder.fit_transform(np.array(['si','no','forse']).reshape(-1,1)).toarray())\n",
    "\n",
    "#forse = [1,0,0]\n",
    "#no = [0,1,0]\n",
    "#si = [0,0,1]\n",
    "\n",
    "y_what_train = what_encoder.transform(y_what_train).toarray()\n",
    "y_what_test = what_encoder.transform(y_what_test).toarray()"
   ]
  },
  {
   "cell_type": "markdown",
   "metadata": {
    "colab_type": "text",
    "id": "H9YRiUW8U_1T"
   },
   "source": [
    "## Feature extraction for simpler model"
   ]
  },
  {
   "cell_type": "code",
   "execution_count": 26,
   "metadata": {
    "colab": {},
    "colab_type": "code",
    "id": "0d72I4mEOPG5"
   },
   "outputs": [],
   "source": [
    "def energy(input):\n",
    "    return np.sum((input*1.0)**2, keepdims=True)\n",
    "\n",
    "def sdev(input):\n",
    "    return np.std(input, keepdims=True)\n",
    "\n",
    "def aavg(input):\n",
    "    return np.mean(np.abs(input), keepdims=True)\n",
    "\n",
    "def extract_feature(X, sample_rate=88200):\n",
    "    X = X.reshape(sample_rate,)\n",
    "    stft = np.abs(librosa.stft(X))\n",
    "    mfccs = np.mean(librosa.feature.mfcc(y=X*1.0, sr=sample_rate, n_mfcc=40).T,axis=0)\n",
    "    chroma = np.mean(librosa.feature.chroma_stft(S=stft, sr=sample_rate).T,axis=0)\n",
    "    mel = np.mean(librosa.feature.melspectrogram(X, sr=sample_rate).T,axis=0)\n",
    "    contrast = np.mean(librosa.feature.spectral_contrast(S=stft, sr=sample_rate).T,axis=0)\n",
    "    tonnetz = np.mean(librosa.feature.tonnetz(y=librosa.effects.harmonic(X),\n",
    "    sr=sample_rate).T,axis=0)\n",
    "    #zcr = librosa.feature.zero_crossing_rate(X)\n",
    "    ene = energy(X)\n",
    "    sd = sdev(X)\n",
    "    avg = aavg(X)\n",
    "    return np.concatenate((mfccs,chroma,mel,contrast,tonnetz,ene,sd,avg))"
   ]
  },
  {
   "cell_type": "code",
   "execution_count": 27,
   "metadata": {},
   "outputs": [
    {
     "name": "stdout",
     "output_type": "stream",
     "text": [
      "CPU times: user 20min, sys: 1min 2s, total: 21min 3s\n",
      "Wall time: 5min 24s\n"
     ]
    }
   ],
   "source": [
    "%%time\n",
    "X_train_features = np.array(list(map(extract_feature, X_train)))\n",
    "X_test_features = np.array(list(map(extract_feature, X_test)))"
   ]
  },
  {
   "cell_type": "markdown",
   "metadata": {
    "colab_type": "text",
    "id": "AKbCUr8GVLLT"
   },
   "source": [
    "## Simple model"
   ]
  },
  {
   "cell_type": "code",
   "execution_count": 66,
   "metadata": {
    "colab": {},
    "colab_type": "code",
    "id": "779oisfKVKTz"
   },
   "outputs": [],
   "source": [
    "inp = Input(shape=(X_train_features.shape[1],))\n",
    "\n",
    "x_what = Dense(256, activation='relu')(inp)\n",
    "x_what = Dense(256, activation='relu')(x_what)\n",
    "\n",
    "out_what = Dense(3, activation='softmax', name='what')(x_what)\n",
    "\n",
    "x_who_r = Dense(256, activation='relu')(inp)\n",
    "x_who_r = Dense(256, activation='relu')(x_who_r)\n",
    "\n",
    "out_who_r = Dense(1, activation='sigmoid', name='riccardo')(x_who_r)\n",
    "\n",
    "x_who_p = Dense(256, activation='relu')(inp)\n",
    "x_who_p = Dense(256, activation='relu')(x_who_p)\n",
    "\n",
    "out_who_p = Dense(1, activation='sigmoid', name='pranav')(x_who_p)\n",
    "\n",
    "x_who_f = Dense(256, activation='relu')(inp)\n",
    "x_who_f = Dense(256, activation='relu')(x_who_f)\n",
    "\n",
    "out_who_f = Dense(1, activation='sigmoid', name='federico')(x_who_f)\n",
    "\n",
    "model = Model(inp, [out_what,\n",
    "                    out_who_r,\n",
    "                    out_who_f,\n",
    "                    out_who_p])\n",
    "\n",
    "losses = {\n",
    "    \"what\": \"categorical_crossentropy\",\n",
    "    \"riccardo\": \"binary_crossentropy\",\n",
    "    \"pranav\": \"binary_crossentropy\",\n",
    "    \"federico\": \"binary_crossentropy\"\n",
    "}\n",
    "\n",
    "model.compile(loss=losses,\n",
    "             optimizer='Adam',\n",
    "             metrics=['accuracy'])"
   ]
  },
  {
   "cell_type": "code",
   "execution_count": 67,
   "metadata": {
    "colab": {
     "base_uri": "https://localhost:8080/",
     "height": 1000
    },
    "colab_type": "code",
    "id": "YjF8mKwTYASd",
    "outputId": "bed9b5b9-b5e3-4198-fd62-5eec9d83151d"
   },
   "outputs": [
    {
     "name": "stdout",
     "output_type": "stream",
     "text": [
      "Train on 686 samples, validate on 295 samples\n",
      "Epoch 1/100\n",
      "686/686 [==============================] - 2s 2ms/sample - loss: 46.3177 - what_loss: 27.0476 - riccardo_loss: 11.3902 - federico_loss: 4.4887 - pranav_loss: 3.9337 - what_accuracy: 0.3499 - riccardo_accuracy: 0.6283 - federico_accuracy: 0.8236 - pranav_accuracy: 0.7711 - val_loss: 13.0593 - val_what_loss: 6.3912 - val_riccardo_loss: 4.6223 - val_federico_loss: 0.0031 - val_pranav_loss: 1.6491 - val_what_accuracy: 0.4847 - val_riccardo_accuracy: 0.7356 - val_federico_accuracy: 1.0000 - val_pranav_accuracy: 0.8475\n",
      "Epoch 2/100\n",
      "686/686 [==============================] - 0s 358us/sample - loss: 6.9929 - what_loss: 4.6738 - riccardo_loss: 1.4709 - federico_loss: 0.1573 - pranav_loss: 0.5987 - what_accuracy: 0.5539 - riccardo_accuracy: 0.8120 - federico_accuracy: 0.9825 - pranav_accuracy: 0.9023 - val_loss: 4.1378 - val_what_loss: 2.0700 - val_riccardo_loss: 1.5460 - val_federico_loss: 0.0803 - val_pranav_loss: 0.5001 - val_what_accuracy: 0.6949 - val_riccardo_accuracy: 0.9254 - val_federico_accuracy: 0.9763 - val_pranav_accuracy: 0.9119\n",
      "Epoch 3/100\n",
      "686/686 [==============================] - 0s 380us/sample - loss: 3.1275 - what_loss: 2.1683 - riccardo_loss: 0.7997 - federico_loss: 0.0207 - pranav_loss: 0.1269 - what_accuracy: 0.6939 - riccardo_accuracy: 0.9009 - federico_accuracy: 0.9942 - pranav_accuracy: 0.9621 - val_loss: 2.7034 - val_what_loss: 1.6823 - val_riccardo_loss: 0.6547 - val_federico_loss: 2.1417e-06 - val_pranav_loss: 0.1604 - val_what_accuracy: 0.7627 - val_riccardo_accuracy: 0.8373 - val_federico_accuracy: 1.0000 - val_pranav_accuracy: 0.9729\n",
      "Epoch 4/100\n",
      "686/686 [==============================] - 0s 355us/sample - loss: 1.6416 - what_loss: 1.4475 - riccardo_loss: 0.1380 - federico_loss: 0.0074 - pranav_loss: 0.0198 - what_accuracy: 0.7930 - riccardo_accuracy: 0.9504 - federico_accuracy: 0.9985 - pranav_accuracy: 0.9956 - val_loss: 0.7005 - val_what_loss: 0.5681 - val_riccardo_loss: 0.0825 - val_federico_loss: 1.3801e-06 - val_pranav_loss: 0.1020 - val_what_accuracy: 0.8475 - val_riccardo_accuracy: 0.9797 - val_federico_accuracy: 1.0000 - val_pranav_accuracy: 0.9831\n",
      "Epoch 5/100\n",
      "686/686 [==============================] - 0s 353us/sample - loss: 0.6488 - what_loss: 0.6629 - riccardo_loss: 0.0167 - federico_loss: 2.1520e-07 - pranav_loss: 0.0282 - what_accuracy: 0.8863 - riccardo_accuracy: 0.9942 - federico_accuracy: 1.0000 - pranav_accuracy: 0.9927 - val_loss: 0.6400 - val_what_loss: 0.5370 - val_riccardo_loss: 0.0352 - val_federico_loss: 9.0740e-09 - val_pranav_loss: 0.0636 - val_what_accuracy: 0.8542 - val_riccardo_accuracy: 0.9898 - val_federico_accuracy: 1.0000 - val_pranav_accuracy: 0.9831\n",
      "Epoch 6/100\n",
      "686/686 [==============================] - 0s 396us/sample - loss: 2.0106 - what_loss: 1.9361 - riccardo_loss: 0.0084 - federico_loss: 3.4777e-07 - pranav_loss: 0.0369 - what_accuracy: 0.8032 - riccardo_accuracy: 0.9971 - federico_accuracy: 1.0000 - pranav_accuracy: 0.9883 - val_loss: 0.4520 - val_what_loss: 0.3540 - val_riccardo_loss: 0.0465 - val_federico_loss: 8.3853e-09 - val_pranav_loss: 0.0634 - val_what_accuracy: 0.8915 - val_riccardo_accuracy: 0.9864 - val_federico_accuracy: 1.0000 - val_pranav_accuracy: 0.9695\n",
      "Epoch 7/100\n",
      "686/686 [==============================] - 0s 387us/sample - loss: 0.9324 - what_loss: 0.8944 - riccardo_loss: 0.0077 - federico_loss: 3.5931e-07 - pranav_loss: 0.0065 - what_accuracy: 0.8557 - riccardo_accuracy: 0.9985 - federico_accuracy: 1.0000 - pranav_accuracy: 0.9971 - val_loss: 0.5380 - val_what_loss: 0.4153 - val_riccardo_loss: 0.0354 - val_federico_loss: 7.0669e-09 - val_pranav_loss: 0.0457 - val_what_accuracy: 0.8881 - val_riccardo_accuracy: 0.9898 - val_federico_accuracy: 1.0000 - val_pranav_accuracy: 0.9864\n",
      "Epoch 8/100\n",
      "686/686 [==============================] - 0s 354us/sample - loss: 0.4371 - what_loss: 0.4252 - riccardo_loss: 0.0054 - federico_loss: 3.4424e-07 - pranav_loss: 0.0042 - what_accuracy: 0.9242 - riccardo_accuracy: 1.0000 - federico_accuracy: 1.0000 - pranav_accuracy: 0.9985 - val_loss: 1.3252 - val_what_loss: 1.1165 - val_riccardo_loss: 0.0332 - val_federico_loss: 6.6436e-09 - val_pranav_loss: 0.0729 - val_what_accuracy: 0.8746 - val_riccardo_accuracy: 0.9898 - val_federico_accuracy: 1.0000 - val_pranav_accuracy: 0.9864\n",
      "Epoch 9/100\n",
      "686/686 [==============================] - 0s 366us/sample - loss: 0.6800 - what_loss: 0.6765 - riccardo_loss: 0.0042 - federico_loss: 3.2939e-07 - pranav_loss: 0.0016 - what_accuracy: 0.8965 - riccardo_accuracy: 1.0000 - federico_accuracy: 1.0000 - pranav_accuracy: 1.0000 - val_loss: 0.6483 - val_what_loss: 0.5203 - val_riccardo_loss: 0.0306 - val_federico_loss: 5.8755e-09 - val_pranav_loss: 0.0469 - val_what_accuracy: 0.8780 - val_riccardo_accuracy: 0.9898 - val_federico_accuracy: 1.0000 - val_pranav_accuracy: 0.9932\n",
      "Epoch 10/100\n",
      "686/686 [==============================] - 0s 366us/sample - loss: 0.1208 - what_loss: 0.1142 - riccardo_loss: 0.0028 - federico_loss: 3.1473e-07 - pranav_loss: 0.0010 - what_accuracy: 0.9723 - riccardo_accuracy: 1.0000 - federico_accuracy: 1.0000 - pranav_accuracy: 1.0000 - val_loss: 0.2421 - val_what_loss: 0.1506 - val_riccardo_loss: 0.0307 - val_federico_loss: 5.2623e-09 - val_pranav_loss: 0.0435 - val_what_accuracy: 0.9661 - val_riccardo_accuracy: 0.9898 - val_federico_accuracy: 1.0000 - val_pranav_accuracy: 0.9864\n",
      "Epoch 11/100\n",
      "686/686 [==============================] - 0s 355us/sample - loss: 0.3101 - what_loss: 0.2991 - riccardo_loss: 0.0026 - federico_loss: 2.9786e-07 - pranav_loss: 8.7145e-04 - what_accuracy: 0.9621 - riccardo_accuracy: 1.0000 - federico_accuracy: 1.0000 - pranav_accuracy: 1.0000 - val_loss: 0.2654 - val_what_loss: 0.1664 - val_riccardo_loss: 0.0305 - val_federico_loss: 4.9943e-09 - val_pranav_loss: 0.0481 - val_what_accuracy: 0.9593 - val_riccardo_accuracy: 0.9898 - val_federico_accuracy: 1.0000 - val_pranav_accuracy: 0.9864\n",
      "Epoch 12/100\n",
      "686/686 [==============================] - 0s 350us/sample - loss: 0.0860 - what_loss: 0.0812 - riccardo_loss: 0.0021 - federico_loss: 2.8580e-07 - pranav_loss: 8.3298e-04 - what_accuracy: 0.9898 - riccardo_accuracy: 1.0000 - federico_accuracy: 1.0000 - pranav_accuracy: 1.0000 - val_loss: 0.2141 - val_what_loss: 0.1242 - val_riccardo_loss: 0.0303 - val_federico_loss: 4.6145e-09 - val_pranav_loss: 0.0445 - val_what_accuracy: 0.9695 - val_riccardo_accuracy: 0.9898 - val_federico_accuracy: 1.0000 - val_pranav_accuracy: 0.9864\n",
      "Epoch 13/100\n",
      "686/686 [==============================] - 0s 367us/sample - loss: 0.0157 - what_loss: 0.0122 - riccardo_loss: 0.0023 - federico_loss: 2.7605e-07 - pranav_loss: 9.1259e-04 - what_accuracy: 0.9956 - riccardo_accuracy: 1.0000 - federico_accuracy: 1.0000 - pranav_accuracy: 1.0000 - val_loss: 0.2446 - val_what_loss: 0.1549 - val_riccardo_loss: 0.0297 - val_federico_loss: 4.2570e-09 - val_pranav_loss: 0.0414 - val_what_accuracy: 0.9661 - val_riccardo_accuracy: 0.9898 - val_federico_accuracy: 1.0000 - val_pranav_accuracy: 0.9898\n",
      "Epoch 14/100\n",
      "686/686 [==============================] - 0s 354us/sample - loss: 0.0235 - what_loss: 0.0202 - riccardo_loss: 0.0021 - federico_loss: 2.6295e-07 - pranav_loss: 8.8384e-04 - what_accuracy: 0.9942 - riccardo_accuracy: 1.0000 - federico_accuracy: 1.0000 - pranav_accuracy: 1.0000 - val_loss: 0.2853 - val_what_loss: 0.1963 - val_riccardo_loss: 0.0290 - val_federico_loss: 4.0290e-09 - val_pranav_loss: 0.0402 - val_what_accuracy: 0.9559 - val_riccardo_accuracy: 0.9898 - val_federico_accuracy: 1.0000 - val_pranav_accuracy: 0.9898\n",
      "Epoch 15/100\n",
      "686/686 [==============================] - 0s 359us/sample - loss: 0.0231 - what_loss: 0.0198 - riccardo_loss: 0.0018 - federico_loss: 2.5239e-07 - pranav_loss: 9.4947e-04 - what_accuracy: 0.9956 - riccardo_accuracy: 1.0000 - federico_accuracy: 1.0000 - pranav_accuracy: 1.0000 - val_loss: 0.2014 - val_what_loss: 0.1210 - val_riccardo_loss: 0.0274 - val_federico_loss: 3.9067e-09 - val_pranav_loss: 0.0406 - val_what_accuracy: 0.9695 - val_riccardo_accuracy: 0.9898 - val_federico_accuracy: 1.0000 - val_pranav_accuracy: 0.9898\n",
      "Epoch 16/100\n"
     ]
    },
    {
     "name": "stdout",
     "output_type": "stream",
     "text": [
      "686/686 [==============================] - 0s 363us/sample - loss: 0.0104 - what_loss: 0.0082 - riccardo_loss: 0.0016 - federico_loss: 2.4483e-07 - pranav_loss: 8.8307e-04 - what_accuracy: 0.9985 - riccardo_accuracy: 1.0000 - federico_accuracy: 1.0000 - pranav_accuracy: 1.0000 - val_loss: 0.2174 - val_what_loss: 0.1250 - val_riccardo_loss: 0.0315 - val_federico_loss: 3.6795e-09 - val_pranav_loss: 0.0441 - val_what_accuracy: 0.9695 - val_riccardo_accuracy: 0.9898 - val_federico_accuracy: 1.0000 - val_pranav_accuracy: 0.9898\n",
      "Epoch 17/100\n",
      "686/686 [==============================] - 0s 364us/sample - loss: 0.0055 - what_loss: 0.0033 - riccardo_loss: 0.0015 - federico_loss: 2.3549e-07 - pranav_loss: 7.5866e-04 - what_accuracy: 1.0000 - riccardo_accuracy: 1.0000 - federico_accuracy: 1.0000 - pranav_accuracy: 1.0000 - val_loss: 0.1979 - val_what_loss: 0.1094 - val_riccardo_loss: 0.0294 - val_federico_loss: 3.5074e-09 - val_pranav_loss: 0.0437 - val_what_accuracy: 0.9763 - val_riccardo_accuracy: 0.9898 - val_federico_accuracy: 1.0000 - val_pranav_accuracy: 0.9898\n",
      "Epoch 18/100\n",
      "686/686 [==============================] - 0s 373us/sample - loss: 0.0052 - what_loss: 0.0030 - riccardo_loss: 0.0016 - federico_loss: 2.3086e-07 - pranav_loss: 8.5500e-04 - what_accuracy: 1.0000 - riccardo_accuracy: 1.0000 - federico_accuracy: 1.0000 - pranav_accuracy: 1.0000 - val_loss: 0.1873 - val_what_loss: 0.1072 - val_riccardo_loss: 0.0263 - val_federico_loss: 3.3900e-09 - val_pranav_loss: 0.0395 - val_what_accuracy: 0.9763 - val_riccardo_accuracy: 0.9898 - val_federico_accuracy: 1.0000 - val_pranav_accuracy: 0.9898\n",
      "Epoch 19/100\n",
      "686/686 [==============================] - 0s 354us/sample - loss: 0.0047 - what_loss: 0.0028 - riccardo_loss: 0.0014 - federico_loss: 2.1849e-07 - pranav_loss: 6.0753e-04 - what_accuracy: 1.0000 - riccardo_accuracy: 1.0000 - federico_accuracy: 1.0000 - pranav_accuracy: 1.0000 - val_loss: 0.2039 - val_what_loss: 0.1081 - val_riccardo_loss: 0.0303 - val_federico_loss: 3.3119e-09 - val_pranav_loss: 0.0498 - val_what_accuracy: 0.9797 - val_riccardo_accuracy: 0.9932 - val_federico_accuracy: 1.0000 - val_pranav_accuracy: 0.9864\n",
      "Epoch 20/100\n",
      "686/686 [==============================] - 0s 358us/sample - loss: 0.0064 - what_loss: 0.0045 - riccardo_loss: 0.0012 - federico_loss: 2.1199e-07 - pranav_loss: 5.9554e-04 - what_accuracy: 1.0000 - riccardo_accuracy: 1.0000 - federico_accuracy: 1.0000 - pranav_accuracy: 1.0000 - val_loss: 0.1858 - val_what_loss: 0.1069 - val_riccardo_loss: 0.0260 - val_federico_loss: 3.1826e-09 - val_pranav_loss: 0.0385 - val_what_accuracy: 0.9797 - val_riccardo_accuracy: 0.9898 - val_federico_accuracy: 1.0000 - val_pranav_accuracy: 0.9898\n",
      "Epoch 21/100\n",
      "686/686 [==============================] - 0s 358us/sample - loss: 0.0111 - what_loss: 0.0088 - riccardo_loss: 0.0015 - federico_loss: 2.0457e-07 - pranav_loss: 6.4662e-04 - what_accuracy: 0.9971 - riccardo_accuracy: 1.0000 - federico_accuracy: 1.0000 - pranav_accuracy: 1.0000 - val_loss: 0.2013 - val_what_loss: 0.1170 - val_riccardo_loss: 0.0260 - val_federico_loss: 3.0882e-09 - val_pranav_loss: 0.0427 - val_what_accuracy: 0.9797 - val_riccardo_accuracy: 0.9898 - val_federico_accuracy: 1.0000 - val_pranav_accuracy: 0.9898\n",
      "Epoch 22/100\n",
      "686/686 [==============================] - 0s 352us/sample - loss: 0.0050 - what_loss: 0.0034 - riccardo_loss: 0.0011 - federico_loss: 1.9793e-07 - pranav_loss: 5.4339e-04 - what_accuracy: 1.0000 - riccardo_accuracy: 1.0000 - federico_accuracy: 1.0000 - pranav_accuracy: 1.0000 - val_loss: 0.2086 - val_what_loss: 0.1163 - val_riccardo_loss: 0.0289 - val_federico_loss: 3.0353e-09 - val_pranav_loss: 0.0474 - val_what_accuracy: 0.9763 - val_riccardo_accuracy: 0.9932 - val_federico_accuracy: 1.0000 - val_pranav_accuracy: 0.9831\n",
      "Epoch 23/100\n",
      "686/686 [==============================] - 0s 365us/sample - loss: 0.0036 - what_loss: 0.0020 - riccardo_loss: 0.0011 - federico_loss: 1.9172e-07 - pranav_loss: 5.6465e-04 - what_accuracy: 1.0000 - riccardo_accuracy: 1.0000 - federico_accuracy: 1.0000 - pranav_accuracy: 1.0000 - val_loss: 0.2091 - val_what_loss: 0.1161 - val_riccardo_loss: 0.0297 - val_federico_loss: 2.9721e-09 - val_pranav_loss: 0.0472 - val_what_accuracy: 0.9797 - val_riccardo_accuracy: 0.9932 - val_federico_accuracy: 1.0000 - val_pranav_accuracy: 0.9831\n",
      "Epoch 24/100\n",
      "686/686 [==============================] - 0s 529us/sample - loss: 0.0034 - what_loss: 0.0016 - riccardo_loss: 0.0011 - federico_loss: 1.8770e-07 - pranav_loss: 8.2027e-04 - what_accuracy: 1.0000 - riccardo_accuracy: 1.0000 - federico_accuracy: 1.0000 - pranav_accuracy: 1.0000 - val_loss: 0.2000 - val_what_loss: 0.1183 - val_riccardo_loss: 0.0268 - val_federico_loss: 2.8785e-09 - val_pranav_loss: 0.0395 - val_what_accuracy: 0.9763 - val_riccardo_accuracy: 0.9898 - val_federico_accuracy: 1.0000 - val_pranav_accuracy: 0.9898\n",
      "Epoch 25/100\n",
      "686/686 [==============================] - 0s 532us/sample - loss: 0.0031 - what_loss: 0.0016 - riccardo_loss: 9.1286e-04 - federico_loss: 1.8614e-07 - pranav_loss: 6.8943e-04 - what_accuracy: 1.0000 - riccardo_accuracy: 1.0000 - federico_accuracy: 1.0000 - pranav_accuracy: 1.0000 - val_loss: 0.1981 - val_what_loss: 0.1176 - val_riccardo_loss: 0.0278 - val_federico_loss: 2.8222e-09 - val_pranav_loss: 0.0375 - val_what_accuracy: 0.9729 - val_riccardo_accuracy: 0.9932 - val_federico_accuracy: 1.0000 - val_pranav_accuracy: 0.9898\n",
      "Epoch 26/100\n",
      "686/686 [==============================] - 0s 402us/sample - loss: 0.0031 - what_loss: 0.0016 - riccardo_loss: 9.2766e-04 - federico_loss: 2.3543e-07 - pranav_loss: 6.8390e-04 - what_accuracy: 1.0000 - riccardo_accuracy: 1.0000 - federico_accuracy: 1.0000 - pranav_accuracy: 1.0000 - val_loss: 0.1940 - val_what_loss: 0.1149 - val_riccardo_loss: 0.0250 - val_federico_loss: 2.7788e-09 - val_pranav_loss: 0.0393 - val_what_accuracy: 0.9797 - val_riccardo_accuracy: 0.9898 - val_federico_accuracy: 1.0000 - val_pranav_accuracy: 0.9898\n",
      "Epoch 27/100\n",
      "686/686 [==============================] - 0s 376us/sample - loss: 0.0031 - what_loss: 0.0015 - riccardo_loss: 9.5272e-04 - federico_loss: 1.6908e-07 - pranav_loss: 5.7448e-04 - what_accuracy: 1.0000 - riccardo_accuracy: 1.0000 - federico_accuracy: 1.0000 - pranav_accuracy: 1.0000 - val_loss: 0.1938 - val_what_loss: 0.1162 - val_riccardo_loss: 0.0255 - val_federico_loss: 2.7270e-09 - val_pranav_loss: 0.0372 - val_what_accuracy: 0.9763 - val_riccardo_accuracy: 0.9898 - val_federico_accuracy: 1.0000 - val_pranav_accuracy: 0.9898\n",
      "Epoch 28/100\n",
      "686/686 [==============================] - 0s 512us/sample - loss: 0.0029 - what_loss: 0.0013 - riccardo_loss: 9.5828e-04 - federico_loss: 1.6371e-07 - pranav_loss: 5.3343e-04 - what_accuracy: 1.0000 - riccardo_accuracy: 1.0000 - federico_accuracy: 1.0000 - pranav_accuracy: 1.0000 - val_loss: 0.1912 - val_what_loss: 0.1132 - val_riccardo_loss: 0.0245 - val_federico_loss: 2.6878e-09 - val_pranav_loss: 0.0387 - val_what_accuracy: 0.9797 - val_riccardo_accuracy: 0.9898 - val_federico_accuracy: 1.0000 - val_pranav_accuracy: 0.9898\n",
      "Epoch 29/100\n",
      "686/686 [==============================] - 0s 510us/sample - loss: 0.0026 - what_loss: 0.0013 - riccardo_loss: 8.3097e-04 - federico_loss: 2.3807e-07 - pranav_loss: 4.7337e-04 - what_accuracy: 1.0000 - riccardo_accuracy: 1.0000 - federico_accuracy: 1.0000 - pranav_accuracy: 1.0000 - val_loss: 0.2007 - val_what_loss: 0.1171 - val_riccardo_loss: 0.0265 - val_federico_loss: 2.6605e-09 - val_pranav_loss: 0.0417 - val_what_accuracy: 0.9763 - val_riccardo_accuracy: 0.9932 - val_federico_accuracy: 1.0000 - val_pranav_accuracy: 0.9898\n",
      "Epoch 30/100\n",
      "686/686 [==============================] - 0s 505us/sample - loss: 0.0025 - what_loss: 0.0014 - riccardo_loss: 7.0575e-04 - federico_loss: 1.5340e-07 - pranav_loss: 3.9876e-04 - what_accuracy: 1.0000 - riccardo_accuracy: 1.0000 - federico_accuracy: 1.0000 - pranav_accuracy: 1.0000 - val_loss: 0.2032 - val_what_loss: 0.1143 - val_riccardo_loss: 0.0291 - val_federico_loss: 2.5983e-09 - val_pranav_loss: 0.0443 - val_what_accuracy: 0.9797 - val_riccardo_accuracy: 0.9932 - val_federico_accuracy: 1.0000 - val_pranav_accuracy: 0.9831\n",
      "Epoch 31/100\n"
     ]
    },
    {
     "name": "stdout",
     "output_type": "stream",
     "text": [
      "686/686 [==============================] - 0s 402us/sample - loss: 0.0024 - what_loss: 0.0013 - riccardo_loss: 7.4321e-04 - federico_loss: 1.4846e-07 - pranav_loss: 4.4787e-04 - what_accuracy: 1.0000 - riccardo_accuracy: 1.0000 - federico_accuracy: 1.0000 - pranav_accuracy: 1.0000 - val_loss: 0.1957 - val_what_loss: 0.1162 - val_riccardo_loss: 0.0252 - val_federico_loss: 2.5788e-09 - val_pranav_loss: 0.0393 - val_what_accuracy: 0.9797 - val_riccardo_accuracy: 0.9932 - val_federico_accuracy: 1.0000 - val_pranav_accuracy: 0.9898\n",
      "Epoch 32/100\n",
      "686/686 [==============================] - 0s 357us/sample - loss: 0.0023 - what_loss: 0.0012 - riccardo_loss: 7.4599e-04 - federico_loss: 1.4535e-07 - pranav_loss: 4.3646e-04 - what_accuracy: 1.0000 - riccardo_accuracy: 1.0000 - federico_accuracy: 1.0000 - pranav_accuracy: 1.0000 - val_loss: 0.2084 - val_what_loss: 0.1163 - val_riccardo_loss: 0.0292 - val_federico_loss: 2.5452e-09 - val_pranav_loss: 0.0469 - val_what_accuracy: 0.9797 - val_riccardo_accuracy: 0.9932 - val_federico_accuracy: 1.0000 - val_pranav_accuracy: 0.9864\n",
      "Epoch 33/100\n",
      "686/686 [==============================] - 0s 347us/sample - loss: 0.0023 - what_loss: 0.0012 - riccardo_loss: 6.9305e-04 - federico_loss: 1.4098e-07 - pranav_loss: 4.0147e-04 - what_accuracy: 1.0000 - riccardo_accuracy: 1.0000 - federico_accuracy: 1.0000 - pranav_accuracy: 1.0000 - val_loss: 0.2082 - val_what_loss: 0.1159 - val_riccardo_loss: 0.0285 - val_federico_loss: 2.5229e-09 - val_pranav_loss: 0.0479 - val_what_accuracy: 0.9797 - val_riccardo_accuracy: 0.9932 - val_federico_accuracy: 1.0000 - val_pranav_accuracy: 0.9864\n",
      "Epoch 34/100\n",
      "686/686 [==============================] - 0s 439us/sample - loss: 0.0022 - what_loss: 0.0012 - riccardo_loss: 6.1731e-04 - federico_loss: 1.3760e-07 - pranav_loss: 3.6861e-04 - what_accuracy: 1.0000 - riccardo_accuracy: 1.0000 - federico_accuracy: 1.0000 - pranav_accuracy: 1.0000 - val_loss: 0.2003 - val_what_loss: 0.1132 - val_riccardo_loss: 0.0270 - val_federico_loss: 2.5102e-09 - val_pranav_loss: 0.0447 - val_what_accuracy: 0.9797 - val_riccardo_accuracy: 0.9932 - val_federico_accuracy: 1.0000 - val_pranav_accuracy: 0.9831\n",
      "Epoch 35/100\n",
      "686/686 [==============================] - 0s 369us/sample - loss: 0.0021 - what_loss: 0.0011 - riccardo_loss: 6.0988e-04 - federico_loss: 1.3444e-07 - pranav_loss: 3.3026e-04 - what_accuracy: 1.0000 - riccardo_accuracy: 1.0000 - federico_accuracy: 1.0000 - pranav_accuracy: 1.0000 - val_loss: 0.1983 - val_what_loss: 0.1128 - val_riccardo_loss: 0.0263 - val_federico_loss: 2.4910e-09 - val_pranav_loss: 0.0439 - val_what_accuracy: 0.9797 - val_riccardo_accuracy: 0.9932 - val_federico_accuracy: 1.0000 - val_pranav_accuracy: 0.9864\n",
      "Epoch 36/100\n",
      "686/686 [==============================] - 0s 515us/sample - loss: 0.0022 - what_loss: 0.0012 - riccardo_loss: 6.8422e-04 - federico_loss: 1.3140e-07 - pranav_loss: 3.7798e-04 - what_accuracy: 1.0000 - riccardo_accuracy: 1.0000 - federico_accuracy: 1.0000 - pranav_accuracy: 1.0000 - val_loss: 0.1845 - val_what_loss: 0.1137 - val_riccardo_loss: 0.0217 - val_federico_loss: 2.4737e-09 - val_pranav_loss: 0.0349 - val_what_accuracy: 0.9797 - val_riccardo_accuracy: 0.9898 - val_federico_accuracy: 1.0000 - val_pranav_accuracy: 0.9898\n",
      "Epoch 37/100\n",
      "686/686 [==============================] - 0s 369us/sample - loss: 0.0028 - what_loss: 0.0012 - riccardo_loss: 0.0010 - federico_loss: 1.2790e-07 - pranav_loss: 6.6881e-04 - what_accuracy: 1.0000 - riccardo_accuracy: 1.0000 - federico_accuracy: 1.0000 - pranav_accuracy: 1.0000 - val_loss: 0.1991 - val_what_loss: 0.1158 - val_riccardo_loss: 0.0247 - val_federico_loss: 2.4651e-09 - val_pranav_loss: 0.0433 - val_what_accuracy: 0.9797 - val_riccardo_accuracy: 0.9932 - val_federico_accuracy: 1.0000 - val_pranav_accuracy: 0.9932\n",
      "Epoch 38/100\n",
      "686/686 [==============================] - 0s 325us/sample - loss: 0.0021 - what_loss: 0.0011 - riccardo_loss: 6.2946e-04 - federico_loss: 1.2580e-07 - pranav_loss: 3.3367e-04 - what_accuracy: 1.0000 - riccardo_accuracy: 1.0000 - federico_accuracy: 1.0000 - pranav_accuracy: 1.0000 - val_loss: 0.1952 - val_what_loss: 0.1101 - val_riccardo_loss: 0.0262 - val_federico_loss: 2.4492e-09 - val_pranav_loss: 0.0438 - val_what_accuracy: 0.9797 - val_riccardo_accuracy: 0.9932 - val_federico_accuracy: 1.0000 - val_pranav_accuracy: 0.9898\n",
      "Epoch 39/100\n",
      "686/686 [==============================] - 0s 336us/sample - loss: 0.0020 - what_loss: 0.0012 - riccardo_loss: 5.0218e-04 - federico_loss: 1.2225e-07 - pranav_loss: 2.8614e-04 - what_accuracy: 1.0000 - riccardo_accuracy: 1.0000 - federico_accuracy: 1.0000 - pranav_accuracy: 1.0000 - val_loss: 0.2011 - val_what_loss: 0.1168 - val_riccardo_loss: 0.0249 - val_federico_loss: 2.4447e-09 - val_pranav_loss: 0.0440 - val_what_accuracy: 0.9763 - val_riccardo_accuracy: 0.9932 - val_federico_accuracy: 1.0000 - val_pranav_accuracy: 0.9898\n",
      "Epoch 40/100\n",
      "686/686 [==============================] - 0s 333us/sample - loss: 0.0018 - what_loss: 0.0010 - riccardo_loss: 4.8368e-04 - federico_loss: 1.2014e-07 - pranav_loss: 2.6463e-04 - what_accuracy: 1.0000 - riccardo_accuracy: 1.0000 - federico_accuracy: 1.0000 - pranav_accuracy: 1.0000 - val_loss: 0.1977 - val_what_loss: 0.1117 - val_riccardo_loss: 0.0257 - val_federico_loss: 2.4289e-09 - val_pranav_loss: 0.0450 - val_what_accuracy: 0.9797 - val_riccardo_accuracy: 0.9932 - val_federico_accuracy: 1.0000 - val_pranav_accuracy: 0.9864\n",
      "Epoch 41/100\n",
      "686/686 [==============================] - 0s 342us/sample - loss: 0.0017 - what_loss: 9.8717e-04 - riccardo_loss: 4.5376e-04 - federico_loss: 1.1689e-07 - pranav_loss: 2.5935e-04 - what_accuracy: 1.0000 - riccardo_accuracy: 1.0000 - federico_accuracy: 1.0000 - pranav_accuracy: 1.0000 - val_loss: 0.1991 - val_what_loss: 0.1165 - val_riccardo_loss: 0.0254 - val_federico_loss: 2.4202e-09 - val_pranav_loss: 0.0420 - val_what_accuracy: 0.9797 - val_riccardo_accuracy: 0.9932 - val_federico_accuracy: 1.0000 - val_pranav_accuracy: 0.9864\n",
      "Epoch 42/100\n",
      "686/686 [==============================] - 0s 338us/sample - loss: 0.0017 - what_loss: 0.0010 - riccardo_loss: 4.4390e-04 - federico_loss: 1.1429e-07 - pranav_loss: 2.7087e-04 - what_accuracy: 1.0000 - riccardo_accuracy: 1.0000 - federico_accuracy: 1.0000 - pranav_accuracy: 1.0000 - val_loss: 0.2015 - val_what_loss: 0.1117 - val_riccardo_loss: 0.0277 - val_federico_loss: 2.4137e-09 - val_pranav_loss: 0.0466 - val_what_accuracy: 0.9797 - val_riccardo_accuracy: 0.9932 - val_federico_accuracy: 1.0000 - val_pranav_accuracy: 0.9864\n",
      "Epoch 43/100\n",
      "686/686 [==============================] - 0s 374us/sample - loss: 0.0016 - what_loss: 9.7696e-04 - riccardo_loss: 4.0478e-04 - federico_loss: 1.1192e-07 - pranav_loss: 2.3549e-04 - what_accuracy: 1.0000 - riccardo_accuracy: 1.0000 - federico_accuracy: 1.0000 - pranav_accuracy: 1.0000 - val_loss: 0.2039 - val_what_loss: 0.1179 - val_riccardo_loss: 0.0254 - val_federico_loss: 2.4057e-09 - val_pranav_loss: 0.0449 - val_what_accuracy: 0.9763 - val_riccardo_accuracy: 0.9932 - val_federico_accuracy: 1.0000 - val_pranav_accuracy: 0.9898\n",
      "Epoch 44/100\n",
      "686/686 [==============================] - 0s 375us/sample - loss: 0.0016 - what_loss: 9.1903e-04 - riccardo_loss: 4.2993e-04 - federico_loss: 1.0949e-07 - pranav_loss: 2.3834e-04 - what_accuracy: 1.0000 - riccardo_accuracy: 1.0000 - federico_accuracy: 1.0000 - pranav_accuracy: 1.0000 - val_loss: 0.1974 - val_what_loss: 0.1121 - val_riccardo_loss: 0.0259 - val_federico_loss: 2.3989e-09 - val_pranav_loss: 0.0441 - val_what_accuracy: 0.9797 - val_riccardo_accuracy: 0.9932 - val_federico_accuracy: 1.0000 - val_pranav_accuracy: 0.9898\n",
      "Epoch 45/100\n",
      "686/686 [==============================] - 0s 460us/sample - loss: 0.0016 - what_loss: 8.8744e-04 - riccardo_loss: 4.0956e-04 - federico_loss: 1.2318e-07 - pranav_loss: 2.2127e-04 - what_accuracy: 1.0000 - riccardo_accuracy: 1.0000 - federico_accuracy: 1.0000 - pranav_accuracy: 1.0000 - val_loss: 0.2075 - val_what_loss: 0.1125 - val_riccardo_loss: 0.0301 - val_federico_loss: 2.3914e-09 - val_pranav_loss: 0.0489 - val_what_accuracy: 0.9797 - val_riccardo_accuracy: 0.9932 - val_federico_accuracy: 1.0000 - val_pranav_accuracy: 0.9864\n",
      "Epoch 46/100\n"
     ]
    },
    {
     "name": "stdout",
     "output_type": "stream",
     "text": [
      "686/686 [==============================] - 0s 496us/sample - loss: 0.0015 - what_loss: 9.0789e-04 - riccardo_loss: 4.0112e-04 - federico_loss: 1.2714e-07 - pranav_loss: 2.5611e-04 - what_accuracy: 1.0000 - riccardo_accuracy: 1.0000 - federico_accuracy: 1.0000 - pranav_accuracy: 1.0000 - val_loss: 0.1961 - val_what_loss: 0.1152 - val_riccardo_loss: 0.0237 - val_federico_loss: 2.3857e-09 - val_pranav_loss: 0.0421 - val_what_accuracy: 0.9797 - val_riccardo_accuracy: 0.9932 - val_federico_accuracy: 1.0000 - val_pranav_accuracy: 0.9864\n",
      "Epoch 47/100\n",
      "686/686 [==============================] - 0s 402us/sample - loss: 0.0015 - what_loss: 8.4649e-04 - riccardo_loss: 3.5735e-04 - federico_loss: 1.0224e-07 - pranav_loss: 2.2014e-04 - what_accuracy: 1.0000 - riccardo_accuracy: 1.0000 - federico_accuracy: 1.0000 - pranav_accuracy: 1.0000 - val_loss: 0.1939 - val_what_loss: 0.1097 - val_riccardo_loss: 0.0264 - val_federico_loss: 2.3868e-09 - val_pranav_loss: 0.0429 - val_what_accuracy: 0.9797 - val_riccardo_accuracy: 0.9932 - val_federico_accuracy: 1.0000 - val_pranav_accuracy: 0.9898\n",
      "Epoch 48/100\n",
      "686/686 [==============================] - 0s 379us/sample - loss: 0.0014 - what_loss: 8.1798e-04 - riccardo_loss: 3.5823e-04 - federico_loss: 1.1500e-07 - pranav_loss: 2.0571e-04 - what_accuracy: 1.0000 - riccardo_accuracy: 1.0000 - federico_accuracy: 1.0000 - pranav_accuracy: 1.0000 - val_loss: 0.1999 - val_what_loss: 0.1118 - val_riccardo_loss: 0.0264 - val_federico_loss: 2.3841e-09 - val_pranav_loss: 0.0462 - val_what_accuracy: 0.9797 - val_riccardo_accuracy: 0.9932 - val_federico_accuracy: 1.0000 - val_pranav_accuracy: 0.9864\n",
      "Epoch 49/100\n",
      "686/686 [==============================] - 0s 429us/sample - loss: 0.0014 - what_loss: 7.9689e-04 - riccardo_loss: 3.4204e-04 - federico_loss: 9.8431e-08 - pranav_loss: 2.0193e-04 - what_accuracy: 1.0000 - riccardo_accuracy: 1.0000 - federico_accuracy: 1.0000 - pranav_accuracy: 1.0000 - val_loss: 0.1966 - val_what_loss: 0.1134 - val_riccardo_loss: 0.0242 - val_federico_loss: 2.3814e-09 - val_pranav_loss: 0.0439 - val_what_accuracy: 0.9797 - val_riccardo_accuracy: 0.9932 - val_federico_accuracy: 1.0000 - val_pranav_accuracy: 0.9898\n",
      "Epoch 50/100\n",
      "686/686 [==============================] - 0s 352us/sample - loss: 0.0013 - what_loss: 7.7771e-04 - riccardo_loss: 3.2128e-04 - federico_loss: 9.5876e-08 - pranav_loss: 1.9630e-04 - what_accuracy: 1.0000 - riccardo_accuracy: 1.0000 - federico_accuracy: 1.0000 - pranav_accuracy: 1.0000 - val_loss: 0.2038 - val_what_loss: 0.1133 - val_riccardo_loss: 0.0277 - val_federico_loss: 2.3783e-09 - val_pranav_loss: 0.0471 - val_what_accuracy: 0.9797 - val_riccardo_accuracy: 0.9932 - val_federico_accuracy: 1.0000 - val_pranav_accuracy: 0.9864\n",
      "Epoch 51/100\n",
      "686/686 [==============================] - 0s 344us/sample - loss: 0.0014 - what_loss: 8.0459e-04 - riccardo_loss: 4.1090e-04 - federico_loss: 9.3989e-08 - pranav_loss: 2.2508e-04 - what_accuracy: 1.0000 - riccardo_accuracy: 1.0000 - federico_accuracy: 1.0000 - pranav_accuracy: 1.0000 - val_loss: 0.1967 - val_what_loss: 0.1138 - val_riccardo_loss: 0.0242 - val_federico_loss: 2.3789e-09 - val_pranav_loss: 0.0435 - val_what_accuracy: 0.9797 - val_riccardo_accuracy: 0.9932 - val_federico_accuracy: 1.0000 - val_pranav_accuracy: 0.9898\n",
      "Epoch 52/100\n",
      "686/686 [==============================] - 0s 340us/sample - loss: 0.0013 - what_loss: 7.4079e-04 - riccardo_loss: 3.4380e-04 - federico_loss: 9.2670e-08 - pranav_loss: 2.1320e-04 - what_accuracy: 1.0000 - riccardo_accuracy: 1.0000 - federico_accuracy: 1.0000 - pranav_accuracy: 1.0000 - val_loss: 0.1909 - val_what_loss: 0.1115 - val_riccardo_loss: 0.0240 - val_federico_loss: 2.3752e-09 - val_pranav_loss: 0.0406 - val_what_accuracy: 0.9797 - val_riccardo_accuracy: 0.9932 - val_federico_accuracy: 1.0000 - val_pranav_accuracy: 0.9898\n",
      "Epoch 53/100\n",
      "686/686 [==============================] - 0s 344us/sample - loss: 0.0013 - what_loss: 7.8044e-04 - riccardo_loss: 3.0339e-04 - federico_loss: 9.0459e-08 - pranav_loss: 1.8993e-04 - what_accuracy: 1.0000 - riccardo_accuracy: 1.0000 - federico_accuracy: 1.0000 - pranav_accuracy: 1.0000 - val_loss: 0.2089 - val_what_loss: 0.1151 - val_riccardo_loss: 0.0264 - val_federico_loss: 2.3745e-09 - val_pranav_loss: 0.0512 - val_what_accuracy: 0.9831 - val_riccardo_accuracy: 0.9932 - val_federico_accuracy: 1.0000 - val_pranav_accuracy: 0.9864\n",
      "Epoch 54/100\n",
      "686/686 [==============================] - 0s 343us/sample - loss: 0.0013 - what_loss: 7.3206e-04 - riccardo_loss: 3.1579e-04 - federico_loss: 8.8890e-08 - pranav_loss: 2.7746e-04 - what_accuracy: 1.0000 - riccardo_accuracy: 1.0000 - federico_accuracy: 1.0000 - pranav_accuracy: 1.0000 - val_loss: 0.2086 - val_what_loss: 0.1113 - val_riccardo_loss: 0.0281 - val_federico_loss: 2.3719e-09 - val_pranav_loss: 0.0530 - val_what_accuracy: 0.9797 - val_riccardo_accuracy: 0.9932 - val_federico_accuracy: 1.0000 - val_pranav_accuracy: 0.9864\n",
      "Epoch 55/100\n",
      "686/686 [==============================] - 0s 332us/sample - loss: 0.0013 - what_loss: 7.1442e-04 - riccardo_loss: 3.1197e-04 - federico_loss: 8.7128e-08 - pranav_loss: 2.4020e-04 - what_accuracy: 1.0000 - riccardo_accuracy: 1.0000 - federico_accuracy: 1.0000 - pranav_accuracy: 1.0000 - val_loss: 0.1986 - val_what_loss: 0.1139 - val_riccardo_loss: 0.0249 - val_federico_loss: 2.3713e-09 - val_pranav_loss: 0.0445 - val_what_accuracy: 0.9797 - val_riccardo_accuracy: 0.9932 - val_federico_accuracy: 1.0000 - val_pranav_accuracy: 0.9898\n",
      "Epoch 56/100\n",
      "686/686 [==============================] - 0s 335us/sample - loss: 0.0012 - what_loss: 7.2248e-04 - riccardo_loss: 2.6462e-04 - federico_loss: 8.5739e-08 - pranav_loss: 1.7294e-04 - what_accuracy: 1.0000 - riccardo_accuracy: 1.0000 - federico_accuracy: 1.0000 - pranav_accuracy: 1.0000 - val_loss: 0.1988 - val_what_loss: 0.1140 - val_riccardo_loss: 0.0252 - val_federico_loss: 2.3710e-09 - val_pranav_loss: 0.0442 - val_what_accuracy: 0.9797 - val_riccardo_accuracy: 0.9932 - val_federico_accuracy: 1.0000 - val_pranav_accuracy: 0.9898\n",
      "Epoch 57/100\n",
      "686/686 [==============================] - 0s 332us/sample - loss: 0.0012 - what_loss: 7.0802e-04 - riccardo_loss: 3.1195e-04 - federico_loss: 8.4077e-08 - pranav_loss: 2.6611e-04 - what_accuracy: 1.0000 - riccardo_accuracy: 1.0000 - federico_accuracy: 1.0000 - pranav_accuracy: 1.0000 - val_loss: 0.2046 - val_what_loss: 0.1144 - val_riccardo_loss: 0.0262 - val_federico_loss: 2.3704e-09 - val_pranav_loss: 0.0482 - val_what_accuracy: 0.9831 - val_riccardo_accuracy: 0.9932 - val_federico_accuracy: 1.0000 - val_pranav_accuracy: 0.9864\n",
      "Epoch 58/100\n",
      "686/686 [==============================] - 0s 333us/sample - loss: 0.0012 - what_loss: 7.1666e-04 - riccardo_loss: 2.6583e-04 - federico_loss: 8.2541e-08 - pranav_loss: 2.3022e-04 - what_accuracy: 1.0000 - riccardo_accuracy: 1.0000 - federico_accuracy: 1.0000 - pranav_accuracy: 1.0000 - val_loss: 0.2074 - val_what_loss: 0.1145 - val_riccardo_loss: 0.0259 - val_federico_loss: 2.3720e-09 - val_pranav_loss: 0.0510 - val_what_accuracy: 0.9831 - val_riccardo_accuracy: 0.9932 - val_federico_accuracy: 1.0000 - val_pranav_accuracy: 0.9864\n",
      "Epoch 59/100\n",
      "686/686 [==============================] - 0s 354us/sample - loss: 0.0011 - what_loss: 6.8947e-04 - riccardo_loss: 2.5332e-04 - federico_loss: 8.1159e-08 - pranav_loss: 1.7918e-04 - what_accuracy: 1.0000 - riccardo_accuracy: 1.0000 - federico_accuracy: 1.0000 - pranav_accuracy: 1.0000 - val_loss: 0.1985 - val_what_loss: 0.1129 - val_riccardo_loss: 0.0254 - val_federico_loss: 2.3704e-09 - val_pranav_loss: 0.0448 - val_what_accuracy: 0.9831 - val_riccardo_accuracy: 0.9932 - val_federico_accuracy: 1.0000 - val_pranav_accuracy: 0.9898\n",
      "Epoch 60/100\n",
      "686/686 [==============================] - 0s 358us/sample - loss: 0.0011 - what_loss: 6.7219e-04 - riccardo_loss: 2.7378e-04 - federico_loss: 7.9900e-08 - pranav_loss: 1.9096e-04 - what_accuracy: 1.0000 - riccardo_accuracy: 1.0000 - federico_accuracy: 1.0000 - pranav_accuracy: 1.0000 - val_loss: 0.2021 - val_what_loss: 0.1156 - val_riccardo_loss: 0.0261 - val_federico_loss: 2.3718e-09 - val_pranav_loss: 0.0447 - val_what_accuracy: 0.9831 - val_riccardo_accuracy: 0.9932 - val_federico_accuracy: 1.0000 - val_pranav_accuracy: 0.9898\n"
     ]
    },
    {
     "name": "stdout",
     "output_type": "stream",
     "text": [
      "Epoch 61/100\n",
      "686/686 [==============================] - 0s 338us/sample - loss: 0.0011 - what_loss: 6.4072e-04 - riccardo_loss: 2.4583e-04 - federico_loss: 8.1946e-08 - pranav_loss: 1.5675e-04 - what_accuracy: 1.0000 - riccardo_accuracy: 1.0000 - federico_accuracy: 1.0000 - pranav_accuracy: 1.0000 - val_loss: 0.2035 - val_what_loss: 0.1109 - val_riccardo_loss: 0.0278 - val_federico_loss: 2.3747e-09 - val_pranav_loss: 0.0490 - val_what_accuracy: 0.9797 - val_riccardo_accuracy: 0.9932 - val_federico_accuracy: 1.0000 - val_pranav_accuracy: 0.9864\n",
      "Epoch 62/100\n",
      "686/686 [==============================] - 0s 337us/sample - loss: 0.0011 - what_loss: 6.7585e-04 - riccardo_loss: 2.2845e-04 - federico_loss: 7.7084e-08 - pranav_loss: 1.5881e-04 - what_accuracy: 1.0000 - riccardo_accuracy: 1.0000 - federico_accuracy: 1.0000 - pranav_accuracy: 1.0000 - val_loss: 0.2078 - val_what_loss: 0.1158 - val_riccardo_loss: 0.0256 - val_federico_loss: 2.3763e-09 - val_pranav_loss: 0.0504 - val_what_accuracy: 0.9831 - val_riccardo_accuracy: 0.9932 - val_federico_accuracy: 1.0000 - val_pranav_accuracy: 0.9864\n",
      "Epoch 63/100\n",
      "686/686 [==============================] - 0s 355us/sample - loss: 0.0010 - what_loss: 6.3649e-04 - riccardo_loss: 2.1512e-04 - federico_loss: 7.5614e-08 - pranav_loss: 1.5923e-04 - what_accuracy: 1.0000 - riccardo_accuracy: 1.0000 - federico_accuracy: 1.0000 - pranav_accuracy: 1.0000 - val_loss: 0.1976 - val_what_loss: 0.1145 - val_riccardo_loss: 0.0249 - val_federico_loss: 2.3784e-09 - val_pranav_loss: 0.0429 - val_what_accuracy: 0.9831 - val_riccardo_accuracy: 0.9932 - val_federico_accuracy: 1.0000 - val_pranav_accuracy: 0.9898\n",
      "Epoch 64/100\n",
      "686/686 [==============================] - 0s 373us/sample - loss: 9.4076e-04 - what_loss: 5.9485e-04 - riccardo_loss: 2.1717e-04 - federico_loss: 7.4495e-08 - pranav_loss: 1.3950e-04 - what_accuracy: 1.0000 - riccardo_accuracy: 1.0000 - federico_accuracy: 1.0000 - pranav_accuracy: 1.0000 - val_loss: 0.1998 - val_what_loss: 0.1134 - val_riccardo_loss: 0.0250 - val_federico_loss: 2.3798e-09 - val_pranav_loss: 0.0459 - val_what_accuracy: 0.9831 - val_riccardo_accuracy: 0.9932 - val_federico_accuracy: 1.0000 - val_pranav_accuracy: 0.9898\n",
      "Epoch 65/100\n",
      "686/686 [==============================] - 0s 367us/sample - loss: 9.2340e-04 - what_loss: 5.7715e-04 - riccardo_loss: 1.9164e-04 - federico_loss: 7.3311e-08 - pranav_loss: 1.3324e-04 - what_accuracy: 1.0000 - riccardo_accuracy: 1.0000 - federico_accuracy: 1.0000 - pranav_accuracy: 1.0000 - val_loss: 0.2004 - val_what_loss: 0.1138 - val_riccardo_loss: 0.0253 - val_federico_loss: 2.3795e-09 - val_pranav_loss: 0.0458 - val_what_accuracy: 0.9831 - val_riccardo_accuracy: 0.9932 - val_federico_accuracy: 1.0000 - val_pranav_accuracy: 0.9898\n",
      "Epoch 66/100\n",
      "686/686 [==============================] - 0s 344us/sample - loss: 9.3582e-04 - what_loss: 5.9581e-04 - riccardo_loss: 1.9343e-04 - federico_loss: 7.2299e-08 - pranav_loss: 1.3136e-04 - what_accuracy: 1.0000 - riccardo_accuracy: 1.0000 - federico_accuracy: 1.0000 - pranav_accuracy: 1.0000 - val_loss: 0.2041 - val_what_loss: 0.1136 - val_riccardo_loss: 0.0264 - val_federico_loss: 2.3825e-09 - val_pranav_loss: 0.0483 - val_what_accuracy: 0.9831 - val_riccardo_accuracy: 0.9932 - val_federico_accuracy: 1.0000 - val_pranav_accuracy: 0.9864\n",
      "Epoch 67/100\n",
      "686/686 [==============================] - 0s 340us/sample - loss: 9.2225e-04 - what_loss: 5.7708e-04 - riccardo_loss: 1.8858e-04 - federico_loss: 7.1072e-08 - pranav_loss: 1.3528e-04 - what_accuracy: 1.0000 - riccardo_accuracy: 1.0000 - federico_accuracy: 1.0000 - pranav_accuracy: 1.0000 - val_loss: 0.1939 - val_what_loss: 0.1148 - val_riccardo_loss: 0.0240 - val_federico_loss: 2.3857e-09 - val_pranav_loss: 0.0400 - val_what_accuracy: 0.9797 - val_riccardo_accuracy: 0.9932 - val_federico_accuracy: 1.0000 - val_pranav_accuracy: 0.9898\n",
      "Epoch 68/100\n",
      "686/686 [==============================] - 0s 391us/sample - loss: 8.9473e-04 - what_loss: 5.6823e-04 - riccardo_loss: 1.8876e-04 - federico_loss: 6.9908e-08 - pranav_loss: 1.4220e-04 - what_accuracy: 1.0000 - riccardo_accuracy: 1.0000 - federico_accuracy: 1.0000 - pranav_accuracy: 1.0000 - val_loss: 0.2022 - val_what_loss: 0.1137 - val_riccardo_loss: 0.0250 - val_federico_loss: 2.3873e-09 - val_pranav_loss: 0.0478 - val_what_accuracy: 0.9831 - val_riccardo_accuracy: 0.9932 - val_federico_accuracy: 1.0000 - val_pranav_accuracy: 0.9864\n",
      "Epoch 69/100\n",
      "686/686 [==============================] - 0s 357us/sample - loss: 8.7112e-04 - what_loss: 5.7020e-04 - riccardo_loss: 2.0073e-04 - federico_loss: 7.0558e-08 - pranav_loss: 1.3467e-04 - what_accuracy: 1.0000 - riccardo_accuracy: 1.0000 - federico_accuracy: 1.0000 - pranav_accuracy: 1.0000 - val_loss: 0.1932 - val_what_loss: 0.1134 - val_riccardo_loss: 0.0243 - val_federico_loss: 2.3887e-09 - val_pranav_loss: 0.0406 - val_what_accuracy: 0.9831 - val_riccardo_accuracy: 0.9932 - val_federico_accuracy: 1.0000 - val_pranav_accuracy: 0.9898\n",
      "Epoch 70/100\n",
      "686/686 [==============================] - 0s 334us/sample - loss: 8.8318e-04 - what_loss: 5.6200e-04 - riccardo_loss: 1.9227e-04 - federico_loss: 6.7979e-08 - pranav_loss: 1.4447e-04 - what_accuracy: 1.0000 - riccardo_accuracy: 1.0000 - federico_accuracy: 1.0000 - pranav_accuracy: 1.0000 - val_loss: 0.2066 - val_what_loss: 0.1130 - val_riccardo_loss: 0.0261 - val_federico_loss: 2.3922e-09 - val_pranav_loss: 0.0514 - val_what_accuracy: 0.9831 - val_riccardo_accuracy: 0.9932 - val_federico_accuracy: 1.0000 - val_pranav_accuracy: 0.9864\n",
      "Epoch 71/100\n",
      "686/686 [==============================] - 0s 509us/sample - loss: 8.7130e-04 - what_loss: 5.7031e-04 - riccardo_loss: 1.8042e-04 - federico_loss: 6.6916e-08 - pranav_loss: 1.4492e-04 - what_accuracy: 1.0000 - riccardo_accuracy: 1.0000 - federico_accuracy: 1.0000 - pranav_accuracy: 1.0000 - val_loss: 0.1963 - val_what_loss: 0.1153 - val_riccardo_loss: 0.0235 - val_federico_loss: 2.3958e-09 - val_pranav_loss: 0.0423 - val_what_accuracy: 0.9797 - val_riccardo_accuracy: 0.9932 - val_federico_accuracy: 1.0000 - val_pranav_accuracy: 0.9898\n",
      "Epoch 72/100\n",
      "686/686 [==============================] - 0s 506us/sample - loss: 8.0295e-04 - what_loss: 5.2603e-04 - riccardo_loss: 1.6442e-04 - federico_loss: 6.7883e-08 - pranav_loss: 1.1651e-04 - what_accuracy: 1.0000 - riccardo_accuracy: 1.0000 - federico_accuracy: 1.0000 - pranav_accuracy: 1.0000 - val_loss: 0.2063 - val_what_loss: 0.1142 - val_riccardo_loss: 0.0260 - val_federico_loss: 2.3982e-09 - val_pranav_loss: 0.0501 - val_what_accuracy: 0.9831 - val_riccardo_accuracy: 0.9932 - val_federico_accuracy: 1.0000 - val_pranav_accuracy: 0.9864\n",
      "Epoch 73/100\n",
      "686/686 [==============================] - 0s 491us/sample - loss: 8.1246e-04 - what_loss: 5.1341e-04 - riccardo_loss: 1.5843e-04 - federico_loss: 6.4998e-08 - pranav_loss: 1.2112e-04 - what_accuracy: 1.0000 - riccardo_accuracy: 1.0000 - federico_accuracy: 1.0000 - pranav_accuracy: 1.0000 - val_loss: 0.1962 - val_what_loss: 0.1144 - val_riccardo_loss: 0.0241 - val_federico_loss: 2.4004e-09 - val_pranav_loss: 0.0424 - val_what_accuracy: 0.9831 - val_riccardo_accuracy: 0.9932 - val_federico_accuracy: 1.0000 - val_pranav_accuracy: 0.9898\n",
      "Epoch 74/100\n",
      "686/686 [==============================] - 0s 469us/sample - loss: 7.8580e-04 - what_loss: 5.1233e-04 - riccardo_loss: 1.6176e-04 - federico_loss: 6.4061e-08 - pranav_loss: 1.2330e-04 - what_accuracy: 1.0000 - riccardo_accuracy: 1.0000 - federico_accuracy: 1.0000 - pranav_accuracy: 1.0000 - val_loss: 0.2048 - val_what_loss: 0.1147 - val_riccardo_loss: 0.0255 - val_federico_loss: 2.4054e-09 - val_pranav_loss: 0.0486 - val_what_accuracy: 0.9831 - val_riccardo_accuracy: 0.9932 - val_federico_accuracy: 1.0000 - val_pranav_accuracy: 0.9898\n",
      "Epoch 75/100\n",
      "686/686 [==============================] - 0s 431us/sample - loss: 7.5617e-04 - what_loss: 4.9659e-04 - riccardo_loss: 1.7340e-04 - federico_loss: 6.3199e-08 - pranav_loss: 1.2636e-04 - what_accuracy: 1.0000 - riccardo_accuracy: 1.0000 - federico_accuracy: 1.0000 - pranav_accuracy: 1.0000 - val_loss: 0.1982 - val_what_loss: 0.1125 - val_riccardo_loss: 0.0249 - val_federico_loss: 2.4072e-09 - val_pranav_loss: 0.0453 - val_what_accuracy: 0.9831 - val_riccardo_accuracy: 0.9932 - val_federico_accuracy: 1.0000 - val_pranav_accuracy: 0.9898\n"
     ]
    },
    {
     "name": "stdout",
     "output_type": "stream",
     "text": [
      "Epoch 76/100\n",
      "686/686 [==============================] - 0s 527us/sample - loss: 7.8360e-04 - what_loss: 4.9998e-04 - riccardo_loss: 1.5516e-04 - federico_loss: 6.2421e-08 - pranav_loss: 1.2100e-04 - what_accuracy: 1.0000 - riccardo_accuracy: 1.0000 - federico_accuracy: 1.0000 - pranav_accuracy: 1.0000 - val_loss: 0.2040 - val_what_loss: 0.1145 - val_riccardo_loss: 0.0247 - val_federico_loss: 2.4124e-09 - val_pranav_loss: 0.0490 - val_what_accuracy: 0.9831 - val_riccardo_accuracy: 0.9932 - val_federico_accuracy: 1.0000 - val_pranav_accuracy: 0.9898\n",
      "Epoch 77/100\n",
      "686/686 [==============================] - 0s 413us/sample - loss: 7.5101e-04 - what_loss: 4.9954e-04 - riccardo_loss: 1.5077e-04 - federico_loss: 6.1320e-08 - pranav_loss: 1.1230e-04 - what_accuracy: 1.0000 - riccardo_accuracy: 1.0000 - federico_accuracy: 1.0000 - pranav_accuracy: 1.0000 - val_loss: 0.1968 - val_what_loss: 0.1142 - val_riccardo_loss: 0.0248 - val_federico_loss: 2.4153e-09 - val_pranav_loss: 0.0425 - val_what_accuracy: 0.9831 - val_riccardo_accuracy: 0.9932 - val_federico_accuracy: 1.0000 - val_pranav_accuracy: 0.9898\n",
      "Epoch 78/100\n",
      "686/686 [==============================] - 0s 548us/sample - loss: 7.2393e-04 - what_loss: 4.6628e-04 - riccardo_loss: 1.3877e-04 - federico_loss: 6.0579e-08 - pranav_loss: 1.0733e-04 - what_accuracy: 1.0000 - riccardo_accuracy: 1.0000 - federico_accuracy: 1.0000 - pranav_accuracy: 1.0000 - val_loss: 0.2044 - val_what_loss: 0.1138 - val_riccardo_loss: 0.0253 - val_federico_loss: 2.4190e-09 - val_pranav_loss: 0.0494 - val_what_accuracy: 0.9831 - val_riccardo_accuracy: 0.9932 - val_federico_accuracy: 1.0000 - val_pranav_accuracy: 0.9864\n",
      "Epoch 79/100\n",
      "686/686 [==============================] - 0s 488us/sample - loss: 7.0164e-04 - what_loss: 4.6852e-04 - riccardo_loss: 1.3080e-04 - federico_loss: 5.9773e-08 - pranav_loss: 9.8621e-05 - what_accuracy: 1.0000 - riccardo_accuracy: 1.0000 - federico_accuracy: 1.0000 - pranav_accuracy: 1.0000 - val_loss: 0.1984 - val_what_loss: 0.1140 - val_riccardo_loss: 0.0247 - val_federico_loss: 2.4210e-09 - val_pranav_loss: 0.0444 - val_what_accuracy: 0.9831 - val_riccardo_accuracy: 0.9932 - val_federico_accuracy: 1.0000 - val_pranav_accuracy: 0.9898\n",
      "Epoch 80/100\n",
      "686/686 [==============================] - 0s 482us/sample - loss: 7.1180e-04 - what_loss: 4.6563e-04 - riccardo_loss: 1.3409e-04 - federico_loss: 5.8859e-08 - pranav_loss: 9.6266e-05 - what_accuracy: 1.0000 - riccardo_accuracy: 1.0000 - federico_accuracy: 1.0000 - pranav_accuracy: 1.0000 - val_loss: 0.2010 - val_what_loss: 0.1129 - val_riccardo_loss: 0.0242 - val_federico_loss: 2.4260e-09 - val_pranav_loss: 0.0483 - val_what_accuracy: 0.9831 - val_riccardo_accuracy: 0.9932 - val_federico_accuracy: 1.0000 - val_pranav_accuracy: 0.9898\n",
      "Epoch 81/100\n",
      "686/686 [==============================] - 0s 523us/sample - loss: 6.9862e-04 - what_loss: 4.6148e-04 - riccardo_loss: 1.3216e-04 - federico_loss: 5.8140e-08 - pranav_loss: 9.6464e-05 - what_accuracy: 1.0000 - riccardo_accuracy: 1.0000 - federico_accuracy: 1.0000 - pranav_accuracy: 1.0000 - val_loss: 0.1980 - val_what_loss: 0.1140 - val_riccardo_loss: 0.0241 - val_federico_loss: 2.4306e-09 - val_pranav_loss: 0.0446 - val_what_accuracy: 0.9831 - val_riccardo_accuracy: 0.9932 - val_federico_accuracy: 1.0000 - val_pranav_accuracy: 0.9898\n",
      "Epoch 82/100\n",
      "686/686 [==============================] - 0s 370us/sample - loss: 6.6853e-04 - what_loss: 4.3829e-04 - riccardo_loss: 1.2244e-04 - federico_loss: 5.7539e-08 - pranav_loss: 9.4001e-05 - what_accuracy: 1.0000 - riccardo_accuracy: 1.0000 - federico_accuracy: 1.0000 - pranav_accuracy: 1.0000 - val_loss: 0.2038 - val_what_loss: 0.1133 - val_riccardo_loss: 0.0257 - val_federico_loss: 2.4354e-09 - val_pranav_loss: 0.0490 - val_what_accuracy: 0.9831 - val_riccardo_accuracy: 0.9932 - val_federico_accuracy: 1.0000 - val_pranav_accuracy: 0.9898\n",
      "Epoch 83/100\n",
      "686/686 [==============================] - 0s 352us/sample - loss: 6.5877e-04 - what_loss: 4.4934e-04 - riccardo_loss: 1.1985e-04 - federico_loss: 5.6668e-08 - pranav_loss: 9.2430e-05 - what_accuracy: 1.0000 - riccardo_accuracy: 1.0000 - federico_accuracy: 1.0000 - pranav_accuracy: 1.0000 - val_loss: 0.2020 - val_what_loss: 0.1146 - val_riccardo_loss: 0.0242 - val_federico_loss: 2.4396e-09 - val_pranav_loss: 0.0475 - val_what_accuracy: 0.9831 - val_riccardo_accuracy: 0.9932 - val_federico_accuracy: 1.0000 - val_pranav_accuracy: 0.9898\n",
      "Epoch 84/100\n",
      "686/686 [==============================] - 0s 363us/sample - loss: 6.4812e-04 - what_loss: 4.3907e-04 - riccardo_loss: 1.1504e-04 - federico_loss: 5.5884e-08 - pranav_loss: 9.5417e-05 - what_accuracy: 1.0000 - riccardo_accuracy: 1.0000 - federico_accuracy: 1.0000 - pranav_accuracy: 1.0000 - val_loss: 0.1984 - val_what_loss: 0.1136 - val_riccardo_loss: 0.0249 - val_federico_loss: 2.4438e-09 - val_pranav_loss: 0.0445 - val_what_accuracy: 0.9831 - val_riccardo_accuracy: 0.9932 - val_federico_accuracy: 1.0000 - val_pranav_accuracy: 0.9898\n",
      "Epoch 85/100\n",
      "686/686 [==============================] - 0s 344us/sample - loss: 6.4591e-04 - what_loss: 4.4545e-04 - riccardo_loss: 1.2127e-04 - federico_loss: 5.5115e-08 - pranav_loss: 9.4370e-05 - what_accuracy: 1.0000 - riccardo_accuracy: 1.0000 - federico_accuracy: 1.0000 - pranav_accuracy: 1.0000 - val_loss: 0.1994 - val_what_loss: 0.1149 - val_riccardo_loss: 0.0235 - val_federico_loss: 2.4466e-09 - val_pranav_loss: 0.0456 - val_what_accuracy: 0.9831 - val_riccardo_accuracy: 0.9932 - val_federico_accuracy: 1.0000 - val_pranav_accuracy: 0.9898\n",
      "Epoch 86/100\n",
      "686/686 [==============================] - 0s 359us/sample - loss: 6.5064e-04 - what_loss: 4.5385e-04 - riccardo_loss: 1.1355e-04 - federico_loss: 5.4452e-08 - pranav_loss: 8.8851e-05 - what_accuracy: 1.0000 - riccardo_accuracy: 1.0000 - federico_accuracy: 1.0000 - pranav_accuracy: 1.0000 - val_loss: 0.2045 - val_what_loss: 0.1143 - val_riccardo_loss: 0.0249 - val_federico_loss: 2.4522e-09 - val_pranav_loss: 0.0495 - val_what_accuracy: 0.9831 - val_riccardo_accuracy: 0.9932 - val_federico_accuracy: 1.0000 - val_pranav_accuracy: 0.9898\n",
      "Epoch 87/100\n",
      "686/686 [==============================] - 0s 356us/sample - loss: 6.1951e-04 - what_loss: 4.1369e-04 - riccardo_loss: 1.0928e-04 - federico_loss: 5.3960e-08 - pranav_loss: 8.4818e-05 - what_accuracy: 1.0000 - riccardo_accuracy: 1.0000 - federico_accuracy: 1.0000 - pranav_accuracy: 1.0000 - val_loss: 0.2033 - val_what_loss: 0.1136 - val_riccardo_loss: 0.0253 - val_federico_loss: 2.4560e-09 - val_pranav_loss: 0.0486 - val_what_accuracy: 0.9831 - val_riccardo_accuracy: 0.9932 - val_federico_accuracy: 1.0000 - val_pranav_accuracy: 0.9898\n",
      "Epoch 88/100\n",
      "686/686 [==============================] - 0s 347us/sample - loss: 6.0710e-04 - what_loss: 4.1852e-04 - riccardo_loss: 1.0974e-04 - federico_loss: 5.3229e-08 - pranav_loss: 8.5189e-05 - what_accuracy: 1.0000 - riccardo_accuracy: 1.0000 - federico_accuracy: 1.0000 - pranav_accuracy: 1.0000 - val_loss: 0.2041 - val_what_loss: 0.1134 - val_riccardo_loss: 0.0249 - val_federico_loss: 2.4618e-09 - val_pranav_loss: 0.0499 - val_what_accuracy: 0.9831 - val_riccardo_accuracy: 0.9932 - val_federico_accuracy: 1.0000 - val_pranav_accuracy: 0.9898\n",
      "Epoch 89/100\n",
      "686/686 [==============================] - 0s 361us/sample - loss: 6.1845e-04 - what_loss: 4.1865e-04 - riccardo_loss: 1.1015e-04 - federico_loss: 5.2419e-08 - pranav_loss: 9.6633e-05 - what_accuracy: 1.0000 - riccardo_accuracy: 1.0000 - federico_accuracy: 1.0000 - pranav_accuracy: 1.0000 - val_loss: 0.2004 - val_what_loss: 0.1155 - val_riccardo_loss: 0.0241 - val_federico_loss: 2.4652e-09 - val_pranav_loss: 0.0453 - val_what_accuracy: 0.9831 - val_riccardo_accuracy: 0.9932 - val_federico_accuracy: 1.0000 - val_pranav_accuracy: 0.9898\n",
      "Epoch 90/100\n",
      "686/686 [==============================] - 0s 367us/sample - loss: 5.8248e-04 - what_loss: 3.9901e-04 - riccardo_loss: 9.9150e-05 - federico_loss: 5.1861e-08 - pranav_loss: 7.5140e-05 - what_accuracy: 1.0000 - riccardo_accuracy: 1.0000 - federico_accuracy: 1.0000 - pranav_accuracy: 1.0000 - val_loss: 0.2060 - val_what_loss: 0.1132 - val_riccardo_loss: 0.0255 - val_federico_loss: 2.4711e-09 - val_pranav_loss: 0.0513 - val_what_accuracy: 0.9831 - val_riccardo_accuracy: 0.9932 - val_federico_accuracy: 1.0000 - val_pranav_accuracy: 0.9864\n"
     ]
    },
    {
     "name": "stdout",
     "output_type": "stream",
     "text": [
      "Epoch 91/100\n",
      "686/686 [==============================] - 0s 346us/sample - loss: 5.7589e-04 - what_loss: 3.8791e-04 - riccardo_loss: 9.8890e-05 - federico_loss: 5.1125e-08 - pranav_loss: 7.9401e-05 - what_accuracy: 1.0000 - riccardo_accuracy: 1.0000 - federico_accuracy: 1.0000 - pranav_accuracy: 1.0000 - val_loss: 0.2061 - val_what_loss: 0.1162 - val_riccardo_loss: 0.0254 - val_federico_loss: 2.4734e-09 - val_pranav_loss: 0.0484 - val_what_accuracy: 0.9831 - val_riccardo_accuracy: 0.9932 - val_federico_accuracy: 1.0000 - val_pranav_accuracy: 0.9898\n",
      "Epoch 92/100\n",
      "686/686 [==============================] - 0s 362us/sample - loss: 5.7215e-04 - what_loss: 3.9503e-04 - riccardo_loss: 9.9485e-05 - federico_loss: 5.0586e-08 - pranav_loss: 7.7353e-05 - what_accuracy: 1.0000 - riccardo_accuracy: 1.0000 - federico_accuracy: 1.0000 - pranav_accuracy: 1.0000 - val_loss: 0.2072 - val_what_loss: 0.1142 - val_riccardo_loss: 0.0255 - val_federico_loss: 2.4806e-09 - val_pranav_loss: 0.0514 - val_what_accuracy: 0.9831 - val_riccardo_accuracy: 0.9932 - val_federico_accuracy: 1.0000 - val_pranav_accuracy: 0.9864\n",
      "Epoch 93/100\n",
      "686/686 [==============================] - 0s 352us/sample - loss: 5.4966e-04 - what_loss: 3.7517e-04 - riccardo_loss: 9.3372e-05 - federico_loss: 4.9952e-08 - pranav_loss: 7.7130e-05 - what_accuracy: 1.0000 - riccardo_accuracy: 1.0000 - federico_accuracy: 1.0000 - pranav_accuracy: 1.0000 - val_loss: 0.2044 - val_what_loss: 0.1142 - val_riccardo_loss: 0.0255 - val_federico_loss: 2.4843e-09 - val_pranav_loss: 0.0488 - val_what_accuracy: 0.9831 - val_riccardo_accuracy: 0.9932 - val_federico_accuracy: 1.0000 - val_pranav_accuracy: 0.9898\n",
      "Epoch 94/100\n",
      "686/686 [==============================] - 0s 355us/sample - loss: 5.5301e-04 - what_loss: 3.6724e-04 - riccardo_loss: 9.8196e-05 - federico_loss: 4.9376e-08 - pranav_loss: 8.0777e-05 - what_accuracy: 1.0000 - riccardo_accuracy: 1.0000 - federico_accuracy: 1.0000 - pranav_accuracy: 1.0000 - val_loss: 0.2048 - val_what_loss: 0.1134 - val_riccardo_loss: 0.0248 - val_federico_loss: 2.4896e-09 - val_pranav_loss: 0.0506 - val_what_accuracy: 0.9831 - val_riccardo_accuracy: 0.9932 - val_federico_accuracy: 1.0000 - val_pranav_accuracy: 0.9898\n",
      "Epoch 95/100\n",
      "686/686 [==============================] - 0s 360us/sample - loss: 5.4014e-04 - what_loss: 3.6099e-04 - riccardo_loss: 8.8333e-05 - federico_loss: 4.8817e-08 - pranav_loss: 7.8505e-05 - what_accuracy: 1.0000 - riccardo_accuracy: 1.0000 - federico_accuracy: 1.0000 - pranav_accuracy: 1.0000 - val_loss: 0.2008 - val_what_loss: 0.1135 - val_riccardo_loss: 0.0253 - val_federico_loss: 2.4929e-09 - val_pranav_loss: 0.0464 - val_what_accuracy: 0.9831 - val_riccardo_accuracy: 0.9932 - val_federico_accuracy: 1.0000 - val_pranav_accuracy: 0.9898\n",
      "Epoch 96/100\n",
      "686/686 [==============================] - 0s 349us/sample - loss: 5.1926e-04 - what_loss: 3.5939e-04 - riccardo_loss: 8.7562e-05 - federico_loss: 4.8248e-08 - pranav_loss: 7.0810e-05 - what_accuracy: 1.0000 - riccardo_accuracy: 1.0000 - federico_accuracy: 1.0000 - pranav_accuracy: 1.0000 - val_loss: 0.2045 - val_what_loss: 0.1147 - val_riccardo_loss: 0.0253 - val_federico_loss: 2.5008e-09 - val_pranav_loss: 0.0486 - val_what_accuracy: 0.9831 - val_riccardo_accuracy: 0.9932 - val_federico_accuracy: 1.0000 - val_pranav_accuracy: 0.9898\n",
      "Epoch 97/100\n",
      "686/686 [==============================] - 0s 340us/sample - loss: 5.5166e-04 - what_loss: 3.7961e-04 - riccardo_loss: 1.0143e-04 - federico_loss: 4.7675e-08 - pranav_loss: 7.4628e-05 - what_accuracy: 1.0000 - riccardo_accuracy: 1.0000 - federico_accuracy: 1.0000 - pranav_accuracy: 1.0000 - val_loss: 0.2079 - val_what_loss: 0.1162 - val_riccardo_loss: 0.0249 - val_federico_loss: 2.5061e-09 - val_pranav_loss: 0.0506 - val_what_accuracy: 0.9831 - val_riccardo_accuracy: 0.9932 - val_federico_accuracy: 1.0000 - val_pranav_accuracy: 0.9898\n",
      "Epoch 98/100\n",
      "686/686 [==============================] - 0s 345us/sample - loss: 5.2657e-04 - what_loss: 3.6620e-04 - riccardo_loss: 9.6543e-05 - federico_loss: 4.7140e-08 - pranav_loss: 7.4799e-05 - what_accuracy: 1.0000 - riccardo_accuracy: 1.0000 - federico_accuracy: 1.0000 - pranav_accuracy: 1.0000 - val_loss: 0.2023 - val_what_loss: 0.1149 - val_riccardo_loss: 0.0252 - val_federico_loss: 2.5120e-09 - val_pranav_loss: 0.0464 - val_what_accuracy: 0.9831 - val_riccardo_accuracy: 0.9932 - val_federico_accuracy: 1.0000 - val_pranav_accuracy: 0.9898\n",
      "Epoch 99/100\n",
      "686/686 [==============================] - 0s 361us/sample - loss: 5.0629e-04 - what_loss: 3.5343e-04 - riccardo_loss: 8.0007e-05 - federico_loss: 4.6571e-08 - pranav_loss: 6.5409e-05 - what_accuracy: 1.0000 - riccardo_accuracy: 1.0000 - federico_accuracy: 1.0000 - pranav_accuracy: 1.0000 - val_loss: 0.2030 - val_what_loss: 0.1147 - val_riccardo_loss: 0.0244 - val_federico_loss: 2.5154e-09 - val_pranav_loss: 0.0482 - val_what_accuracy: 0.9831 - val_riccardo_accuracy: 0.9932 - val_federico_accuracy: 1.0000 - val_pranav_accuracy: 0.9898\n",
      "Epoch 100/100\n",
      "686/686 [==============================] - 0s 373us/sample - loss: 4.9870e-04 - what_loss: 3.5919e-04 - riccardo_loss: 7.9531e-05 - federico_loss: 4.6080e-08 - pranav_loss: 7.1000e-05 - what_accuracy: 1.0000 - riccardo_accuracy: 1.0000 - federico_accuracy: 1.0000 - pranav_accuracy: 1.0000 - val_loss: 0.2040 - val_what_loss: 0.1130 - val_riccardo_loss: 0.0252 - val_federico_loss: 2.5202e-09 - val_pranav_loss: 0.0499 - val_what_accuracy: 0.9831 - val_riccardo_accuracy: 0.9932 - val_federico_accuracy: 1.0000 - val_pranav_accuracy: 0.9898\n"
     ]
    }
   ],
   "source": [
    "history = model.fit(X_train_features, [y_what_train,y_is_ricc_train, \n",
    "                              y_is_fede_train, y_is_pk_train], \n",
    "                    epochs=100, batch_size=32,\n",
    "                    validation_data=(X_test_features, [y_what_test,y_is_ricc_test, \n",
    "                                              y_is_fede_test, y_is_pk_test]))"
   ]
  },
  {
   "cell_type": "code",
   "execution_count": 68,
   "metadata": {
    "colab": {
     "base_uri": "https://localhost:8080/",
     "height": 607
    },
    "colab_type": "code",
    "id": "EtdgPDIVZl1F",
    "outputId": "2eb2ec75-40d0-449c-c2c8-ad9bc75eb781"
   },
   "outputs": [
    {
     "data": {
      "image/png": "[encoded data removed]",
      "text/plain": [
       "<Figure size 1440x720 with 5 Axes>"
      ]
     },
     "metadata": {
      "needs_background": "light"
     },
     "output_type": "display_data"
    }
   ],
   "source": [
    "plt.figure(figsize=(20,10))\n",
    "\n",
    "ax0 = plt.subplot2grid((2, 4), (0, 0), colspan=2, rowspan=2)\n",
    "plt.plot(history.history['loss'])\n",
    "plt.plot(history.history['val_loss'])\n",
    "plt.title('Loss')\n",
    "plt.legend(['Training Loss', 'Validation Loss'])\n",
    "\n",
    "ax1 = plt.subplot2grid((2, 4), (0, 2))\n",
    "plt.plot(history.history['what_accuracy'])\n",
    "plt.plot(history.history['val_what_accuracy'])\n",
    "plt.legend(['Training', 'Validation'])\n",
    "plt.title('What Accuracy')\n",
    "\n",
    "\n",
    "ax1 = plt.subplot2grid((2, 4), (1, 2))\n",
    "plt.plot(history.history['pranav_accuracy'])\n",
    "plt.plot(history.history['val_pranav_accuracy'])\n",
    "plt.legend(['Training', 'Validation'])\n",
    "plt.title('Pranav Accuracy')\n",
    "\n",
    "\n",
    "ax1 = plt.subplot2grid((2, 4), (0, 3))\n",
    "plt.plot(history.history['riccardo_accuracy'])\n",
    "plt.plot(history.history['val_riccardo_accuracy'])\n",
    "plt.legend(['Training', 'Validation'])\n",
    "plt.title('Riccardo Accuracy')\n",
    "\n",
    "\n",
    "ax1 = plt.subplot2grid((2, 4), (1, 3))\n",
    "plt.plot(history.history['federico_accuracy'])\n",
    "plt.plot(history.history['val_federico_accuracy'])\n",
    "plt.legend(['Training', 'Validation'])\n",
    "plt.title('Federico Accuracy')\n",
    "plt.show()"
   ]
  },
  {
   "cell_type": "code",
   "execution_count": 69,
   "metadata": {},
   "outputs": [],
   "source": [
    "def predict_nn(model, X, rate=88200, threshold=0.95):\n",
    "    #X = np.array(X).reshape(-1,rate,1).astype('float32')\n",
    "    y = model.predict(X)\n",
    "\n",
    "    what = list(map(lambda x: np.argmax(x) if x[np.argmax(x)] > 0.8 else -1, \n",
    "                  y[0]))\n",
    "    what_what = {0:'Forse',1:'No',2:'Si',-1:'Non Capisco'}\n",
    "    print(list(map(lambda x: what_what[x], what)))\n",
    "\n",
    "    who = list(map(lambda x: np.argmax(x) if x[np.argmax(x)] > 0.8 else -1, \n",
    "                 np.hstack((y[1],y[2], y[3]))))\n",
    "    person = {0:'Riccardo',1:'Federico',2:'Pranav',-1:'Unknown'}\n",
    "    who_person = list(map(lambda x: person[x], who)) \n",
    "    print(who_person)"
   ]
  },
  {
   "cell_type": "code",
   "execution_count": 70,
   "metadata": {},
   "outputs": [],
   "source": [
    "hk_si = pd.read_csv(path + 'extraTesting/Harshita_si.csv', header=None).drop(0, axis=1)\n",
    "hk_no = pd.read_csv(path + 'extraTesting/Harshita_no.csv', header=None).drop(0,axis=1)\n",
    "hk_forse = pd.read_csv(path + 'extraTesting/Harshita_forse.csv', header=None).drop(0,axis=1)\n",
    "hk_caso = pd.read_csv(path + 'extraTesting/Harshita_caso.csv', header=None).drop(0,axis=1)\n",
    "\n",
    "hk_no = np.array(list(map(extract_feature, hk_no.values)))\n",
    "hk_si = np.array(list(map(extract_feature, hk_si.values)))\n",
    "hk_forse = np.array(list(map(extract_feature, hk_forse.values)))\n",
    "hk_caso = np.array(list(map(extract_feature, hk_caso.values)))"
   ]
  },
  {
   "cell_type": "code",
   "execution_count": 77,
   "metadata": {},
   "outputs": [],
   "source": [
    "noemi = pd.read_csv(path+'Noemi.csv', header=None).drop(0, axis=1)\n",
    "noemi = np.array(list(map(extract_feature, noemi.values)))"
   ]
  },
  {
   "cell_type": "code",
   "execution_count": 72,
   "metadata": {},
   "outputs": [
    {
     "name": "stdout",
     "output_type": "stream",
     "text": [
      "['No', 'Non Capisco', 'Forse', 'No', 'No', 'No']\n",
      "['Pranav', 'Unknown', 'Pranav', 'Pranav', 'Pranav', 'Unknown']\n"
     ]
    }
   ],
   "source": [
    "predict_nn(model, hk_no)"
   ]
  },
  {
   "cell_type": "code",
   "execution_count": 73,
   "metadata": {},
   "outputs": [
    {
     "name": "stdout",
     "output_type": "stream",
     "text": [
      "['Forse', 'Forse', 'Forse', 'Si']\n",
      "['Unknown', 'Unknown', 'Pranav', 'Pranav']\n"
     ]
    }
   ],
   "source": [
    "predict_nn(model, hk_si)"
   ]
  },
  {
   "cell_type": "code",
   "execution_count": 74,
   "metadata": {},
   "outputs": [
    {
     "name": "stdout",
     "output_type": "stream",
     "text": [
      "['Forse', 'Non Capisco', 'Forse', 'Forse', 'Forse', 'Si']\n",
      "['Pranav', 'Pranav', 'Unknown', 'Pranav', 'Pranav', 'Pranav']\n"
     ]
    }
   ],
   "source": [
    "predict_nn(model, hk_forse)"
   ]
  },
  {
   "cell_type": "code",
   "execution_count": 75,
   "metadata": {},
   "outputs": [
    {
     "name": "stdout",
     "output_type": "stream",
     "text": [
      "['Si', 'Non Capisco', 'Forse', 'Non Capisco', 'Non Capisco', 'Non Capisco', 'No']\n",
      "['Pranav', 'Pranav', 'Unknown', 'Pranav', 'Unknown', 'Unknown', 'Pranav']\n"
     ]
    }
   ],
   "source": [
    "predict_nn(model, hk_caso)"
   ]
  },
  {
   "cell_type": "code",
   "execution_count": 78,
   "metadata": {},
   "outputs": [
    {
     "name": "stdout",
     "output_type": "stream",
     "text": [
      "['Si', 'Non Capisco', 'Non Capisco']\n",
      "['Federico', 'Federico', 'Federico']\n"
     ]
    }
   ],
   "source": [
    "predict_nn(model, noemi)"
   ]
  },
  {
   "cell_type": "code",
   "execution_count": 79,
   "metadata": {},
   "outputs": [],
   "source": [
    "model.save('no_cnn_model.h5')"
   ]
  },
  {
   "cell_type": "markdown",
   "metadata": {
    "colab_type": "text",
    "id": "wuXeJorQU5sR"
   },
   "source": [
    "# Total Neural network\n"
   ]
  },
  {
   "cell_type": "code",
   "execution_count": 38,
   "metadata": {
    "colab": {},
    "colab_type": "code",
    "id": "u_ro3YhcsVmL"
   },
   "outputs": [],
   "source": [
    "drop_out_rate=0.1\n",
    "regularizer_weigth = 0.001\n",
    "gaussina_sd = 0.05\n",
    "\n",
    "input_tensor = Input(shape=(88200,1), name=\"AudioInput\")\n",
    "\n",
    "x = Conv1D(8, 11, padding='valid', activation='relu', strides=1)(input_tensor)\n",
    "           #kernel_regularizer=l2(regularizer_weigth),\n",
    "           #activity_regularizer=l1(regularizer_weigth))\n",
    "x = MaxPooling1D(10)(x)\n",
    "x = Dropout(drop_out_rate)(x)\n",
    "x = GaussianNoise(gaussina_sd)(x)\n",
    "\n",
    "#x_what = Conv1D(8, 11, padding='valid', activation='relu', strides=1)(x)\n",
    "#x_what = MaxPooling1D(10)(x_what)\n",
    "#x_what = Dropout(drop_out_rate)(x_what)\n",
    "x_what = Conv1D(16, 7, padding='valid', activation='relu', strides=1)(x)\n",
    "x_what = MaxPooling1D(10)(x_what)\n",
    "x_what = Conv1D(16, 7, padding='valid', activation='relu', strides=1)(x_what)\n",
    "x_what = MaxPooling1D(10)(x_what)\n",
    "x_what = Flatten()(x_what)\n",
    "\n",
    "#x_what = GaussianNoise(gaussina_sd)(x_what)\n",
    "x_what = Dense(256, activation='relu')(x_what)\n",
    "x_what = Dropout(drop_out_rate)(x_what)\n",
    "x_what = Dense(128, activation='relu')(x_what)\n",
    "x_what = Dropout(drop_out_rate)(x_what)\n",
    "output_tensor_what = Dense(3, activation='softmax',name=\"what\")(x_what)\n",
    "\n",
    "\n",
    "x_who = Conv1D(8, 11, padding='valid', activation='relu', strides=1)(x)\n",
    "x_who = MaxPooling1D(10)(x_who)\n",
    "x_who = Dropout(drop_out_rate)(x_who)\n",
    "\n",
    "x_who_r = Conv1D(16, 7, padding='valid', activation='relu', strides=1)(x_who)\n",
    "x_who_r = MaxPooling1D(10)(x_who_r)\n",
    "x_who_r = Conv1D(16, 7, padding='valid', activation='relu', strides=1)(x_who_r)\n",
    "x_who_r = MaxPooling1D(10)(x_who_r)\n",
    "x_who_r = Flatten()(x_who_r)\n",
    "\n",
    "#x_who_r = GaussianNoise(gaussina_sd)(x_who_r)\n",
    "x_who_r = Dense(256, activation='relu')(x_who_r)\n",
    "x_who_r = Dropout(drop_out_rate)(x_who_r)\n",
    "x_who_r = Dense(128, activation='relu')(x_who_r)\n",
    "x_who_r = Dropout(drop_out_rate)(x_who_r)\n",
    "output_tensor_who_r = Dense(1, activation='sigmoid', name=\"riccardo\")(x_who_r)\n",
    "\n",
    "x_who_f = Conv1D(16, 7, padding='valid', activation='relu', strides=1)(x_who)\n",
    "x_who_f = MaxPooling1D(10)(x_who_f)\n",
    "x_who_f = Conv1D(16, 7, padding='valid', activation='relu', strides=1)(x_who_f)\n",
    "x_who_f = MaxPooling1D(10)(x_who_f)\n",
    "x_who_f = Flatten()(x_who_f)\n",
    "\n",
    "#x_who_f = GaussianNoise(gaussina_sd)(x_who_f)\n",
    "x_who_f = Dense(256, activation='relu')(x_who_f)\n",
    "x_who_f = Dropout(drop_out_rate)(x_who_f)\n",
    "x_who_f = Dense(128, activation='relu')(x_who_f)\n",
    "x_who_f = Dropout(drop_out_rate)(x_who_f)\n",
    "output_tensor_who_f = Dense(1, activation='sigmoid', name=\"federico\")(x_who_f)\n",
    "\n",
    "x_who_p = Conv1D(16, 7, padding='valid', activation='relu', strides=1)(x_who)\n",
    "x_who_p = MaxPooling1D(10)(x_who_p)\n",
    "x_who_p = Conv1D(16, 7, padding='valid', activation='relu', strides=1)(x_who_p)\n",
    "x_who_p = MaxPooling1D(10)(x_who_p)\n",
    "x_who_p = Flatten()(x_who_p)\n",
    "\n",
    "#x_who_p = GaussianNoise(gaussina_sd)(x_who_p)\n",
    "x_who_p = Dense(256, activation='relu')(x_who_p)\n",
    "x_who_p = Dropout(drop_out_rate)(x_who_p)\n",
    "x_who_p = Dense(128, activation='relu')(x_who_p)\n",
    "x_who_p = Dropout(drop_out_rate)(x_who_p)\n",
    "output_tensor_who_p = Dense(1, activation='sigmoid', name=\"pranav\")(x_who_p)\n",
    "\n",
    "model = Model(input_tensor, [output_tensor_what,\n",
    "                             output_tensor_who_r,\n",
    "                             output_tensor_who_f,\n",
    "                             output_tensor_who_p])\n",
    "\n",
    "losses = {\n",
    "    \"what\": \"categorical_crossentropy\",\n",
    "    \"riccardo\": \"binary_crossentropy\",\n",
    "    \"pranav\": \"binary_crossentropy\",\n",
    "    \"federico\": \"binary_crossentropy\"\n",
    "}\n",
    "\n",
    "model.compile(loss=losses,\n",
    "             optimizer=tf.keras.optimizers.SGD(),\n",
    "             metrics=['accuracy'])"
   ]
  },
  {
   "cell_type": "code",
   "execution_count": 53,
   "metadata": {
    "colab": {
     "base_uri": "https://localhost:8080/",
     "height": 1000
    },
    "colab_type": "code",
    "id": "RsSf3vp3_c1R",
    "outputId": "ebf24b01-4822-4e4e-d921-e84c1b883191"
   },
   "outputs": [
    {
     "name": "stdout",
     "output_type": "stream",
     "text": [
      "Failed to import pydot. You must install pydot and graphviz for `pydotprint` to work.\n"
     ]
    }
   ],
   "source": [
    "tf.keras.utils.plot_model(model, show_layer_names=True, show_shapes=True, dpi=60)"
   ]
  },
  {
   "cell_type": "code",
   "execution_count": 40,
   "metadata": {
    "colab": {
     "base_uri": "https://localhost:8080/",
     "height": 306
    },
    "colab_type": "code",
    "id": "Dudl99Y0I6FZ",
    "outputId": "e12ddd7e-5016-485a-877e-749912a1a471"
   },
   "outputs": [
    {
     "name": "stdout",
     "output_type": "stream",
     "text": [
      "Train on 686 samples, validate on 295 samples\n",
      "Epoch 1/200\n",
      "686/686 [==============================] - 13s 19ms/sample - loss: 3.1626 - what_loss: 1.0990 - riccardo_loss: 0.6865 - federico_loss: 0.6872 - pranav_loss: 0.6889 - what_accuracy: 0.3309 - riccardo_accuracy: 0.5948 - federico_accuracy: 0.6501 - pranav_accuracy: 0.5394 - val_loss: 3.1374 - val_what_loss: 1.0994 - val_riccardo_loss: 0.6799 - val_federico_loss: 0.6858 - val_pranav_loss: 0.6733 - val_what_accuracy: 0.3051 - val_riccardo_accuracy: 0.6576 - val_federico_accuracy: 0.6339 - val_pranav_accuracy: 0.7119\n",
      "Epoch 2/200\n",
      "686/686 [==============================] - 7s 10ms/sample - loss: 3.1052 - what_loss: 1.0961 - riccardo_loss: 0.6688 - federico_loss: 0.6791 - pranav_loss: 0.6600 - what_accuracy: 0.3571 - riccardo_accuracy: 0.6749 - federico_accuracy: 0.6327 - pranav_accuracy: 0.6968 - val_loss: 3.0999 - val_what_loss: 1.0982 - val_riccardo_loss: 0.6686 - val_federico_loss: 0.6803 - val_pranav_loss: 0.6545 - val_what_accuracy: 0.3051 - val_riccardo_accuracy: 0.6576 - val_federico_accuracy: 0.6305 - val_pranav_accuracy: 0.7119\n",
      "Epoch 3/200\n",
      "686/686 [==============================] - 7s 10ms/sample - loss: 3.0625 - what_loss: 1.0975 - riccardo_loss: 0.6566 - federico_loss: 0.6718 - pranav_loss: 0.6364 - what_accuracy: 0.3528 - riccardo_accuracy: 0.6749 - federico_accuracy: 0.6268 - pranav_accuracy: 0.6983 - val_loss: 3.0669 - val_what_loss: 1.0970 - val_riccardo_loss: 0.6600 - val_federico_loss: 0.6750 - val_pranav_loss: 0.6374 - val_what_accuracy: 0.3186 - val_riccardo_accuracy: 0.6576 - val_federico_accuracy: 0.6305 - val_pranav_accuracy: 0.7119\n",
      "Epoch 4/200\n",
      "686/686 [==============================] - 7s 10ms/sample - loss: 3.0277 - what_loss: 1.0942 - riccardo_loss: 0.6477 - federico_loss: 0.6682 - pranav_loss: 0.6168 - what_accuracy: 0.3659 - riccardo_accuracy: 0.6749 - federico_accuracy: 0.6254 - pranav_accuracy: 0.6997 - val_loss: 3.0368 - val_what_loss: 1.0956 - val_riccardo_loss: 0.6528 - val_federico_loss: 0.6704 - val_pranav_loss: 0.6211 - val_what_accuracy: 0.3864 - val_riccardo_accuracy: 0.6576 - val_federico_accuracy: 0.6305 - val_pranav_accuracy: 0.7119\n",
      "Epoch 5/200\n",
      "686/686 [==============================] - 7s 10ms/sample - loss: 2.9937 - what_loss: 1.0916 - riccardo_loss: 0.6415 - federico_loss: 0.6628 - pranav_loss: 0.5955 - what_accuracy: 0.3921 - riccardo_accuracy: 0.6749 - federico_accuracy: 0.6254 - pranav_accuracy: 0.6997 - val_loss: 3.0084 - val_what_loss: 1.0946 - val_riccardo_loss: 0.6474 - val_federico_loss: 0.6657 - val_pranav_loss: 0.6053 - val_what_accuracy: 0.3695 - val_riccardo_accuracy: 0.6576 - val_federico_accuracy: 0.6305 - val_pranav_accuracy: 0.7119\n",
      "Epoch 6/200\n",
      "686/686 [==============================] - 7s 10ms/sample - loss: 2.9672 - what_loss: 1.0846 - riccardo_loss: 0.6354 - federico_loss: 0.6578 - pranav_loss: 0.5905 - what_accuracy: 0.3863 - riccardo_accuracy: 0.6749 - federico_accuracy: 0.6254 - pranav_accuracy: 0.6997 - val_loss: 2.9891 - val_what_loss: 1.0931 - val_riccardo_loss: 0.6426 - val_federico_loss: 0.6615 - val_pranav_loss: 0.5970 - val_what_accuracy: 0.3593 - val_riccardo_accuracy: 0.6576 - val_federico_accuracy: 0.6305 - val_pranav_accuracy: 0.7119\n",
      "Epoch 7/200\n",
      "686/686 [==============================] - 7s 10ms/sample - loss: 2.9467 - what_loss: 1.0829 - riccardo_loss: 0.6302 - federico_loss: 0.6509 - pranav_loss: 0.5818 - what_accuracy: 0.4009 - riccardo_accuracy: 0.6749 - federico_accuracy: 0.6268 - pranav_accuracy: 0.6997 - val_loss: 2.9703 - val_what_loss: 1.0903 - val_riccardo_loss: 0.6387 - val_federico_loss: 0.6565 - val_pranav_loss: 0.5903 - val_what_accuracy: 0.4407 - val_riccardo_accuracy: 0.6576 - val_federico_accuracy: 0.6305 - val_pranav_accuracy: 0.7119\n",
      "Epoch 8/200\n",
      "686/686 [==============================] - 7s 10ms/sample - loss: 2.9336 - what_loss: 1.0806 - riccardo_loss: 0.6301 - federico_loss: 0.6476 - pranav_loss: 0.5713 - what_accuracy: 0.4111 - riccardo_accuracy: 0.6749 - federico_accuracy: 0.6312 - pranav_accuracy: 0.6997 - val_loss: 2.9506 - val_what_loss: 1.0874 - val_riccardo_loss: 0.6360 - val_federico_loss: 0.6505 - val_pranav_loss: 0.5830 - val_what_accuracy: 0.4475 - val_riccardo_accuracy: 0.6576 - val_federico_accuracy: 0.6305 - val_pranav_accuracy: 0.7119\n",
      "Epoch 9/200\n",
      "686/686 [==============================] - 7s 10ms/sample - loss: 2.9120 - what_loss: 1.0776 - riccardo_loss: 0.6253 - federico_loss: 0.6387 - pranav_loss: 0.5722 - what_accuracy: 0.4257 - riccardo_accuracy: 0.6749 - federico_accuracy: 0.6297 - pranav_accuracy: 0.6997 - val_loss: 2.9345 - val_what_loss: 1.0840 - val_riccardo_loss: 0.6336 - val_federico_loss: 0.6442 - val_pranav_loss: 0.5793 - val_what_accuracy: 0.4576 - val_riccardo_accuracy: 0.6576 - val_federico_accuracy: 0.6339 - val_pranav_accuracy: 0.7119\n",
      "Epoch 10/200\n",
      "686/686 [==============================] - 7s 10ms/sample - loss: 2.8965 - what_loss: 1.0766 - riccardo_loss: 0.6214 - federico_loss: 0.6331 - pranav_loss: 0.5650 - what_accuracy: 0.4329 - riccardo_accuracy: 0.6749 - federico_accuracy: 0.6647 - pranav_accuracy: 0.6997 - val_loss: 2.9156 - val_what_loss: 1.0799 - val_riccardo_loss: 0.6312 - val_federico_loss: 0.6367 - val_pranav_loss: 0.5746 - val_what_accuracy: 0.4102 - val_riccardo_accuracy: 0.6576 - val_federico_accuracy: 0.6339 - val_pranav_accuracy: 0.7119\n",
      "Epoch 11/200\n",
      "686/686 [==============================] - 7s 10ms/sample - loss: 2.8694 - what_loss: 1.0695 - riccardo_loss: 0.6197 - federico_loss: 0.6201 - pranav_loss: 0.5566 - what_accuracy: 0.4519 - riccardo_accuracy: 0.6749 - federico_accuracy: 0.6953 - pranav_accuracy: 0.6997 - val_loss: 2.8907 - val_what_loss: 1.0759 - val_riccardo_loss: 0.6285 - val_federico_loss: 0.6258 - val_pranav_loss: 0.5689 - val_what_accuracy: 0.4746 - val_riccardo_accuracy: 0.6576 - val_federico_accuracy: 0.6644 - val_pranav_accuracy: 0.7119\n",
      "Epoch 12/200\n",
      "686/686 [==============================] - 7s 10ms/sample - loss: 2.8295 - what_loss: 1.0590 - riccardo_loss: 0.6133 - federico_loss: 0.6046 - pranav_loss: 0.5495 - what_accuracy: 0.4781 - riccardo_accuracy: 0.6749 - federico_accuracy: 0.7493 - pranav_accuracy: 0.6997 - val_loss: 2.8649 - val_what_loss: 1.0712 - val_riccardo_loss: 0.6253 - val_federico_loss: 0.6128 - val_pranav_loss: 0.5643 - val_what_accuracy: 0.4305 - val_riccardo_accuracy: 0.6576 - val_federico_accuracy: 0.7356 - val_pranav_accuracy: 0.7119\n",
      "Epoch 13/200\n",
      "686/686 [==============================] - 7s 10ms/sample - loss: 2.8028 - what_loss: 1.0597 - riccardo_loss: 0.6193 - federico_loss: 0.5878 - pranav_loss: 0.5405 - what_accuracy: 0.4650 - riccardo_accuracy: 0.6749 - federico_accuracy: 0.7901 - pranav_accuracy: 0.6997 - val_loss: 2.8347 - val_what_loss: 1.0650 - val_riccardo_loss: 0.6230 - val_federico_loss: 0.5986 - val_pranav_loss: 0.5586 - val_what_accuracy: 0.4780 - val_riccardo_accuracy: 0.6576 - val_federico_accuracy: 0.7424 - val_pranav_accuracy: 0.7119\n",
      "Epoch 14/200\n",
      "686/686 [==============================] - 7s 11ms/sample - loss: 2.7600 - what_loss: 1.0493 - riccardo_loss: 0.6075 - federico_loss: 0.5637 - pranav_loss: 0.5352 - what_accuracy: 0.4883 - riccardo_accuracy: 0.6749 - federico_accuracy: 0.7930 - pranav_accuracy: 0.6997 - val_loss: 2.7957 - val_what_loss: 1.0583 - val_riccardo_loss: 0.6190 - val_federico_loss: 0.5787 - val_pranav_loss: 0.5525 - val_what_accuracy: 0.5051 - val_riccardo_accuracy: 0.6576 - val_federico_accuracy: 0.7898 - val_pranav_accuracy: 0.7119\n",
      "Epoch 15/200\n",
      "686/686 [==============================] - 7s 11ms/sample - loss: 2.7146 - what_loss: 1.0419 - riccardo_loss: 0.5999 - federico_loss: 0.5397 - pranav_loss: 0.5275 - what_accuracy: 0.5175 - riccardo_accuracy: 0.6749 - federico_accuracy: 0.8163 - pranav_accuracy: 0.6997 - val_loss: 2.7545 - val_what_loss: 1.0513 - val_riccardo_loss: 0.6146 - val_federico_loss: 0.5566 - val_pranav_loss: 0.5454 - val_what_accuracy: 0.4373 - val_riccardo_accuracy: 0.6576 - val_federico_accuracy: 0.8068 - val_pranav_accuracy: 0.7119\n",
      "Epoch 16/200\n",
      "686/686 [==============================] - 7s 11ms/sample - loss: 2.6632 - what_loss: 1.0322 - riccardo_loss: 0.5999 - federico_loss: 0.5119 - pranav_loss: 0.5240 - what_accuracy: 0.4913 - riccardo_accuracy: 0.6749 - federico_accuracy: 0.8192 - pranav_accuracy: 0.6997 - val_loss: 2.7171 - val_what_loss: 1.0442 - val_riccardo_loss: 0.6110 - val_federico_loss: 0.5371 - val_pranav_loss: 0.5404 - val_what_accuracy: 0.4814 - val_riccardo_accuracy: 0.6576 - val_federico_accuracy: 0.8068 - val_pranav_accuracy: 0.7119\n",
      "Epoch 17/200\n",
      "686/686 [==============================] - 7s 11ms/sample - loss: 2.6147 - what_loss: 1.0197 - riccardo_loss: 0.5965 - federico_loss: 0.4905 - pranav_loss: 0.5139 - what_accuracy: 0.5292 - riccardo_accuracy: 0.6749 - federico_accuracy: 0.8222 - pranav_accuracy: 0.6997 - val_loss: 2.6736 - val_what_loss: 1.0321 - val_riccardo_loss: 0.6072 - val_federico_loss: 0.5174 - val_pranav_loss: 0.5340 - val_what_accuracy: 0.5051 - val_riccardo_accuracy: 0.6576 - val_federico_accuracy: 0.8169 - val_pranav_accuracy: 0.7119\n",
      "Epoch 18/200\n",
      "686/686 [==============================] - 7s 11ms/sample - loss: 2.5656 - what_loss: 1.0110 - riccardo_loss: 0.5849 - federico_loss: 0.4623 - pranav_loss: 0.5036 - what_accuracy: 0.5452 - riccardo_accuracy: 0.6749 - federico_accuracy: 0.8236 - pranav_accuracy: 0.6997 - val_loss: 2.6282 - val_what_loss: 1.0199 - val_riccardo_loss: 0.6017 - val_federico_loss: 0.4959 - val_pranav_loss: 0.5297 - val_what_accuracy: 0.5119 - val_riccardo_accuracy: 0.6576 - val_federico_accuracy: 0.8169 - val_pranav_accuracy: 0.7119\n",
      "Epoch 19/200\n",
      "686/686 [==============================] - 7s 10ms/sample - loss: 2.5145 - what_loss: 0.9957 - riccardo_loss: 0.5744 - federico_loss: 0.4392 - pranav_loss: 0.4984 - what_accuracy: 0.5364 - riccardo_accuracy: 0.6735 - federico_accuracy: 0.8324 - pranav_accuracy: 0.6997 - val_loss: 2.5951 - val_what_loss: 1.0106 - val_riccardo_loss: 0.5967 - val_federico_loss: 0.4792 - val_pranav_loss: 0.5266 - val_what_accuracy: 0.4780 - val_riccardo_accuracy: 0.6576 - val_federico_accuracy: 0.8203 - val_pranav_accuracy: 0.7119\n",
      "Epoch 20/200\n",
      "686/686 [==============================] - 7s 11ms/sample - loss: 2.4758 - what_loss: 0.9832 - riccardo_loss: 0.5648 - federico_loss: 0.4187 - pranav_loss: 0.5064 - what_accuracy: 0.5452 - riccardo_accuracy: 0.6749 - federico_accuracy: 0.8309 - pranav_accuracy: 0.6997 - val_loss: 2.5669 - val_what_loss: 1.0044 - val_riccardo_loss: 0.5920 - val_federico_loss: 0.4655 - val_pranav_loss: 0.5251 - val_what_accuracy: 0.4814 - val_riccardo_accuracy: 0.6576 - val_federico_accuracy: 0.8203 - val_pranav_accuracy: 0.7119\n",
      "Epoch 21/200\n",
      "686/686 [==============================] - 7s 10ms/sample - loss: 2.4286 - what_loss: 0.9745 - riccardo_loss: 0.5585 - federico_loss: 0.4008 - pranav_loss: 0.4944 - what_accuracy: 0.5569 - riccardo_accuracy: 0.6866 - federico_accuracy: 0.8324 - pranav_accuracy: 0.6997 - val_loss: 2.5206 - val_what_loss: 0.9827 - val_riccardo_loss: 0.5869 - val_federico_loss: 0.4551 - val_pranav_loss: 0.5193 - val_what_accuracy: 0.5254 - val_riccardo_accuracy: 0.6610 - val_federico_accuracy: 0.8068 - val_pranav_accuracy: 0.7119\n",
      "Epoch 22/200\n",
      "686/686 [==============================] - 7s 10ms/sample - loss: 2.3903 - what_loss: 0.9453 - riccardo_loss: 0.5549 - federico_loss: 0.3858 - pranav_loss: 0.4897 - what_accuracy: 0.5816 - riccardo_accuracy: 0.6968 - federico_accuracy: 0.8426 - pranav_accuracy: 0.6997 - val_loss: 2.4994 - val_what_loss: 0.9779 - val_riccardo_loss: 0.5847 - val_federico_loss: 0.4413 - val_pranav_loss: 0.5172 - val_what_accuracy: 0.4847 - val_riccardo_accuracy: 0.6915 - val_federico_accuracy: 0.8271 - val_pranav_accuracy: 0.7119\n",
      "Epoch 23/200\n",
      "686/686 [==============================] - 7s 10ms/sample - loss: 2.3304 - what_loss: 0.9290 - riccardo_loss: 0.5524 - federico_loss: 0.3732 - pranav_loss: 0.4810 - what_accuracy: 0.5816 - riccardo_accuracy: 0.7201 - federico_accuracy: 0.8484 - pranav_accuracy: 0.6997 - val_loss: 2.4730 - val_what_loss: 0.9646 - val_riccardo_loss: 0.5836 - val_federico_loss: 0.4336 - val_pranav_loss: 0.5146 - val_what_accuracy: 0.5051 - val_riccardo_accuracy: 0.7017 - val_federico_accuracy: 0.8169 - val_pranav_accuracy: 0.7390\n",
      "Epoch 24/200\n",
      "686/686 [==============================] - 7s 11ms/sample - loss: 2.2897 - what_loss: 0.9021 - riccardo_loss: 0.5453 - federico_loss: 0.3591 - pranav_loss: 0.4849 - what_accuracy: 0.5860 - riccardo_accuracy: 0.7303 - federico_accuracy: 0.8528 - pranav_accuracy: 0.7012 - val_loss: 2.4352 - val_what_loss: 0.9390 - val_riccardo_loss: 0.5822 - val_federico_loss: 0.4231 - val_pranav_loss: 0.5117 - val_what_accuracy: 0.5288 - val_riccardo_accuracy: 0.6949 - val_federico_accuracy: 0.8102 - val_pranav_accuracy: 0.7288\n",
      "Epoch 25/200\n",
      "686/686 [==============================] - 7s 10ms/sample - loss: 2.2849 - what_loss: 0.9042 - riccardo_loss: 0.5339 - federico_loss: 0.3653 - pranav_loss: 0.4767 - what_accuracy: 0.5962 - riccardo_accuracy: 0.7405 - federico_accuracy: 0.8440 - pranav_accuracy: 0.7187 - val_loss: 2.3890 - val_what_loss: 0.9122 - val_riccardo_loss: 0.5806 - val_federico_loss: 0.4180 - val_pranav_loss: 0.5084 - val_what_accuracy: 0.6169 - val_riccardo_accuracy: 0.6983 - val_federico_accuracy: 0.8169 - val_pranav_accuracy: 0.7288\n",
      "Epoch 26/200\n",
      "686/686 [==============================] - 7s 10ms/sample - loss: 2.2448 - what_loss: 0.8951 - riccardo_loss: 0.5275 - federico_loss: 0.3495 - pranav_loss: 0.4692 - what_accuracy: 0.6108 - riccardo_accuracy: 0.7318 - federico_accuracy: 0.8586 - pranav_accuracy: 0.7391 - val_loss: 2.4167 - val_what_loss: 0.9361 - val_riccardo_loss: 0.5811 - val_federico_loss: 0.4189 - val_pranav_loss: 0.5082 - val_what_accuracy: 0.5119 - val_riccardo_accuracy: 0.6814 - val_federico_accuracy: 0.8237 - val_pranav_accuracy: 0.7424\n",
      "Epoch 27/200\n",
      "686/686 [==============================] - 7s 10ms/sample - loss: 2.2123 - what_loss: 0.8568 - riccardo_loss: 0.5374 - federico_loss: 0.3518 - pranav_loss: 0.4699 - what_accuracy: 0.6531 - riccardo_accuracy: 0.7362 - federico_accuracy: 0.8513 - pranav_accuracy: 0.7493 - val_loss: 2.3947 - val_what_loss: 0.9266 - val_riccardo_loss: 0.5812 - val_federico_loss: 0.4042 - val_pranav_loss: 0.5043 - val_what_accuracy: 0.5458 - val_riccardo_accuracy: 0.6847 - val_federico_accuracy: 0.8203 - val_pranav_accuracy: 0.7458\n",
      "Epoch 28/200\n",
      "686/686 [==============================] - 7s 10ms/sample - loss: 2.1675 - what_loss: 0.8340 - riccardo_loss: 0.5268 - federico_loss: 0.3438 - pranav_loss: 0.4668 - what_accuracy: 0.6472 - riccardo_accuracy: 0.7376 - federico_accuracy: 0.8513 - pranav_accuracy: 0.7478 - val_loss: 2.3945 - val_what_loss: 0.9308 - val_riccardo_loss: 0.5803 - val_federico_loss: 0.3982 - val_pranav_loss: 0.5013 - val_what_accuracy: 0.5153 - val_riccardo_accuracy: 0.6915 - val_federico_accuracy: 0.8271 - val_pranav_accuracy: 0.7458\n",
      "Epoch 29/200\n",
      "686/686 [==============================] - 7s 10ms/sample - loss: 2.1480 - what_loss: 0.8253 - riccardo_loss: 0.5327 - federico_loss: 0.3285 - pranav_loss: 0.4616 - what_accuracy: 0.6531 - riccardo_accuracy: 0.7347 - federico_accuracy: 0.8644 - pranav_accuracy: 0.7376 - val_loss: 2.3141 - val_what_loss: 0.8673 - val_riccardo_loss: 0.5800 - val_federico_loss: 0.3862 - val_pranav_loss: 0.4992 - val_what_accuracy: 0.6237 - val_riccardo_accuracy: 0.7017 - val_federico_accuracy: 0.8237 - val_pranav_accuracy: 0.7492\n",
      "Epoch 30/200\n",
      "686/686 [==============================] - 7s 10ms/sample - loss: 2.1046 - what_loss: 0.8048 - riccardo_loss: 0.5219 - federico_loss: 0.3142 - pranav_loss: 0.4666 - what_accuracy: 0.6706 - riccardo_accuracy: 0.7420 - federico_accuracy: 0.8717 - pranav_accuracy: 0.7493 - val_loss: 2.3338 - val_what_loss: 0.8715 - val_riccardo_loss: 0.5797 - val_federico_loss: 0.4023 - val_pranav_loss: 0.5006 - val_what_accuracy: 0.5729 - val_riccardo_accuracy: 0.6983 - val_federico_accuracy: 0.8373 - val_pranav_accuracy: 0.7627\n",
      "Epoch 31/200\n"
     ]
    },
    {
     "name": "stdout",
     "output_type": "stream",
     "text": [
      "686/686 [==============================] - 7s 11ms/sample - loss: 2.0685 - what_loss: 0.7694 - riccardo_loss: 0.5231 - federico_loss: 0.3290 - pranav_loss: 0.4601 - what_accuracy: 0.6793 - riccardo_accuracy: 0.7434 - federico_accuracy: 0.8688 - pranav_accuracy: 0.7434 - val_loss: 2.2902 - val_what_loss: 0.8680 - val_riccardo_loss: 0.5785 - val_federico_loss: 0.3673 - val_pranav_loss: 0.4947 - val_what_accuracy: 0.5831 - val_riccardo_accuracy: 0.6983 - val_federico_accuracy: 0.8305 - val_pranav_accuracy: 0.7627\n",
      "Epoch 32/200\n",
      "686/686 [==============================] - 7s 10ms/sample - loss: 2.0543 - what_loss: 0.7617 - riccardo_loss: 0.5286 - federico_loss: 0.2997 - pranav_loss: 0.4525 - what_accuracy: 0.6983 - riccardo_accuracy: 0.7391 - federico_accuracy: 0.8761 - pranav_accuracy: 0.7580 - val_loss: 2.2903 - val_what_loss: 0.8616 - val_riccardo_loss: 0.5792 - val_federico_loss: 0.3741 - val_pranav_loss: 0.4936 - val_what_accuracy: 0.5932 - val_riccardo_accuracy: 0.6983 - val_federico_accuracy: 0.8407 - val_pranav_accuracy: 0.7661\n",
      "Epoch 33/200\n",
      "686/686 [==============================] - 7s 11ms/sample - loss: 2.0094 - what_loss: 0.7286 - riccardo_loss: 0.5207 - federico_loss: 0.2948 - pranav_loss: 0.4525 - what_accuracy: 0.7114 - riccardo_accuracy: 0.7464 - federico_accuracy: 0.8761 - pranav_accuracy: 0.7580 - val_loss: 2.3343 - val_what_loss: 0.9028 - val_riccardo_loss: 0.5784 - val_federico_loss: 0.3671 - val_pranav_loss: 0.4916 - val_what_accuracy: 0.5627 - val_riccardo_accuracy: 0.6915 - val_federico_accuracy: 0.8441 - val_pranav_accuracy: 0.7797\n",
      "Epoch 34/200\n",
      "686/686 [==============================] - 7s 10ms/sample - loss: 1.9680 - what_loss: 0.7146 - riccardo_loss: 0.5126 - federico_loss: 0.2829 - pranav_loss: 0.4493 - what_accuracy: 0.7230 - riccardo_accuracy: 0.7420 - federico_accuracy: 0.8776 - pranav_accuracy: 0.7566 - val_loss: 2.2799 - val_what_loss: 0.8650 - val_riccardo_loss: 0.5772 - val_federico_loss: 0.3631 - val_pranav_loss: 0.4912 - val_what_accuracy: 0.5831 - val_riccardo_accuracy: 0.6949 - val_federico_accuracy: 0.8475 - val_pranav_accuracy: 0.7898\n",
      "Epoch 35/200\n",
      "686/686 [==============================] - 7s 10ms/sample - loss: 1.9271 - what_loss: 0.6890 - riccardo_loss: 0.5210 - federico_loss: 0.2772 - pranav_loss: 0.4404 - what_accuracy: 0.7230 - riccardo_accuracy: 0.7449 - federico_accuracy: 0.8863 - pranav_accuracy: 0.7580 - val_loss: 2.1940 - val_what_loss: 0.8252 - val_riccardo_loss: 0.5786 - val_federico_loss: 0.3301 - val_pranav_loss: 0.4824 - val_what_accuracy: 0.6237 - val_riccardo_accuracy: 0.6881 - val_federico_accuracy: 0.8576 - val_pranav_accuracy: 0.7729\n",
      "Epoch 36/200\n",
      "686/686 [==============================] - 7s 10ms/sample - loss: 1.8910 - what_loss: 0.6761 - riccardo_loss: 0.5121 - federico_loss: 0.2589 - pranav_loss: 0.4444 - what_accuracy: 0.7303 - riccardo_accuracy: 0.7478 - federico_accuracy: 0.8878 - pranav_accuracy: 0.7682 - val_loss: 2.1370 - val_what_loss: 0.7700 - val_riccardo_loss: 0.5761 - val_federico_loss: 0.3376 - val_pranav_loss: 0.4826 - val_what_accuracy: 0.7525 - val_riccardo_accuracy: 0.6881 - val_federico_accuracy: 0.8508 - val_pranav_accuracy: 0.7932\n",
      "Epoch 37/200\n",
      "686/686 [==============================] - 7s 10ms/sample - loss: 1.8723 - what_loss: 0.6695 - riccardo_loss: 0.5105 - federico_loss: 0.2509 - pranav_loss: 0.4341 - what_accuracy: 0.7362 - riccardo_accuracy: 0.7464 - federico_accuracy: 0.9009 - pranav_accuracy: 0.7726 - val_loss: 2.2231 - val_what_loss: 0.8246 - val_riccardo_loss: 0.5775 - val_federico_loss: 0.3574 - val_pranav_loss: 0.4808 - val_what_accuracy: 0.6034 - val_riccardo_accuracy: 0.6847 - val_federico_accuracy: 0.8475 - val_pranav_accuracy: 0.7831\n",
      "Epoch 38/200\n",
      "686/686 [==============================] - 7s 10ms/sample - loss: 1.8165 - what_loss: 0.6542 - riccardo_loss: 0.5044 - federico_loss: 0.2365 - pranav_loss: 0.4287 - what_accuracy: 0.7682 - riccardo_accuracy: 0.7420 - federico_accuracy: 0.9096 - pranav_accuracy: 0.7770 - val_loss: 2.0923 - val_what_loss: 0.7743 - val_riccardo_loss: 0.5755 - val_federico_loss: 0.3074 - val_pranav_loss: 0.4739 - val_what_accuracy: 0.7051 - val_riccardo_accuracy: 0.6847 - val_federico_accuracy: 0.8542 - val_pranav_accuracy: 0.7932\n",
      "Epoch 39/200\n",
      "686/686 [==============================] - 7s 10ms/sample - loss: 1.8033 - what_loss: 0.6271 - riccardo_loss: 0.5092 - federico_loss: 0.2404 - pranav_loss: 0.4315 - what_accuracy: 0.7682 - riccardo_accuracy: 0.7536 - federico_accuracy: 0.9125 - pranav_accuracy: 0.7609 - val_loss: 2.0867 - val_what_loss: 0.7377 - val_riccardo_loss: 0.5764 - val_federico_loss: 0.3224 - val_pranav_loss: 0.4730 - val_what_accuracy: 0.6915 - val_riccardo_accuracy: 0.6814 - val_federico_accuracy: 0.8542 - val_pranav_accuracy: 0.8000\n",
      "Epoch 40/200\n",
      "686/686 [==============================] - 7s 10ms/sample - loss: 1.7672 - what_loss: 0.6016 - riccardo_loss: 0.4990 - federico_loss: 0.2356 - pranav_loss: 0.4266 - what_accuracy: 0.7653 - riccardo_accuracy: 0.7464 - federico_accuracy: 0.9067 - pranav_accuracy: 0.7711 - val_loss: 2.0852 - val_what_loss: 0.7516 - val_riccardo_loss: 0.5737 - val_federico_loss: 0.3013 - val_pranav_loss: 0.4696 - val_what_accuracy: 0.6678 - val_riccardo_accuracy: 0.6915 - val_federico_accuracy: 0.8610 - val_pranav_accuracy: 0.7932\n",
      "Epoch 41/200\n",
      "686/686 [==============================] - 7s 10ms/sample - loss: 1.7308 - what_loss: 0.5963 - riccardo_loss: 0.5027 - federico_loss: 0.2059 - pranav_loss: 0.4189 - what_accuracy: 0.7843 - riccardo_accuracy: 0.7449 - federico_accuracy: 0.9067 - pranav_accuracy: 0.7799 - val_loss: 2.0260 - val_what_loss: 0.6963 - val_riccardo_loss: 0.5770 - val_federico_loss: 0.3162 - val_pranav_loss: 0.4650 - val_what_accuracy: 0.7254 - val_riccardo_accuracy: 0.6847 - val_federico_accuracy: 0.8610 - val_pranav_accuracy: 0.7898\n",
      "Epoch 42/200\n",
      "686/686 [==============================] - 7s 10ms/sample - loss: 1.6913 - what_loss: 0.5606 - riccardo_loss: 0.4978 - federico_loss: 0.2103 - pranav_loss: 0.4256 - what_accuracy: 0.8076 - riccardo_accuracy: 0.7478 - federico_accuracy: 0.9198 - pranav_accuracy: 0.7770 - val_loss: 2.1708 - val_what_loss: 0.8382 - val_riccardo_loss: 0.5816 - val_federico_loss: 0.2988 - val_pranav_loss: 0.4558 - val_what_accuracy: 0.6102 - val_riccardo_accuracy: 0.6780 - val_federico_accuracy: 0.8678 - val_pranav_accuracy: 0.8068\n",
      "Epoch 43/200\n",
      "686/686 [==============================] - 7s 10ms/sample - loss: 1.6330 - what_loss: 0.5319 - riccardo_loss: 0.4946 - federico_loss: 0.1909 - pranav_loss: 0.4123 - what_accuracy: 0.8149 - riccardo_accuracy: 0.7551 - federico_accuracy: 0.9286 - pranav_accuracy: 0.7843 - val_loss: 1.9253 - val_what_loss: 0.6599 - val_riccardo_loss: 0.5745 - val_federico_loss: 0.2646 - val_pranav_loss: 0.4544 - val_what_accuracy: 0.7593 - val_riccardo_accuracy: 0.6847 - val_federico_accuracy: 0.8712 - val_pranav_accuracy: 0.8000\n",
      "Epoch 44/200\n",
      "686/686 [==============================] - 7s 10ms/sample - loss: 1.6047 - what_loss: 0.5138 - riccardo_loss: 0.4882 - federico_loss: 0.1958 - pranav_loss: 0.4048 - what_accuracy: 0.8192 - riccardo_accuracy: 0.7405 - federico_accuracy: 0.9169 - pranav_accuracy: 0.7726 - val_loss: 1.9332 - val_what_loss: 0.6813 - val_riccardo_loss: 0.5741 - val_federico_loss: 0.2500 - val_pranav_loss: 0.4449 - val_what_accuracy: 0.7390 - val_riccardo_accuracy: 0.6847 - val_federico_accuracy: 0.8814 - val_pranav_accuracy: 0.8169\n",
      "Epoch 45/200\n",
      "686/686 [==============================] - 7s 10ms/sample - loss: 1.5442 - what_loss: 0.4827 - riccardo_loss: 0.4842 - federico_loss: 0.1749 - pranav_loss: 0.4078 - what_accuracy: 0.8382 - riccardo_accuracy: 0.7478 - federico_accuracy: 0.9286 - pranav_accuracy: 0.7945 - val_loss: 2.4686 - val_what_loss: 1.1468 - val_riccardo_loss: 0.5648 - val_federico_loss: 0.2521 - val_pranav_loss: 0.4576 - val_what_accuracy: 0.4712 - val_riccardo_accuracy: 0.6915 - val_federico_accuracy: 0.9017 - val_pranav_accuracy: 0.7695\n",
      "Epoch 46/200\n",
      "686/686 [==============================] - 7s 10ms/sample - loss: 1.5345 - what_loss: 0.4962 - riccardo_loss: 0.4818 - federico_loss: 0.1632 - pranav_loss: 0.3977 - what_accuracy: 0.8236 - riccardo_accuracy: 0.7507 - federico_accuracy: 0.9431 - pranav_accuracy: 0.7945 - val_loss: 1.9202 - val_what_loss: 0.6533 - val_riccardo_loss: 0.5707 - val_federico_loss: 0.2578 - val_pranav_loss: 0.4431 - val_what_accuracy: 0.7661 - val_riccardo_accuracy: 0.6915 - val_federico_accuracy: 0.8780 - val_pranav_accuracy: 0.7797\n",
      "Epoch 47/200\n",
      "686/686 [==============================] - 7s 10ms/sample - loss: 1.5138 - what_loss: 0.4488 - riccardo_loss: 0.4845 - federico_loss: 0.1742 - pranav_loss: 0.3926 - what_accuracy: 0.8571 - riccardo_accuracy: 0.7376 - federico_accuracy: 0.9257 - pranav_accuracy: 0.7959 - val_loss: 1.7275 - val_what_loss: 0.5772 - val_riccardo_loss: 0.5646 - val_federico_loss: 0.2073 - val_pranav_loss: 0.4232 - val_what_accuracy: 0.8407 - val_riccardo_accuracy: 0.6915 - val_federico_accuracy: 0.9051 - val_pranav_accuracy: 0.8203\n",
      "Epoch 48/200\n",
      "686/686 [==============================] - 7s 10ms/sample - loss: 1.4554 - what_loss: 0.4442 - riccardo_loss: 0.4826 - federico_loss: 0.1608 - pranav_loss: 0.3853 - what_accuracy: 0.8528 - riccardo_accuracy: 0.7522 - federico_accuracy: 0.9373 - pranav_accuracy: 0.8236 - val_loss: 1.8438 - val_what_loss: 0.6591 - val_riccardo_loss: 0.5576 - val_federico_loss: 0.2922 - val_pranav_loss: 0.4097 - val_what_accuracy: 0.7966 - val_riccardo_accuracy: 0.7017 - val_federico_accuracy: 0.9085 - val_pranav_accuracy: 0.8339\n",
      "Epoch 49/200\n",
      "686/686 [==============================] - 7s 10ms/sample - loss: 1.4144 - what_loss: 0.4051 - riccardo_loss: 0.4720 - federico_loss: 0.1728 - pranav_loss: 0.3705 - what_accuracy: 0.8601 - riccardo_accuracy: 0.7609 - federico_accuracy: 0.9461 - pranav_accuracy: 0.8134 - val_loss: 2.5324 - val_what_loss: 0.6048 - val_riccardo_loss: 0.6105 - val_federico_loss: 0.9052 - val_pranav_loss: 0.4104 - val_what_accuracy: 0.8000 - val_riccardo_accuracy: 0.6814 - val_federico_accuracy: 0.6983 - val_pranav_accuracy: 0.8203\n",
      "Epoch 50/200\n",
      "686/686 [==============================] - 7s 11ms/sample - loss: 1.4860 - what_loss: 0.4243 - riccardo_loss: 0.4743 - federico_loss: 0.2131 - pranav_loss: 0.3647 - what_accuracy: 0.8426 - riccardo_accuracy: 0.7609 - federico_accuracy: 0.9329 - pranav_accuracy: 0.8280 - val_loss: 1.7637 - val_what_loss: 0.5905 - val_riccardo_loss: 0.5563 - val_federico_loss: 0.2258 - val_pranav_loss: 0.4089 - val_what_accuracy: 0.8000 - val_riccardo_accuracy: 0.7085 - val_federico_accuracy: 0.8983 - val_pranav_accuracy: 0.8203\n",
      "Epoch 51/200\n",
      "686/686 [==============================] - 7s 10ms/sample - loss: 1.3254 - what_loss: 0.3693 - riccardo_loss: 0.4640 - federico_loss: 0.1220 - pranav_loss: 0.3523 - what_accuracy: 0.8761 - riccardo_accuracy: 0.7580 - federico_accuracy: 0.9490 - pranav_accuracy: 0.8309 - val_loss: 1.5930 - val_what_loss: 0.5371 - val_riccardo_loss: 0.5476 - val_federico_loss: 0.1799 - val_pranav_loss: 0.3848 - val_what_accuracy: 0.8475 - val_riccardo_accuracy: 0.7085 - val_federico_accuracy: 0.9186 - val_pranav_accuracy: 0.8441\n",
      "Epoch 52/200\n",
      "686/686 [==============================] - 7s 10ms/sample - loss: 1.3515 - what_loss: 0.3833 - riccardo_loss: 0.4727 - federico_loss: 0.1528 - pranav_loss: 0.3419 - what_accuracy: 0.8586 - riccardo_accuracy: 0.7566 - federico_accuracy: 0.9373 - pranav_accuracy: 0.8455 - val_loss: 1.6676 - val_what_loss: 0.5432 - val_riccardo_loss: 0.5513 - val_federico_loss: 0.2474 - val_pranav_loss: 0.3688 - val_what_accuracy: 0.8542 - val_riccardo_accuracy: 0.7390 - val_federico_accuracy: 0.8915 - val_pranav_accuracy: 0.8610\n",
      "Epoch 53/200\n",
      "686/686 [==============================] - 7s 10ms/sample - loss: 1.3197 - what_loss: 0.3500 - riccardo_loss: 0.4648 - federico_loss: 0.1639 - pranav_loss: 0.3377 - what_accuracy: 0.8907 - riccardo_accuracy: 0.7697 - federico_accuracy: 0.9300 - pranav_accuracy: 0.8513 - val_loss: 1.7979 - val_what_loss: 0.5931 - val_riccardo_loss: 0.5637 - val_federico_loss: 0.2958 - val_pranav_loss: 0.3668 - val_what_accuracy: 0.7661 - val_riccardo_accuracy: 0.7288 - val_federico_accuracy: 0.8644 - val_pranav_accuracy: 0.8542\n",
      "Epoch 54/200\n",
      "686/686 [==============================] - 7s 11ms/sample - loss: 1.2874 - what_loss: 0.3701 - riccardo_loss: 0.4702 - federico_loss: 0.1312 - pranav_loss: 0.3221 - what_accuracy: 0.8688 - riccardo_accuracy: 0.7697 - federico_accuracy: 0.9519 - pranav_accuracy: 0.8571 - val_loss: 1.6050 - val_what_loss: 0.5051 - val_riccardo_loss: 0.5681 - val_federico_loss: 0.2297 - val_pranav_loss: 0.3443 - val_what_accuracy: 0.8576 - val_riccardo_accuracy: 0.7322 - val_federico_accuracy: 0.9085 - val_pranav_accuracy: 0.8712\n",
      "Epoch 55/200\n",
      "686/686 [==============================] - 7s 10ms/sample - loss: 1.1592 - what_loss: 0.2809 - riccardo_loss: 0.4549 - federico_loss: 0.1121 - pranav_loss: 0.3071 - what_accuracy: 0.8980 - riccardo_accuracy: 0.7784 - federico_accuracy: 0.9548 - pranav_accuracy: 0.8717 - val_loss: 1.7599 - val_what_loss: 0.5236 - val_riccardo_loss: 0.6725 - val_federico_loss: 0.2909 - val_pranav_loss: 0.3286 - val_what_accuracy: 0.8542 - val_riccardo_accuracy: 0.6068 - val_federico_accuracy: 0.8678 - val_pranav_accuracy: 0.8780\n",
      "Epoch 56/200\n",
      "672/686 [============================>.] - ETA: 0s - loss: 1.1805 - what_loss: 0.3383 - riccardo_loss: 0.4454 - federico_loss: 0.0972 - pranav_loss: 0.2996 - what_accuracy: 0.8765 - riccardo_accuracy: 0.7857 - federico_accuracy: 0.9658 - pranav_accuracy: 0.8780\n",
      "Epoch 00056: ReduceLROnPlateau reducing learning rate to 0.007999999821186066.\n",
      "686/686 [==============================] - 7s 10ms/sample - loss: 1.1874 - what_loss: 0.3336 - riccardo_loss: 0.4545 - federico_loss: 0.1003 - pranav_loss: 0.3075 - what_accuracy: 0.8776 - riccardo_accuracy: 0.7813 - federico_accuracy: 0.9636 - pranav_accuracy: 0.8732 - val_loss: 1.6737 - val_what_loss: 0.4776 - val_riccardo_loss: 0.5578 - val_federico_loss: 0.3121 - val_pranav_loss: 0.3581 - val_what_accuracy: 0.8712 - val_riccardo_accuracy: 0.7220 - val_federico_accuracy: 0.8542 - val_pranav_accuracy: 0.8475\n",
      "Epoch 57/200\n",
      "686/686 [==============================] - 7s 11ms/sample - loss: 1.1101 - what_loss: 0.2767 - riccardo_loss: 0.4434 - federico_loss: 0.1128 - pranav_loss: 0.2957 - what_accuracy: 0.9096 - riccardo_accuracy: 0.7857 - federico_accuracy: 0.9577 - pranav_accuracy: 0.8717 - val_loss: 1.4943 - val_what_loss: 0.4680 - val_riccardo_loss: 0.5437 - val_federico_loss: 0.2026 - val_pranav_loss: 0.3342 - val_what_accuracy: 0.8746 - val_riccardo_accuracy: 0.7390 - val_federico_accuracy: 0.9390 - val_pranav_accuracy: 0.8576\n",
      "Epoch 58/200\n",
      "686/686 [==============================] - 7s 10ms/sample - loss: 1.1147 - what_loss: 0.2606 - riccardo_loss: 0.4440 - federico_loss: 0.1322 - pranav_loss: 0.2782 - what_accuracy: 0.9155 - riccardo_accuracy: 0.7930 - federico_accuracy: 0.9446 - pranav_accuracy: 0.8907 - val_loss: 1.6744 - val_what_loss: 0.4681 - val_riccardo_loss: 0.5532 - val_federico_loss: 0.3481 - val_pranav_loss: 0.3454 - val_what_accuracy: 0.8712 - val_riccardo_accuracy: 0.7559 - val_federico_accuracy: 0.8441 - val_pranav_accuracy: 0.8644\n",
      "Epoch 59/200\n",
      "686/686 [==============================] - 7s 11ms/sample - loss: 1.0273 - what_loss: 0.2357 - riccardo_loss: 0.4278 - federico_loss: 0.0957 - pranav_loss: 0.2634 - what_accuracy: 0.9184 - riccardo_accuracy: 0.8134 - federico_accuracy: 0.9636 - pranav_accuracy: 0.9067 - val_loss: 1.4043 - val_what_loss: 0.4465 - val_riccardo_loss: 0.5324 - val_federico_loss: 0.1574 - val_pranav_loss: 0.3035 - val_what_accuracy: 0.8746 - val_riccardo_accuracy: 0.7458 - val_federico_accuracy: 0.9288 - val_pranav_accuracy: 0.8847\n",
      "Epoch 60/200\n",
      "686/686 [==============================] - 7s 11ms/sample - loss: 1.0276 - what_loss: 0.2540 - riccardo_loss: 0.4271 - federico_loss: 0.0958 - pranav_loss: 0.2508 - what_accuracy: 0.9213 - riccardo_accuracy: 0.7901 - federico_accuracy: 0.9636 - pranav_accuracy: 0.8980 - val_loss: 1.4119 - val_what_loss: 0.4828 - val_riccardo_loss: 0.5726 - val_federico_loss: 0.1609 - val_pranav_loss: 0.2817 - val_what_accuracy: 0.8610 - val_riccardo_accuracy: 0.7119 - val_federico_accuracy: 0.9322 - val_pranav_accuracy: 0.9051\n"
     ]
    },
    {
     "name": "stdout",
     "output_type": "stream",
     "text": [
      "Epoch 61/200\n",
      "686/686 [==============================] - 7s 10ms/sample - loss: 1.0937 - what_loss: 0.3291 - riccardo_loss: 0.4323 - federico_loss: 0.0961 - pranav_loss: 0.2625 - what_accuracy: 0.8834 - riccardo_accuracy: 0.8003 - federico_accuracy: 0.9694 - pranav_accuracy: 0.9023 - val_loss: 1.4642 - val_what_loss: 0.5265 - val_riccardo_loss: 0.5425 - val_federico_loss: 0.1596 - val_pranav_loss: 0.2721 - val_what_accuracy: 0.8339 - val_riccardo_accuracy: 0.7831 - val_federico_accuracy: 0.9458 - val_pranav_accuracy: 0.9085\n",
      "Epoch 62/200\n",
      "686/686 [==============================] - 7s 10ms/sample - loss: 0.9868 - what_loss: 0.2464 - riccardo_loss: 0.4127 - federico_loss: 0.0992 - pranav_loss: 0.2230 - what_accuracy: 0.9140 - riccardo_accuracy: 0.7959 - federico_accuracy: 0.9665 - pranav_accuracy: 0.9271 - val_loss: 1.3445 - val_what_loss: 0.4560 - val_riccardo_loss: 0.5012 - val_federico_loss: 0.1494 - val_pranav_loss: 0.2616 - val_what_accuracy: 0.8475 - val_riccardo_accuracy: 0.7932 - val_federico_accuracy: 0.9458 - val_pranav_accuracy: 0.9085\n",
      "Epoch 63/200\n",
      "686/686 [==============================] - 7s 10ms/sample - loss: 0.9331 - what_loss: 0.2152 - riccardo_loss: 0.4178 - federico_loss: 0.0760 - pranav_loss: 0.2260 - what_accuracy: 0.9300 - riccardo_accuracy: 0.8076 - federico_accuracy: 0.9752 - pranav_accuracy: 0.9286 - val_loss: 1.3644 - val_what_loss: 0.4767 - val_riccardo_loss: 0.5159 - val_federico_loss: 0.1545 - val_pranav_loss: 0.2431 - val_what_accuracy: 0.8610 - val_riccardo_accuracy: 0.7763 - val_federico_accuracy: 0.9322 - val_pranav_accuracy: 0.9288\n",
      "Epoch 64/200\n",
      "686/686 [==============================] - 7s 11ms/sample - loss: 0.9284 - what_loss: 0.2105 - riccardo_loss: 0.3988 - federico_loss: 0.1131 - pranav_loss: 0.2127 - what_accuracy: 0.9373 - riccardo_accuracy: 0.8353 - federico_accuracy: 0.9665 - pranav_accuracy: 0.9300 - val_loss: 2.0718 - val_what_loss: 0.4157 - val_riccardo_loss: 0.5328 - val_federico_loss: 0.8868 - val_pranav_loss: 0.2393 - val_what_accuracy: 0.8881 - val_riccardo_accuracy: 0.7729 - val_federico_accuracy: 0.7593 - val_pranav_accuracy: 0.9254\n",
      "Epoch 65/200\n",
      "686/686 [==============================] - 7s 10ms/sample - loss: 0.8912 - what_loss: 0.2012 - riccardo_loss: 0.3810 - federico_loss: 0.1023 - pranav_loss: 0.1997 - what_accuracy: 0.9373 - riccardo_accuracy: 0.8265 - federico_accuracy: 0.9606 - pranav_accuracy: 0.9242 - val_loss: 1.4339 - val_what_loss: 0.5917 - val_riccardo_loss: 0.5123 - val_federico_loss: 0.1869 - val_pranav_loss: 0.2299 - val_what_accuracy: 0.8102 - val_riccardo_accuracy: 0.7898 - val_federico_accuracy: 0.9186 - val_pranav_accuracy: 0.9288\n",
      "Epoch 66/200\n",
      "686/686 [==============================] - 7s 10ms/sample - loss: 0.8983 - what_loss: 0.2370 - riccardo_loss: 0.3809 - federico_loss: 0.0857 - pranav_loss: 0.1964 - what_accuracy: 0.9300 - riccardo_accuracy: 0.8294 - federico_accuracy: 0.9679 - pranav_accuracy: 0.9344 - val_loss: 1.8322 - val_what_loss: 0.6729 - val_riccardo_loss: 0.4860 - val_federico_loss: 0.1631 - val_pranav_loss: 0.4747 - val_what_accuracy: 0.7525 - val_riccardo_accuracy: 0.7898 - val_federico_accuracy: 0.9288 - val_pranav_accuracy: 0.7831\n",
      "Epoch 67/200\n",
      "686/686 [==============================] - 7s 11ms/sample - loss: 0.8868 - what_loss: 0.2057 - riccardo_loss: 0.4069 - federico_loss: 0.0709 - pranav_loss: 0.2032 - what_accuracy: 0.9344 - riccardo_accuracy: 0.8120 - federico_accuracy: 0.9738 - pranav_accuracy: 0.9315 - val_loss: 1.2240 - val_what_loss: 0.3695 - val_riccardo_loss: 0.4876 - val_federico_loss: 0.1455 - val_pranav_loss: 0.2407 - val_what_accuracy: 0.8915 - val_riccardo_accuracy: 0.7831 - val_federico_accuracy: 0.9390 - val_pranav_accuracy: 0.9220\n",
      "Epoch 68/200\n",
      "686/686 [==============================] - 7s 11ms/sample - loss: 0.8345 - what_loss: 0.1987 - riccardo_loss: 0.3698 - federico_loss: 0.0721 - pranav_loss: 0.1983 - what_accuracy: 0.9329 - riccardo_accuracy: 0.8309 - federico_accuracy: 0.9781 - pranav_accuracy: 0.9388 - val_loss: 1.1247 - val_what_loss: 0.3548 - val_riccardo_loss: 0.4633 - val_federico_loss: 0.1641 - val_pranav_loss: 0.1794 - val_what_accuracy: 0.8949 - val_riccardo_accuracy: 0.8169 - val_federico_accuracy: 0.9322 - val_pranav_accuracy: 0.9661\n",
      "Epoch 69/200\n",
      "686/686 [==============================] - 7s 11ms/sample - loss: 0.7713 - what_loss: 0.1695 - riccardo_loss: 0.3805 - federico_loss: 0.0695 - pranav_loss: 0.1638 - what_accuracy: 0.9446 - riccardo_accuracy: 0.8236 - federico_accuracy: 0.9796 - pranav_accuracy: 0.9388 - val_loss: 1.2118 - val_what_loss: 0.3870 - val_riccardo_loss: 0.4462 - val_federico_loss: 0.1314 - val_pranav_loss: 0.2439 - val_what_accuracy: 0.8949 - val_riccardo_accuracy: 0.8441 - val_federico_accuracy: 0.9559 - val_pranav_accuracy: 0.9119\n",
      "Epoch 70/200\n",
      "686/686 [==============================] - 7s 11ms/sample - loss: 0.8078 - what_loss: 0.1847 - riccardo_loss: 0.3791 - federico_loss: 0.0622 - pranav_loss: 0.1909 - what_accuracy: 0.9402 - riccardo_accuracy: 0.8207 - federico_accuracy: 0.9810 - pranav_accuracy: 0.9286 - val_loss: 1.2296 - val_what_loss: 0.3632 - val_riccardo_loss: 0.4429 - val_federico_loss: 0.1461 - val_pranav_loss: 0.2929 - val_what_accuracy: 0.9017 - val_riccardo_accuracy: 0.8508 - val_federico_accuracy: 0.9390 - val_pranav_accuracy: 0.8746\n",
      "Epoch 71/200\n",
      "686/686 [==============================] - 7s 11ms/sample - loss: 0.7882 - what_loss: 0.1710 - riccardo_loss: 0.3646 - federico_loss: 0.0999 - pranav_loss: 0.1568 - what_accuracy: 0.9402 - riccardo_accuracy: 0.8499 - federico_accuracy: 0.9650 - pranav_accuracy: 0.9315 - val_loss: 1.1133 - val_what_loss: 0.3672 - val_riccardo_loss: 0.4486 - val_federico_loss: 0.1357 - val_pranav_loss: 0.2099 - val_what_accuracy: 0.9017 - val_riccardo_accuracy: 0.8136 - val_federico_accuracy: 0.9390 - val_pranav_accuracy: 0.9322\n",
      "Epoch 72/200\n",
      "686/686 [==============================] - 7s 11ms/sample - loss: 0.7369 - what_loss: 0.1759 - riccardo_loss: 0.3436 - federico_loss: 0.0624 - pranav_loss: 0.1644 - what_accuracy: 0.9417 - riccardo_accuracy: 0.8644 - federico_accuracy: 0.9796 - pranav_accuracy: 0.9461 - val_loss: 1.6016 - val_what_loss: 0.3716 - val_riccardo_loss: 0.6399 - val_federico_loss: 0.4284 - val_pranav_loss: 0.2225 - val_what_accuracy: 0.9017 - val_riccardo_accuracy: 0.6136 - val_federico_accuracy: 0.8542 - val_pranav_accuracy: 0.9186\n",
      "Epoch 73/200\n",
      "686/686 [==============================] - 7s 11ms/sample - loss: 0.7251 - what_loss: 0.1518 - riccardo_loss: 0.3458 - federico_loss: 0.0605 - pranav_loss: 0.1753 - what_accuracy: 0.9534 - riccardo_accuracy: 0.8440 - federico_accuracy: 0.9752 - pranav_accuracy: 0.9446 - val_loss: 2.1793 - val_what_loss: 0.3025 - val_riccardo_loss: 0.4605 - val_federico_loss: 0.1229 - val_pranav_loss: 1.2711 - val_what_accuracy: 0.9254 - val_riccardo_accuracy: 0.7864 - val_federico_accuracy: 0.9525 - val_pranav_accuracy: 0.5729\n",
      "Epoch 74/200\n",
      "686/686 [==============================] - 7s 10ms/sample - loss: 0.7255 - what_loss: 0.1365 - riccardo_loss: 0.3406 - federico_loss: 0.0548 - pranav_loss: 0.1891 - what_accuracy: 0.9606 - riccardo_accuracy: 0.8499 - federico_accuracy: 0.9767 - pranav_accuracy: 0.9257 - val_loss: 1.1419 - val_what_loss: 0.3641 - val_riccardo_loss: 0.4093 - val_federico_loss: 0.1468 - val_pranav_loss: 0.2256 - val_what_accuracy: 0.9085 - val_riccardo_accuracy: 0.8610 - val_federico_accuracy: 0.9525 - val_pranav_accuracy: 0.9220\n",
      "Epoch 75/200\n",
      "686/686 [==============================] - 7s 10ms/sample - loss: 0.6680 - what_loss: 0.1403 - riccardo_loss: 0.3327 - federico_loss: 0.0596 - pranav_loss: 0.1381 - what_accuracy: 0.9592 - riccardo_accuracy: 0.8703 - federico_accuracy: 0.9767 - pranav_accuracy: 0.9621 - val_loss: 1.6070 - val_what_loss: 0.3378 - val_riccardo_loss: 0.3968 - val_federico_loss: 0.1278 - val_pranav_loss: 0.7457 - val_what_accuracy: 0.9153 - val_riccardo_accuracy: 0.8441 - val_federico_accuracy: 0.9458 - val_pranav_accuracy: 0.7254\n",
      "Epoch 76/200\n",
      "672/686 [============================>.] - ETA: 0s - loss: 0.7073 - what_loss: 0.1560 - riccardo_loss: 0.3195 - federico_loss: 0.0592 - pranav_loss: 0.1726 - what_accuracy: 0.9464 - riccardo_accuracy: 0.8869 - federico_accuracy: 0.9792 - pranav_accuracy: 0.9420\n",
      "Epoch 00076: ReduceLROnPlateau reducing learning rate to 0.006399999558925629.\n",
      "686/686 [==============================] - 7s 10ms/sample - loss: 0.7104 - what_loss: 0.1559 - riccardo_loss: 0.3251 - federico_loss: 0.0586 - pranav_loss: 0.1745 - what_accuracy: 0.9461 - riccardo_accuracy: 0.8834 - federico_accuracy: 0.9796 - pranav_accuracy: 0.9417 - val_loss: 1.3065 - val_what_loss: 0.4729 - val_riccardo_loss: 0.4185 - val_federico_loss: 0.1234 - val_pranav_loss: 0.3243 - val_what_accuracy: 0.8678 - val_riccardo_accuracy: 0.8169 - val_federico_accuracy: 0.9525 - val_pranav_accuracy: 0.8508\n",
      "Epoch 77/200\n",
      "686/686 [==============================] - 7s 10ms/sample - loss: 0.6653 - what_loss: 0.1631 - riccardo_loss: 0.3051 - federico_loss: 0.0637 - pranav_loss: 0.1349 - what_accuracy: 0.9417 - riccardo_accuracy: 0.8732 - federico_accuracy: 0.9752 - pranav_accuracy: 0.9563 - val_loss: 1.5840 - val_what_loss: 0.3800 - val_riccardo_loss: 0.4401 - val_federico_loss: 0.1298 - val_pranav_loss: 0.6331 - val_what_accuracy: 0.9153 - val_riccardo_accuracy: 0.7966 - val_federico_accuracy: 0.9525 - val_pranav_accuracy: 0.7695\n",
      "Epoch 78/200\n",
      "686/686 [==============================] - 7s 10ms/sample - loss: 0.6147 - what_loss: 0.1366 - riccardo_loss: 0.2987 - federico_loss: 0.0511 - pranav_loss: 0.1285 - what_accuracy: 0.9548 - riccardo_accuracy: 0.8746 - federico_accuracy: 0.9796 - pranav_accuracy: 0.9650 - val_loss: 1.0378 - val_what_loss: 0.3739 - val_riccardo_loss: 0.3892 - val_federico_loss: 0.1569 - val_pranav_loss: 0.1488 - val_what_accuracy: 0.9119 - val_riccardo_accuracy: 0.8780 - val_federico_accuracy: 0.9356 - val_pranav_accuracy: 0.9627\n",
      "Epoch 79/200\n",
      "686/686 [==============================] - 7s 10ms/sample - loss: 0.5919 - what_loss: 0.1235 - riccardo_loss: 0.2980 - federico_loss: 0.0579 - pranav_loss: 0.1161 - what_accuracy: 0.9650 - riccardo_accuracy: 0.8732 - federico_accuracy: 0.9810 - pranav_accuracy: 0.9592 - val_loss: 1.1464 - val_what_loss: 0.3509 - val_riccardo_loss: 0.5304 - val_federico_loss: 0.1788 - val_pranav_loss: 0.1447 - val_what_accuracy: 0.9119 - val_riccardo_accuracy: 0.7492 - val_federico_accuracy: 0.9254 - val_pranav_accuracy: 0.9661\n",
      "Epoch 80/200\n",
      "686/686 [==============================] - 7s 10ms/sample - loss: 0.6031 - what_loss: 0.1118 - riccardo_loss: 0.2916 - federico_loss: 0.1133 - pranav_loss: 0.0876 - what_accuracy: 0.9665 - riccardo_accuracy: 0.8790 - federico_accuracy: 0.9636 - pranav_accuracy: 0.9767 - val_loss: 1.0864 - val_what_loss: 0.3160 - val_riccardo_loss: 0.4049 - val_federico_loss: 0.1174 - val_pranav_loss: 0.2557 - val_what_accuracy: 0.9085 - val_riccardo_accuracy: 0.8373 - val_federico_accuracy: 0.9458 - val_pranav_accuracy: 0.9153\n",
      "Epoch 81/200\n",
      "686/686 [==============================] - 7s 10ms/sample - loss: 0.5893 - what_loss: 0.1286 - riccardo_loss: 0.2909 - federico_loss: 0.0488 - pranav_loss: 0.1156 - what_accuracy: 0.9519 - riccardo_accuracy: 0.8892 - federico_accuracy: 0.9840 - pranav_accuracy: 0.9679 - val_loss: 0.9679 - val_what_loss: 0.3069 - val_riccardo_loss: 0.3631 - val_federico_loss: 0.1313 - val_pranav_loss: 0.1835 - val_what_accuracy: 0.9153 - val_riccardo_accuracy: 0.8847 - val_federico_accuracy: 0.9492 - val_pranav_accuracy: 0.9593\n",
      "Epoch 82/200\n",
      "686/686 [==============================] - 7s 11ms/sample - loss: 0.5318 - what_loss: 0.1184 - riccardo_loss: 0.2563 - federico_loss: 0.0546 - pranav_loss: 0.1019 - what_accuracy: 0.9592 - riccardo_accuracy: 0.9184 - federico_accuracy: 0.9767 - pranav_accuracy: 0.9694 - val_loss: 0.9294 - val_what_loss: 0.3458 - val_riccardo_loss: 0.3540 - val_federico_loss: 0.1189 - val_pranav_loss: 0.1526 - val_what_accuracy: 0.9153 - val_riccardo_accuracy: 0.9051 - val_federico_accuracy: 0.9525 - val_pranav_accuracy: 0.9627\n",
      "Epoch 83/200\n",
      "686/686 [==============================] - 7s 10ms/sample - loss: 0.5637 - what_loss: 0.1168 - riccardo_loss: 0.2866 - federico_loss: 0.0463 - pranav_loss: 0.1107 - what_accuracy: 0.9679 - riccardo_accuracy: 0.8936 - federico_accuracy: 0.9810 - pranav_accuracy: 0.9577 - val_loss: 1.0432 - val_what_loss: 0.3503 - val_riccardo_loss: 0.3363 - val_federico_loss: 0.1476 - val_pranav_loss: 0.2355 - val_what_accuracy: 0.9051 - val_riccardo_accuracy: 0.8983 - val_federico_accuracy: 0.9424 - val_pranav_accuracy: 0.9220\n",
      "Epoch 84/200\n",
      "686/686 [==============================] - 7s 10ms/sample - loss: 0.5859 - what_loss: 0.1093 - riccardo_loss: 0.2856 - federico_loss: 0.0924 - pranav_loss: 0.1045 - what_accuracy: 0.9679 - riccardo_accuracy: 0.9067 - federico_accuracy: 0.9694 - pranav_accuracy: 0.9723 - val_loss: 1.1483 - val_what_loss: 0.2949 - val_riccardo_loss: 0.3305 - val_federico_loss: 0.1451 - val_pranav_loss: 0.3743 - val_what_accuracy: 0.9186 - val_riccardo_accuracy: 0.8881 - val_federico_accuracy: 0.9458 - val_pranav_accuracy: 0.8508\n",
      "Epoch 85/200\n",
      "686/686 [==============================] - 7s 10ms/sample - loss: 0.4880 - what_loss: 0.1116 - riccardo_loss: 0.2338 - federico_loss: 0.0472 - pranav_loss: 0.0916 - what_accuracy: 0.9694 - riccardo_accuracy: 0.8994 - federico_accuracy: 0.9840 - pranav_accuracy: 0.9738 - val_loss: 0.8955 - val_what_loss: 0.2780 - val_riccardo_loss: 0.3119 - val_federico_loss: 0.1100 - val_pranav_loss: 0.2177 - val_what_accuracy: 0.9254 - val_riccardo_accuracy: 0.8915 - val_federico_accuracy: 0.9559 - val_pranav_accuracy: 0.9322\n",
      "Epoch 86/200\n",
      "686/686 [==============================] - 7s 10ms/sample - loss: 0.4996 - what_loss: 0.0992 - riccardo_loss: 0.2537 - federico_loss: 0.0554 - pranav_loss: 0.0885 - what_accuracy: 0.9708 - riccardo_accuracy: 0.9125 - federico_accuracy: 0.9825 - pranav_accuracy: 0.9679 - val_loss: 0.9531 - val_what_loss: 0.3372 - val_riccardo_loss: 0.3290 - val_federico_loss: 0.1281 - val_pranav_loss: 0.1853 - val_what_accuracy: 0.9085 - val_riccardo_accuracy: 0.8678 - val_federico_accuracy: 0.9492 - val_pranav_accuracy: 0.9593\n",
      "Epoch 87/200\n",
      "686/686 [==============================] - 7s 10ms/sample - loss: 0.4843 - what_loss: 0.1249 - riccardo_loss: 0.2335 - federico_loss: 0.0465 - pranav_loss: 0.0810 - what_accuracy: 0.9534 - riccardo_accuracy: 0.9184 - federico_accuracy: 0.9825 - pranav_accuracy: 0.9767 - val_loss: 1.0122 - val_what_loss: 0.3178 - val_riccardo_loss: 0.3120 - val_federico_loss: 0.1458 - val_pranav_loss: 0.2336 - val_what_accuracy: 0.9220 - val_riccardo_accuracy: 0.8847 - val_federico_accuracy: 0.9559 - val_pranav_accuracy: 0.9288\n",
      "Epoch 88/200\n",
      "686/686 [==============================] - 7s 10ms/sample - loss: 0.5161 - what_loss: 0.0944 - riccardo_loss: 0.2589 - federico_loss: 0.0593 - pranav_loss: 0.1004 - what_accuracy: 0.9738 - riccardo_accuracy: 0.9023 - federico_accuracy: 0.9767 - pranav_accuracy: 0.9650 - val_loss: 0.8774 - val_what_loss: 0.3148 - val_riccardo_loss: 0.3180 - val_federico_loss: 0.1442 - val_pranav_loss: 0.1246 - val_what_accuracy: 0.9220 - val_riccardo_accuracy: 0.8983 - val_federico_accuracy: 0.9458 - val_pranav_accuracy: 0.9695\n",
      "Epoch 89/200\n",
      "686/686 [==============================] - 7s 10ms/sample - loss: 0.4150 - what_loss: 0.0909 - riccardo_loss: 0.2002 - federico_loss: 0.0475 - pranav_loss: 0.0707 - what_accuracy: 0.9767 - riccardo_accuracy: 0.9359 - federico_accuracy: 0.9825 - pranav_accuracy: 0.9854 - val_loss: 0.8368 - val_what_loss: 0.2982 - val_riccardo_loss: 0.2938 - val_federico_loss: 0.1119 - val_pranav_loss: 0.1594 - val_what_accuracy: 0.9220 - val_riccardo_accuracy: 0.9119 - val_federico_accuracy: 0.9593 - val_pranav_accuracy: 0.9695\n",
      "Epoch 90/200\n",
      "686/686 [==============================] - 7s 10ms/sample - loss: 0.5799 - what_loss: 0.0997 - riccardo_loss: 0.3363 - federico_loss: 0.0496 - pranav_loss: 0.0880 - what_accuracy: 0.9636 - riccardo_accuracy: 0.8907 - federico_accuracy: 0.9810 - pranav_accuracy: 0.9767 - val_loss: 1.4426 - val_what_loss: 0.2624 - val_riccardo_loss: 0.9306 - val_federico_loss: 0.1200 - val_pranav_loss: 0.1462 - val_what_accuracy: 0.9254 - val_riccardo_accuracy: 0.5559 - val_federico_accuracy: 0.9525 - val_pranav_accuracy: 0.9695\n"
     ]
    },
    {
     "name": "stdout",
     "output_type": "stream",
     "text": [
      "Epoch 91/200\n",
      "686/686 [==============================] - 7s 10ms/sample - loss: 0.4453 - what_loss: 0.0957 - riccardo_loss: 0.2446 - federico_loss: 0.0401 - pranav_loss: 0.0646 - what_accuracy: 0.9650 - riccardo_accuracy: 0.9125 - federico_accuracy: 0.9898 - pranav_accuracy: 0.9796 - val_loss: 0.8494 - val_what_loss: 0.2912 - val_riccardo_loss: 0.3002 - val_federico_loss: 0.1446 - val_pranav_loss: 0.1324 - val_what_accuracy: 0.9322 - val_riccardo_accuracy: 0.9051 - val_federico_accuracy: 0.9424 - val_pranav_accuracy: 0.9695\n",
      "Epoch 92/200\n",
      "686/686 [==============================] - 7s 10ms/sample - loss: 0.4059 - what_loss: 0.0886 - riccardo_loss: 0.2206 - federico_loss: 0.0341 - pranav_loss: 0.0633 - what_accuracy: 0.9767 - riccardo_accuracy: 0.9300 - federico_accuracy: 0.9898 - pranav_accuracy: 0.9825 - val_loss: 1.3362 - val_what_loss: 0.2749 - val_riccardo_loss: 0.6422 - val_federico_loss: 0.1453 - val_pranav_loss: 0.2505 - val_what_accuracy: 0.9254 - val_riccardo_accuracy: 0.7627 - val_federico_accuracy: 0.9593 - val_pranav_accuracy: 0.9356\n",
      "Epoch 93/200\n",
      "686/686 [==============================] - 7s 11ms/sample - loss: 0.4885 - what_loss: 0.0900 - riccardo_loss: 0.2584 - federico_loss: 0.0525 - pranav_loss: 0.0892 - what_accuracy: 0.9738 - riccardo_accuracy: 0.9125 - federico_accuracy: 0.9781 - pranav_accuracy: 0.9708 - val_loss: 0.8905 - val_what_loss: 0.3082 - val_riccardo_loss: 0.3056 - val_federico_loss: 0.1229 - val_pranav_loss: 0.1622 - val_what_accuracy: 0.9356 - val_riccardo_accuracy: 0.8847 - val_federico_accuracy: 0.9525 - val_pranav_accuracy: 0.9627\n",
      "Epoch 94/200\n",
      "672/686 [============================>.] - ETA: 0s - loss: 0.3804 - what_loss: 0.0826 - riccardo_loss: 0.2065 - federico_loss: 0.0306 - pranav_loss: 0.0607 - what_accuracy: 0.9777 - riccardo_accuracy: 0.9301 - federico_accuracy: 0.9896 - pranav_accuracy: 0.9866\n",
      "Epoch 00094: ReduceLROnPlateau reducing learning rate to 0.0051199994981288915.\n",
      "686/686 [==============================] - 7s 10ms/sample - loss: 0.3801 - what_loss: 0.0851 - riccardo_loss: 0.2037 - federico_loss: 0.0308 - pranav_loss: 0.0602 - what_accuracy: 0.9767 - riccardo_accuracy: 0.9300 - federico_accuracy: 0.9898 - pranav_accuracy: 0.9869 - val_loss: 0.9370 - val_what_loss: 0.3639 - val_riccardo_loss: 0.2827 - val_federico_loss: 0.1181 - val_pranav_loss: 0.1740 - val_what_accuracy: 0.9254 - val_riccardo_accuracy: 0.9051 - val_federico_accuracy: 0.9525 - val_pranav_accuracy: 0.9559\n",
      "Epoch 95/200\n",
      "686/686 [==============================] - 7s 10ms/sample - loss: 0.3616 - what_loss: 0.0741 - riccardo_loss: 0.1916 - federico_loss: 0.0317 - pranav_loss: 0.0624 - what_accuracy: 0.9825 - riccardo_accuracy: 0.9373 - federico_accuracy: 0.9913 - pranav_accuracy: 0.9796 - val_loss: 0.7607 - val_what_loss: 0.3016 - val_riccardo_loss: 0.2757 - val_federico_loss: 0.1279 - val_pranav_loss: 0.0906 - val_what_accuracy: 0.9322 - val_riccardo_accuracy: 0.9085 - val_federico_accuracy: 0.9458 - val_pranav_accuracy: 0.9831\n",
      "Epoch 96/200\n",
      "686/686 [==============================] - 7s 10ms/sample - loss: 0.3256 - what_loss: 0.0704 - riccardo_loss: 0.1686 - federico_loss: 0.0296 - pranav_loss: 0.0566 - what_accuracy: 0.9796 - riccardo_accuracy: 0.9461 - federico_accuracy: 0.9913 - pranav_accuracy: 0.9883 - val_loss: 1.0412 - val_what_loss: 0.3217 - val_riccardo_loss: 0.2682 - val_federico_loss: 0.1337 - val_pranav_loss: 0.3377 - val_what_accuracy: 0.9288 - val_riccardo_accuracy: 0.9153 - val_federico_accuracy: 0.9424 - val_pranav_accuracy: 0.9153\n",
      "Epoch 97/200\n",
      "686/686 [==============================] - 7s 10ms/sample - loss: 0.3486 - what_loss: 0.0696 - riccardo_loss: 0.1660 - federico_loss: 0.0303 - pranav_loss: 0.0794 - what_accuracy: 0.9752 - riccardo_accuracy: 0.9519 - federico_accuracy: 0.9942 - pranav_accuracy: 0.9781 - val_loss: 0.8186 - val_what_loss: 0.2947 - val_riccardo_loss: 0.2930 - val_federico_loss: 0.1525 - val_pranav_loss: 0.0982 - val_what_accuracy: 0.9288 - val_riccardo_accuracy: 0.9017 - val_federico_accuracy: 0.9424 - val_pranav_accuracy: 0.9797\n",
      "Epoch 98/200\n",
      "686/686 [==============================] - 7s 10ms/sample - loss: 0.3290 - what_loss: 0.0690 - riccardo_loss: 0.1648 - federico_loss: 0.0253 - pranav_loss: 0.0676 - what_accuracy: 0.9810 - riccardo_accuracy: 0.9431 - federico_accuracy: 0.9942 - pranav_accuracy: 0.9738 - val_loss: 0.7863 - val_what_loss: 0.2847 - val_riccardo_loss: 0.2944 - val_federico_loss: 0.1361 - val_pranav_loss: 0.0932 - val_what_accuracy: 0.9322 - val_riccardo_accuracy: 0.9051 - val_federico_accuracy: 0.9424 - val_pranav_accuracy: 0.9763\n",
      "Epoch 99/200\n",
      "686/686 [==============================] - 7s 10ms/sample - loss: 0.3255 - what_loss: 0.0809 - riccardo_loss: 0.1605 - federico_loss: 0.0349 - pranav_loss: 0.0481 - what_accuracy: 0.9708 - riccardo_accuracy: 0.9475 - federico_accuracy: 0.9869 - pranav_accuracy: 0.9898 - val_loss: 0.8814 - val_what_loss: 0.3018 - val_riccardo_loss: 0.2532 - val_federico_loss: 0.1321 - val_pranav_loss: 0.2067 - val_what_accuracy: 0.9356 - val_riccardo_accuracy: 0.9254 - val_federico_accuracy: 0.9492 - val_pranav_accuracy: 0.9525\n",
      "Epoch 100/200\n",
      "672/686 [============================>.] - ETA: 0s - loss: 0.3808 - what_loss: 0.0845 - riccardo_loss: 0.1875 - federico_loss: 0.0268 - pranav_loss: 0.0820 - what_accuracy: 0.9762 - riccardo_accuracy: 0.9301 - federico_accuracy: 0.9926 - pranav_accuracy: 0.9747\n",
      "Epoch 00100: ReduceLROnPlateau reducing learning rate to 0.004095999523997307.\n",
      "686/686 [==============================] - 7s 11ms/sample - loss: 0.3757 - what_loss: 0.0820 - riccardo_loss: 0.1824 - federico_loss: 0.0258 - pranav_loss: 0.0792 - what_accuracy: 0.9767 - riccardo_accuracy: 0.9315 - federico_accuracy: 0.9927 - pranav_accuracy: 0.9752 - val_loss: 0.9075 - val_what_loss: 0.2832 - val_riccardo_loss: 0.2508 - val_federico_loss: 0.1503 - val_pranav_loss: 0.2303 - val_what_accuracy: 0.9288 - val_riccardo_accuracy: 0.9288 - val_federico_accuracy: 0.9424 - val_pranav_accuracy: 0.9424\n",
      "Epoch 101/200\n",
      "686/686 [==============================] - 7s 11ms/sample - loss: 0.2943 - what_loss: 0.0693 - riccardo_loss: 0.1423 - federico_loss: 0.0308 - pranav_loss: 0.0490 - what_accuracy: 0.9810 - riccardo_accuracy: 0.9475 - federico_accuracy: 0.9898 - pranav_accuracy: 0.9825 - val_loss: 0.7979 - val_what_loss: 0.2809 - val_riccardo_loss: 0.2658 - val_federico_loss: 0.1320 - val_pranav_loss: 0.1381 - val_what_accuracy: 0.9390 - val_riccardo_accuracy: 0.9153 - val_federico_accuracy: 0.9458 - val_pranav_accuracy: 0.9661\n",
      "Epoch 102/200\n",
      "686/686 [==============================] - 7s 11ms/sample - loss: 0.3369 - what_loss: 0.0700 - riccardo_loss: 0.1686 - federico_loss: 0.0398 - pranav_loss: 0.0566 - what_accuracy: 0.9781 - riccardo_accuracy: 0.9417 - federico_accuracy: 0.9869 - pranav_accuracy: 0.9869 - val_loss: 0.7750 - val_what_loss: 0.2886 - val_riccardo_loss: 0.2419 - val_federico_loss: 0.1102 - val_pranav_loss: 0.1453 - val_what_accuracy: 0.9356 - val_riccardo_accuracy: 0.9288 - val_federico_accuracy: 0.9525 - val_pranav_accuracy: 0.9661\n",
      "Epoch 103/200\n",
      "686/686 [==============================] - 7s 11ms/sample - loss: 0.2887 - what_loss: 0.0713 - riccardo_loss: 0.1557 - federico_loss: 0.0229 - pranav_loss: 0.0380 - what_accuracy: 0.9825 - riccardo_accuracy: 0.9504 - federico_accuracy: 0.9942 - pranav_accuracy: 0.9898 - val_loss: 0.8185 - val_what_loss: 0.3025 - val_riccardo_loss: 0.2711 - val_federico_loss: 0.1309 - val_pranav_loss: 0.1367 - val_what_accuracy: 0.9356 - val_riccardo_accuracy: 0.9119 - val_federico_accuracy: 0.9492 - val_pranav_accuracy: 0.9661\n",
      "Epoch 104/200\n",
      "686/686 [==============================] - 7s 11ms/sample - loss: 0.3434 - what_loss: 0.0697 - riccardo_loss: 0.1666 - federico_loss: 0.0404 - pranav_loss: 0.0747 - what_accuracy: 0.9854 - riccardo_accuracy: 0.9461 - federico_accuracy: 0.9869 - pranav_accuracy: 0.9752 - val_loss: 1.1375 - val_what_loss: 0.2890 - val_riccardo_loss: 0.6160 - val_federico_loss: 0.0876 - val_pranav_loss: 0.1786 - val_what_accuracy: 0.9254 - val_riccardo_accuracy: 0.7153 - val_federico_accuracy: 0.9695 - val_pranav_accuracy: 0.9627\n",
      "Epoch 105/200\n",
      "672/686 [============================>.] - ETA: 0s - loss: 0.3755 - what_loss: 0.0767 - riccardo_loss: 0.2115 - federico_loss: 0.0298 - pranav_loss: 0.0574 - what_accuracy: 0.9777 - riccardo_accuracy: 0.9241 - federico_accuracy: 0.9896 - pranav_accuracy: 0.9821\n",
      "Epoch 00105: ReduceLROnPlateau reducing learning rate to 0.0032767996191978457.\n",
      "686/686 [==============================] - 7s 11ms/sample - loss: 0.3716 - what_loss: 0.0766 - riccardo_loss: 0.2060 - federico_loss: 0.0286 - pranav_loss: 0.0556 - what_accuracy: 0.9767 - riccardo_accuracy: 0.9242 - federico_accuracy: 0.9898 - pranav_accuracy: 0.9825 - val_loss: 0.8081 - val_what_loss: 0.2924 - val_riccardo_loss: 0.2384 - val_federico_loss: 0.1059 - val_pranav_loss: 0.1847 - val_what_accuracy: 0.9356 - val_riccardo_accuracy: 0.9288 - val_federico_accuracy: 0.9559 - val_pranav_accuracy: 0.9627\n",
      "Epoch 106/200\n",
      "686/686 [==============================] - 7s 11ms/sample - loss: 0.2798 - what_loss: 0.0647 - riccardo_loss: 0.1379 - federico_loss: 0.0232 - pranav_loss: 0.0538 - what_accuracy: 0.9840 - riccardo_accuracy: 0.9475 - federico_accuracy: 0.9883 - pranav_accuracy: 0.9854 - val_loss: 0.8326 - val_what_loss: 0.3118 - val_riccardo_loss: 0.2582 - val_federico_loss: 0.1551 - val_pranav_loss: 0.1306 - val_what_accuracy: 0.9356 - val_riccardo_accuracy: 0.9153 - val_federico_accuracy: 0.9458 - val_pranav_accuracy: 0.9661\n",
      "Epoch 107/200\n",
      "686/686 [==============================] - 7s 11ms/sample - loss: 0.2631 - what_loss: 0.0609 - riccardo_loss: 0.1327 - federico_loss: 0.0267 - pranav_loss: 0.0423 - what_accuracy: 0.9825 - riccardo_accuracy: 0.9519 - federico_accuracy: 0.9883 - pranav_accuracy: 0.9898 - val_loss: 0.7406 - val_what_loss: 0.2735 - val_riccardo_loss: 0.2272 - val_federico_loss: 0.1082 - val_pranav_loss: 0.1349 - val_what_accuracy: 0.9458 - val_riccardo_accuracy: 0.9288 - val_federico_accuracy: 0.9559 - val_pranav_accuracy: 0.9661\n",
      "Epoch 108/200\n",
      "686/686 [==============================] - 7s 11ms/sample - loss: 0.2690 - what_loss: 0.0666 - riccardo_loss: 0.1405 - federico_loss: 0.0239 - pranav_loss: 0.0369 - what_accuracy: 0.9810 - riccardo_accuracy: 0.9650 - federico_accuracy: 0.9927 - pranav_accuracy: 0.9913 - val_loss: 0.7509 - val_what_loss: 0.2808 - val_riccardo_loss: 0.2354 - val_federico_loss: 0.1072 - val_pranav_loss: 0.1388 - val_what_accuracy: 0.9424 - val_riccardo_accuracy: 0.9220 - val_federico_accuracy: 0.9559 - val_pranav_accuracy: 0.9661\n",
      "Epoch 109/200\n",
      "686/686 [==============================] - 7s 11ms/sample - loss: 0.2804 - what_loss: 0.0672 - riccardo_loss: 0.1427 - federico_loss: 0.0251 - pranav_loss: 0.0428 - what_accuracy: 0.9781 - riccardo_accuracy: 0.9563 - federico_accuracy: 0.9883 - pranav_accuracy: 0.9898 - val_loss: 0.8036 - val_what_loss: 0.3373 - val_riccardo_loss: 0.2261 - val_federico_loss: 0.0963 - val_pranav_loss: 0.1574 - val_what_accuracy: 0.9356 - val_riccardo_accuracy: 0.9390 - val_federico_accuracy: 0.9627 - val_pranav_accuracy: 0.9661\n",
      "Epoch 110/200\n",
      "686/686 [==============================] - 7s 11ms/sample - loss: 0.2530 - what_loss: 0.0580 - riccardo_loss: 0.1299 - federico_loss: 0.0244 - pranav_loss: 0.0418 - what_accuracy: 0.9796 - riccardo_accuracy: 0.9592 - federico_accuracy: 0.9942 - pranav_accuracy: 0.9942 - val_loss: 0.7435 - val_what_loss: 0.3069 - val_riccardo_loss: 0.2386 - val_federico_loss: 0.0940 - val_pranav_loss: 0.1278 - val_what_accuracy: 0.9390 - val_riccardo_accuracy: 0.9220 - val_federico_accuracy: 0.9661 - val_pranav_accuracy: 0.9661\n",
      "Epoch 111/200\n",
      "686/686 [==============================] - 7s 11ms/sample - loss: 0.2579 - what_loss: 0.0615 - riccardo_loss: 0.1304 - federico_loss: 0.0213 - pranav_loss: 0.0403 - what_accuracy: 0.9796 - riccardo_accuracy: 0.9577 - federico_accuracy: 0.9913 - pranav_accuracy: 0.9913 - val_loss: 0.8069 - val_what_loss: 0.3062 - val_riccardo_loss: 0.2222 - val_federico_loss: 0.1171 - val_pranav_loss: 0.1792 - val_what_accuracy: 0.9356 - val_riccardo_accuracy: 0.9322 - val_federico_accuracy: 0.9559 - val_pranav_accuracy: 0.9627\n",
      "Epoch 112/200\n",
      "672/686 [============================>.] - ETA: 0s - loss: 0.2689 - what_loss: 0.0627 - riccardo_loss: 0.1341 - federico_loss: 0.0318 - pranav_loss: 0.0403 - what_accuracy: 0.9821 - riccardo_accuracy: 0.9643 - federico_accuracy: 0.9896 - pranav_accuracy: 0.9911\n",
      "Epoch 00112: ReduceLROnPlateau reducing learning rate to 0.0026214396581053737.\n",
      "686/686 [==============================] - 7s 10ms/sample - loss: 0.2705 - what_loss: 0.0638 - riccardo_loss: 0.1382 - federico_loss: 0.0306 - pranav_loss: 0.0399 - what_accuracy: 0.9825 - riccardo_accuracy: 0.9636 - federico_accuracy: 0.9898 - pranav_accuracy: 0.9913 - val_loss: 0.7549 - val_what_loss: 0.2759 - val_riccardo_loss: 0.2910 - val_federico_loss: 0.1005 - val_pranav_loss: 0.1169 - val_what_accuracy: 0.9424 - val_riccardo_accuracy: 0.9051 - val_federico_accuracy: 0.9593 - val_pranav_accuracy: 0.9695\n",
      "Epoch 113/200\n",
      "686/686 [==============================] - 7s 10ms/sample - loss: 0.2699 - what_loss: 0.0621 - riccardo_loss: 0.1444 - federico_loss: 0.0302 - pranav_loss: 0.0434 - what_accuracy: 0.9767 - riccardo_accuracy: 0.9621 - federico_accuracy: 0.9898 - pranav_accuracy: 0.9913 - val_loss: 0.8729 - val_what_loss: 0.3188 - val_riccardo_loss: 0.2607 - val_federico_loss: 0.1170 - val_pranav_loss: 0.1941 - val_what_accuracy: 0.9390 - val_riccardo_accuracy: 0.9186 - val_federico_accuracy: 0.9525 - val_pranav_accuracy: 0.9593\n",
      "Epoch 114/200\n",
      "686/686 [==============================] - 7s 10ms/sample - loss: 0.2431 - what_loss: 0.0503 - riccardo_loss: 0.1256 - federico_loss: 0.0260 - pranav_loss: 0.0472 - what_accuracy: 0.9913 - riccardo_accuracy: 0.9577 - federico_accuracy: 0.9956 - pranav_accuracy: 0.9869 - val_loss: 0.7980 - val_what_loss: 0.3028 - val_riccardo_loss: 0.2318 - val_federico_loss: 0.0865 - val_pranav_loss: 0.1883 - val_what_accuracy: 0.9424 - val_riccardo_accuracy: 0.9356 - val_federico_accuracy: 0.9661 - val_pranav_accuracy: 0.9559\n",
      "Epoch 115/200\n",
      "686/686 [==============================] - 7s 10ms/sample - loss: 0.2514 - what_loss: 0.0554 - riccardo_loss: 0.1311 - federico_loss: 0.0234 - pranav_loss: 0.0387 - what_accuracy: 0.9898 - riccardo_accuracy: 0.9534 - federico_accuracy: 0.9942 - pranav_accuracy: 0.9883 - val_loss: 0.7992 - val_what_loss: 0.2822 - val_riccardo_loss: 0.2614 - val_federico_loss: 0.1229 - val_pranav_loss: 0.1554 - val_what_accuracy: 0.9424 - val_riccardo_accuracy: 0.9186 - val_federico_accuracy: 0.9525 - val_pranav_accuracy: 0.9661\n",
      "Epoch 116/200\n",
      "686/686 [==============================] - 7s 11ms/sample - loss: 0.2366 - what_loss: 0.0518 - riccardo_loss: 0.1185 - federico_loss: 0.0231 - pranav_loss: 0.0407 - what_accuracy: 0.9825 - riccardo_accuracy: 0.9606 - federico_accuracy: 0.9898 - pranav_accuracy: 0.9898 - val_loss: 0.7862 - val_what_loss: 0.3116 - val_riccardo_loss: 0.2525 - val_federico_loss: 0.1145 - val_pranav_loss: 0.1351 - val_what_accuracy: 0.9424 - val_riccardo_accuracy: 0.9186 - val_federico_accuracy: 0.9525 - val_pranav_accuracy: 0.9661\n",
      "Epoch 117/200\n",
      "686/686 [==============================] - 7s 10ms/sample - loss: 0.2417 - what_loss: 0.0602 - riccardo_loss: 0.1234 - federico_loss: 0.0219 - pranav_loss: 0.0354 - what_accuracy: 0.9854 - riccardo_accuracy: 0.9548 - federico_accuracy: 0.9927 - pranav_accuracy: 0.9913 - val_loss: 0.7291 - val_what_loss: 0.2856 - val_riccardo_loss: 0.2211 - val_federico_loss: 0.0827 - val_pranav_loss: 0.1527 - val_what_accuracy: 0.9458 - val_riccardo_accuracy: 0.9458 - val_federico_accuracy: 0.9695 - val_pranav_accuracy: 0.9661\n",
      "Epoch 118/200\n",
      "686/686 [==============================] - 7s 10ms/sample - loss: 0.2311 - what_loss: 0.0514 - riccardo_loss: 0.1246 - federico_loss: 0.0251 - pranav_loss: 0.0316 - what_accuracy: 0.9840 - riccardo_accuracy: 0.9577 - federico_accuracy: 0.9913 - pranav_accuracy: 0.9927 - val_loss: 0.8366 - val_what_loss: 0.2994 - val_riccardo_loss: 0.2969 - val_federico_loss: 0.1270 - val_pranav_loss: 0.1323 - val_what_accuracy: 0.9390 - val_riccardo_accuracy: 0.9051 - val_federico_accuracy: 0.9525 - val_pranav_accuracy: 0.9661\n",
      "Epoch 119/200\n"
     ]
    },
    {
     "name": "stdout",
     "output_type": "stream",
     "text": [
      "686/686 [==============================] - 7s 10ms/sample - loss: 0.2436 - what_loss: 0.0557 - riccardo_loss: 0.1294 - federico_loss: 0.0230 - pranav_loss: 0.0363 - what_accuracy: 0.9810 - riccardo_accuracy: 0.9606 - federico_accuracy: 0.9913 - pranav_accuracy: 0.9956 - val_loss: 0.7650 - val_what_loss: 0.2939 - val_riccardo_loss: 0.2077 - val_federico_loss: 0.1361 - val_pranav_loss: 0.1411 - val_what_accuracy: 0.9390 - val_riccardo_accuracy: 0.9458 - val_federico_accuracy: 0.9492 - val_pranav_accuracy: 0.9661\n",
      "Epoch 120/200\n",
      "686/686 [==============================] - 7s 10ms/sample - loss: 0.2429 - what_loss: 0.0519 - riccardo_loss: 0.1226 - federico_loss: 0.0291 - pranav_loss: 0.0362 - what_accuracy: 0.9854 - riccardo_accuracy: 0.9636 - federico_accuracy: 0.9898 - pranav_accuracy: 0.9898 - val_loss: 0.7642 - val_what_loss: 0.3093 - val_riccardo_loss: 0.2087 - val_federico_loss: 0.0933 - val_pranav_loss: 0.1522 - val_what_accuracy: 0.9424 - val_riccardo_accuracy: 0.9356 - val_federico_accuracy: 0.9627 - val_pranav_accuracy: 0.9661\n",
      "Epoch 121/200\n",
      "686/686 [==============================] - 7s 10ms/sample - loss: 0.2191 - what_loss: 0.0539 - riccardo_loss: 0.1078 - federico_loss: 0.0233 - pranav_loss: 0.0351 - what_accuracy: 0.9883 - riccardo_accuracy: 0.9694 - federico_accuracy: 0.9956 - pranav_accuracy: 0.9913 - val_loss: 0.8564 - val_what_loss: 0.3113 - val_riccardo_loss: 0.3246 - val_federico_loss: 0.1625 - val_pranav_loss: 0.0775 - val_what_accuracy: 0.9424 - val_riccardo_accuracy: 0.8814 - val_federico_accuracy: 0.9424 - val_pranav_accuracy: 0.9864\n",
      "Epoch 122/200\n",
      "686/686 [==============================] - 7s 10ms/sample - loss: 0.2454 - what_loss: 0.0496 - riccardo_loss: 0.1414 - federico_loss: 0.0230 - pranav_loss: 0.0330 - what_accuracy: 0.9883 - riccardo_accuracy: 0.9519 - federico_accuracy: 0.9898 - pranav_accuracy: 0.9898 - val_loss: 0.7182 - val_what_loss: 0.3122 - val_riccardo_loss: 0.2135 - val_federico_loss: 0.1009 - val_pranav_loss: 0.1213 - val_what_accuracy: 0.9424 - val_riccardo_accuracy: 0.9424 - val_federico_accuracy: 0.9593 - val_pranav_accuracy: 0.9729\n",
      "Epoch 123/200\n",
      "686/686 [==============================] - 7s 10ms/sample - loss: 0.2051 - what_loss: 0.0500 - riccardo_loss: 0.1126 - federico_loss: 0.0193 - pranav_loss: 0.0260 - what_accuracy: 0.9840 - riccardo_accuracy: 0.9621 - federico_accuracy: 0.9913 - pranav_accuracy: 0.9956 - val_loss: 0.7635 - val_what_loss: 0.2836 - val_riccardo_loss: 0.2431 - val_federico_loss: 0.1032 - val_pranav_loss: 0.1498 - val_what_accuracy: 0.9492 - val_riccardo_accuracy: 0.9220 - val_federico_accuracy: 0.9559 - val_pranav_accuracy: 0.9661\n",
      "Epoch 124/200\n",
      "686/686 [==============================] - 7s 11ms/sample - loss: 0.2283 - what_loss: 0.0523 - riccardo_loss: 0.1282 - federico_loss: 0.0183 - pranav_loss: 0.0272 - what_accuracy: 0.9840 - riccardo_accuracy: 0.9563 - federico_accuracy: 0.9942 - pranav_accuracy: 0.9956 - val_loss: 0.7881 - val_what_loss: 0.2986 - val_riccardo_loss: 0.2451 - val_federico_loss: 0.1115 - val_pranav_loss: 0.1427 - val_what_accuracy: 0.9390 - val_riccardo_accuracy: 0.9220 - val_federico_accuracy: 0.9559 - val_pranav_accuracy: 0.9695\n",
      "Epoch 125/200\n",
      "686/686 [==============================] - 7s 11ms/sample - loss: 0.2310 - what_loss: 0.0410 - riccardo_loss: 0.1261 - federico_loss: 0.0310 - pranav_loss: 0.0294 - what_accuracy: 0.9927 - riccardo_accuracy: 0.9621 - federico_accuracy: 0.9898 - pranav_accuracy: 0.9927 - val_loss: 0.7468 - val_what_loss: 0.2934 - val_riccardo_loss: 0.2049 - val_federico_loss: 0.1007 - val_pranav_loss: 0.1519 - val_what_accuracy: 0.9458 - val_riccardo_accuracy: 0.9424 - val_federico_accuracy: 0.9593 - val_pranav_accuracy: 0.9661\n",
      "Epoch 126/200\n",
      "686/686 [==============================] - 7s 10ms/sample - loss: 0.2197 - what_loss: 0.0471 - riccardo_loss: 0.1155 - federico_loss: 0.0169 - pranav_loss: 0.0439 - what_accuracy: 0.9854 - riccardo_accuracy: 0.9679 - federico_accuracy: 0.9971 - pranav_accuracy: 0.9913 - val_loss: 0.7487 - val_what_loss: 0.2908 - val_riccardo_loss: 0.2026 - val_federico_loss: 0.1085 - val_pranav_loss: 0.1496 - val_what_accuracy: 0.9492 - val_riccardo_accuracy: 0.9390 - val_federico_accuracy: 0.9559 - val_pranav_accuracy: 0.9661\n",
      "Epoch 127/200\n",
      "672/686 [============================>.] - ETA: 0s - loss: 0.2366 - what_loss: 0.0587 - riccardo_loss: 0.1256 - federico_loss: 0.0202 - pranav_loss: 0.0321 - what_accuracy: 0.9836 - riccardo_accuracy: 0.9658 - federico_accuracy: 0.9940 - pranav_accuracy: 0.9911\n",
      "Epoch 00127: ReduceLROnPlateau reducing learning rate to 0.0020971518009901048.\n",
      "686/686 [==============================] - 7s 10ms/sample - loss: 0.2343 - what_loss: 0.0580 - riccardo_loss: 0.1233 - federico_loss: 0.0193 - pranav_loss: 0.0310 - what_accuracy: 0.9840 - riccardo_accuracy: 0.9665 - federico_accuracy: 0.9942 - pranav_accuracy: 0.9913 - val_loss: 0.7296 - val_what_loss: 0.2825 - val_riccardo_loss: 0.2340 - val_federico_loss: 0.1106 - val_pranav_loss: 0.1180 - val_what_accuracy: 0.9390 - val_riccardo_accuracy: 0.9254 - val_federico_accuracy: 0.9559 - val_pranav_accuracy: 0.9763\n",
      "Epoch 128/200\n",
      "686/686 [==============================] - 7s 11ms/sample - loss: 0.2088 - what_loss: 0.0529 - riccardo_loss: 0.0969 - federico_loss: 0.0322 - pranav_loss: 0.0322 - what_accuracy: 0.9840 - riccardo_accuracy: 0.9781 - federico_accuracy: 0.9927 - pranav_accuracy: 0.9927 - val_loss: 0.7671 - val_what_loss: 0.3053 - val_riccardo_loss: 0.2400 - val_federico_loss: 0.1240 - val_pranav_loss: 0.1169 - val_what_accuracy: 0.9390 - val_riccardo_accuracy: 0.9254 - val_federico_accuracy: 0.9525 - val_pranav_accuracy: 0.9763\n",
      "Epoch 129/200\n",
      "686/686 [==============================] - 7s 10ms/sample - loss: 0.2188 - what_loss: 0.0471 - riccardo_loss: 0.1186 - federico_loss: 0.0180 - pranav_loss: 0.0325 - what_accuracy: 0.9883 - riccardo_accuracy: 0.9606 - federico_accuracy: 0.9956 - pranav_accuracy: 0.9927 - val_loss: 0.7841 - val_what_loss: 0.3063 - val_riccardo_loss: 0.2022 - val_federico_loss: 0.1125 - val_pranav_loss: 0.1763 - val_what_accuracy: 0.9390 - val_riccardo_accuracy: 0.9356 - val_federico_accuracy: 0.9525 - val_pranav_accuracy: 0.9627\n",
      "Epoch 130/200\n",
      "686/686 [==============================] - 7s 10ms/sample - loss: 0.2236 - what_loss: 0.0474 - riccardo_loss: 0.1197 - federico_loss: 0.0221 - pranav_loss: 0.0404 - what_accuracy: 0.9883 - riccardo_accuracy: 0.9665 - federico_accuracy: 0.9927 - pranav_accuracy: 0.9898 - val_loss: 0.7998 - val_what_loss: 0.2853 - val_riccardo_loss: 0.3011 - val_federico_loss: 0.1055 - val_pranav_loss: 0.1153 - val_what_accuracy: 0.9390 - val_riccardo_accuracy: 0.9085 - val_federico_accuracy: 0.9661 - val_pranav_accuracy: 0.9763\n",
      "Epoch 131/200\n",
      "686/686 [==============================] - 7s 10ms/sample - loss: 0.2414 - what_loss: 0.0451 - riccardo_loss: 0.1284 - federico_loss: 0.0338 - pranav_loss: 0.0396 - what_accuracy: 0.9898 - riccardo_accuracy: 0.9592 - federico_accuracy: 0.9854 - pranav_accuracy: 0.9942 - val_loss: 0.8482 - val_what_loss: 0.3166 - val_riccardo_loss: 0.3530 - val_federico_loss: 0.1137 - val_pranav_loss: 0.0936 - val_what_accuracy: 0.9424 - val_riccardo_accuracy: 0.8678 - val_federico_accuracy: 0.9559 - val_pranav_accuracy: 0.9864\n",
      "Epoch 132/200\n",
      "672/686 [============================>.] - ETA: 0s - loss: 0.1977 - what_loss: 0.0499 - riccardo_loss: 0.1048 - federico_loss: 0.0178 - pranav_loss: 0.0252 - what_accuracy: 0.9836 - riccardo_accuracy: 0.9658 - federico_accuracy: 0.9955 - pranav_accuracy: 0.9970\n",
      "Epoch 00132: ReduceLROnPlateau reducing learning rate to 0.0016777213662862779.\n",
      "686/686 [==============================] - 7s 10ms/sample - loss: 0.1986 - what_loss: 0.0500 - riccardo_loss: 0.1057 - federico_loss: 0.0180 - pranav_loss: 0.0260 - what_accuracy: 0.9840 - riccardo_accuracy: 0.9665 - federico_accuracy: 0.9956 - pranav_accuracy: 0.9971 - val_loss: 0.7680 - val_what_loss: 0.3104 - val_riccardo_loss: 0.1998 - val_federico_loss: 0.1016 - val_pranav_loss: 0.1715 - val_what_accuracy: 0.9390 - val_riccardo_accuracy: 0.9322 - val_federico_accuracy: 0.9661 - val_pranav_accuracy: 0.9627\n",
      "Epoch 133/200\n",
      "686/686 [==============================] - 7s 10ms/sample - loss: 0.2174 - what_loss: 0.0469 - riccardo_loss: 0.1221 - federico_loss: 0.0155 - pranav_loss: 0.0372 - what_accuracy: 0.9883 - riccardo_accuracy: 0.9679 - federico_accuracy: 0.9971 - pranav_accuracy: 0.9913 - val_loss: 0.7257 - val_what_loss: 0.3007 - val_riccardo_loss: 0.1963 - val_federico_loss: 0.0983 - val_pranav_loss: 0.1457 - val_what_accuracy: 0.9424 - val_riccardo_accuracy: 0.9492 - val_federico_accuracy: 0.9661 - val_pranav_accuracy: 0.9695\n",
      "Epoch 134/200\n",
      "686/686 [==============================] - 7s 10ms/sample - loss: 0.2011 - what_loss: 0.0400 - riccardo_loss: 0.1071 - federico_loss: 0.0214 - pranav_loss: 0.0297 - what_accuracy: 0.9913 - riccardo_accuracy: 0.9723 - federico_accuracy: 0.9913 - pranav_accuracy: 0.9927 - val_loss: 0.8197 - val_what_loss: 0.2928 - val_riccardo_loss: 0.2022 - val_federico_loss: 0.1599 - val_pranav_loss: 0.1698 - val_what_accuracy: 0.9559 - val_riccardo_accuracy: 0.9322 - val_federico_accuracy: 0.9492 - val_pranav_accuracy: 0.9627\n",
      "Epoch 135/200\n",
      "686/686 [==============================] - 7s 10ms/sample - loss: 0.2161 - what_loss: 0.0484 - riccardo_loss: 0.1045 - federico_loss: 0.0288 - pranav_loss: 0.0343 - what_accuracy: 0.9869 - riccardo_accuracy: 0.9723 - federico_accuracy: 0.9913 - pranav_accuracy: 0.9956 - val_loss: 0.6634 - val_what_loss: 0.2878 - val_riccardo_loss: 0.1987 - val_federico_loss: 0.0857 - val_pranav_loss: 0.1043 - val_what_accuracy: 0.9424 - val_riccardo_accuracy: 0.9458 - val_federico_accuracy: 0.9695 - val_pranav_accuracy: 0.9797\n",
      "Epoch 136/200\n",
      "686/686 [==============================] - 7s 10ms/sample - loss: 0.1946 - what_loss: 0.0420 - riccardo_loss: 0.1030 - federico_loss: 0.0180 - pranav_loss: 0.0283 - what_accuracy: 0.9898 - riccardo_accuracy: 0.9738 - federico_accuracy: 0.9927 - pranav_accuracy: 0.9913 - val_loss: 0.7146 - val_what_loss: 0.2914 - val_riccardo_loss: 0.1953 - val_federico_loss: 0.1032 - val_pranav_loss: 0.1342 - val_what_accuracy: 0.9492 - val_riccardo_accuracy: 0.9322 - val_federico_accuracy: 0.9661 - val_pranav_accuracy: 0.9729\n",
      "Epoch 137/200\n",
      "686/686 [==============================] - 7s 10ms/sample - loss: 0.1703 - what_loss: 0.0374 - riccardo_loss: 0.0910 - federico_loss: 0.0180 - pranav_loss: 0.0219 - what_accuracy: 0.9898 - riccardo_accuracy: 0.9781 - federico_accuracy: 0.9956 - pranav_accuracy: 0.9971 - val_loss: 0.7223 - val_what_loss: 0.2916 - val_riccardo_loss: 0.2056 - val_federico_loss: 0.1020 - val_pranav_loss: 0.1396 - val_what_accuracy: 0.9458 - val_riccardo_accuracy: 0.9288 - val_federico_accuracy: 0.9661 - val_pranav_accuracy: 0.9729\n",
      "Epoch 138/200\n",
      "686/686 [==============================] - 7s 11ms/sample - loss: 0.1672 - what_loss: 0.0354 - riccardo_loss: 0.0881 - federico_loss: 0.0157 - pranav_loss: 0.0329 - what_accuracy: 0.9927 - riccardo_accuracy: 0.9810 - federico_accuracy: 0.9927 - pranav_accuracy: 0.9898 - val_loss: 0.7078 - val_what_loss: 0.3011 - val_riccardo_loss: 0.2183 - val_federico_loss: 0.1145 - val_pranav_loss: 0.0968 - val_what_accuracy: 0.9458 - val_riccardo_accuracy: 0.9254 - val_federico_accuracy: 0.9559 - val_pranav_accuracy: 0.9864\n",
      "Epoch 139/200\n",
      "686/686 [==============================] - 7s 11ms/sample - loss: 0.1712 - what_loss: 0.0408 - riccardo_loss: 0.0859 - federico_loss: 0.0180 - pranav_loss: 0.0232 - what_accuracy: 0.9913 - riccardo_accuracy: 0.9752 - federico_accuracy: 0.9942 - pranav_accuracy: 1.0000 - val_loss: 0.7351 - val_what_loss: 0.2879 - val_riccardo_loss: 0.1942 - val_federico_loss: 0.1209 - val_pranav_loss: 0.1462 - val_what_accuracy: 0.9458 - val_riccardo_accuracy: 0.9390 - val_federico_accuracy: 0.9525 - val_pranav_accuracy: 0.9729\n",
      "Epoch 140/200\n",
      "672/686 [============================>.] - ETA: 0s - loss: 0.1756 - what_loss: 0.0425 - riccardo_loss: 0.0928 - federico_loss: 0.0162 - pranav_loss: 0.0241 - what_accuracy: 0.9911 - riccardo_accuracy: 0.9792 - federico_accuracy: 0.9940 - pranav_accuracy: 0.9940\n",
      "Epoch 00140: ReduceLROnPlateau reducing learning rate to 0.0013421771116554739.\n",
      "686/686 [==============================] - 7s 10ms/sample - loss: 0.1734 - what_loss: 0.0410 - riccardo_loss: 0.0905 - federico_loss: 0.0156 - pranav_loss: 0.0236 - what_accuracy: 0.9913 - riccardo_accuracy: 0.9796 - federico_accuracy: 0.9942 - pranav_accuracy: 0.9942 - val_loss: 0.7157 - val_what_loss: 0.2886 - val_riccardo_loss: 0.2025 - val_federico_loss: 0.0985 - val_pranav_loss: 0.1444 - val_what_accuracy: 0.9458 - val_riccardo_accuracy: 0.9322 - val_federico_accuracy: 0.9661 - val_pranav_accuracy: 0.9729\n",
      "Epoch 141/200\n",
      "686/686 [==============================] - 7s 10ms/sample - loss: 0.1843 - what_loss: 0.0380 - riccardo_loss: 0.1044 - federico_loss: 0.0173 - pranav_loss: 0.0258 - what_accuracy: 0.9942 - riccardo_accuracy: 0.9650 - federico_accuracy: 0.9942 - pranav_accuracy: 0.9971 - val_loss: 0.7216 - val_what_loss: 0.2914 - val_riccardo_loss: 0.1978 - val_federico_loss: 0.1093 - val_pranav_loss: 0.1349 - val_what_accuracy: 0.9458 - val_riccardo_accuracy: 0.9390 - val_federico_accuracy: 0.9593 - val_pranav_accuracy: 0.9763\n",
      "Epoch 142/200\n",
      "686/686 [==============================] - 7s 11ms/sample - loss: 0.1812 - what_loss: 0.0404 - riccardo_loss: 0.0926 - federico_loss: 0.0158 - pranav_loss: 0.0298 - what_accuracy: 0.9927 - riccardo_accuracy: 0.9767 - federico_accuracy: 0.9942 - pranav_accuracy: 0.9927 - val_loss: 0.7161 - val_what_loss: 0.2884 - val_riccardo_loss: 0.1925 - val_federico_loss: 0.1089 - val_pranav_loss: 0.1336 - val_what_accuracy: 0.9458 - val_riccardo_accuracy: 0.9424 - val_federico_accuracy: 0.9593 - val_pranav_accuracy: 0.9729\n",
      "Epoch 143/200\n",
      "686/686 [==============================] - 7s 11ms/sample - loss: 0.1759 - what_loss: 0.0374 - riccardo_loss: 0.0901 - federico_loss: 0.0188 - pranav_loss: 0.0266 - what_accuracy: 0.9956 - riccardo_accuracy: 0.9738 - federico_accuracy: 0.9942 - pranav_accuracy: 0.9942 - val_loss: 0.7455 - val_what_loss: 0.2875 - val_riccardo_loss: 0.2088 - val_federico_loss: 0.1009 - val_pranav_loss: 0.1568 - val_what_accuracy: 0.9458 - val_riccardo_accuracy: 0.9458 - val_federico_accuracy: 0.9661 - val_pranav_accuracy: 0.9695\n",
      "Epoch 144/200\n",
      "686/686 [==============================] - 7s 10ms/sample - loss: 0.1844 - what_loss: 0.0411 - riccardo_loss: 0.1016 - federico_loss: 0.0200 - pranav_loss: 0.0247 - what_accuracy: 0.9913 - riccardo_accuracy: 0.9781 - federico_accuracy: 0.9942 - pranav_accuracy: 0.9927 - val_loss: 0.7287 - val_what_loss: 0.2808 - val_riccardo_loss: 0.1930 - val_federico_loss: 0.0911 - val_pranav_loss: 0.1701 - val_what_accuracy: 0.9492 - val_riccardo_accuracy: 0.9424 - val_federico_accuracy: 0.9661 - val_pranav_accuracy: 0.9627\n",
      "Epoch 145/200\n",
      "672/686 [============================>.] - ETA: 0s - loss: 0.1771 - what_loss: 0.0395 - riccardo_loss: 0.0990 - federico_loss: 0.0164 - pranav_loss: 0.0222 - what_accuracy: 0.9940 - riccardo_accuracy: 0.9688 - federico_accuracy: 0.9970 - pranav_accuracy: 0.9985\n",
      "Epoch 00145: ReduceLROnPlateau reducing learning rate to 0.001073741726577282.\n",
      "686/686 [==============================] - 7s 10ms/sample - loss: 0.1753 - what_loss: 0.0380 - riccardo_loss: 0.0964 - federico_loss: 0.0158 - pranav_loss: 0.0228 - what_accuracy: 0.9942 - riccardo_accuracy: 0.9694 - federico_accuracy: 0.9971 - pranav_accuracy: 0.9985 - val_loss: 0.7526 - val_what_loss: 0.2877 - val_riccardo_loss: 0.2159 - val_federico_loss: 0.1125 - val_pranav_loss: 0.1530 - val_what_accuracy: 0.9492 - val_riccardo_accuracy: 0.9322 - val_federico_accuracy: 0.9559 - val_pranav_accuracy: 0.9729\n",
      "Epoch 146/200\n",
      "686/686 [==============================] - 7s 10ms/sample - loss: 0.1786 - what_loss: 0.0395 - riccardo_loss: 0.0966 - federico_loss: 0.0158 - pranav_loss: 0.0244 - what_accuracy: 0.9883 - riccardo_accuracy: 0.9621 - federico_accuracy: 0.9927 - pranav_accuracy: 0.9956 - val_loss: 0.7468 - val_what_loss: 0.2928 - val_riccardo_loss: 0.1932 - val_federico_loss: 0.1081 - val_pranav_loss: 0.1616 - val_what_accuracy: 0.9424 - val_riccardo_accuracy: 0.9390 - val_federico_accuracy: 0.9559 - val_pranav_accuracy: 0.9695\n",
      "Epoch 147/200\n"
     ]
    },
    {
     "name": "stdout",
     "output_type": "stream",
     "text": [
      "686/686 [==============================] - 7s 10ms/sample - loss: 0.1882 - what_loss: 0.0444 - riccardo_loss: 0.0953 - federico_loss: 0.0259 - pranav_loss: 0.0265 - what_accuracy: 0.9898 - riccardo_accuracy: 0.9767 - federico_accuracy: 0.9942 - pranav_accuracy: 0.9956 - val_loss: 0.7439 - val_what_loss: 0.2902 - val_riccardo_loss: 0.2299 - val_federico_loss: 0.0930 - val_pranav_loss: 0.1410 - val_what_accuracy: 0.9424 - val_riccardo_accuracy: 0.9288 - val_federico_accuracy: 0.9695 - val_pranav_accuracy: 0.9763\n",
      "Epoch 148/200\n",
      "686/686 [==============================] - 7s 11ms/sample - loss: 0.1774 - what_loss: 0.0408 - riccardo_loss: 0.0975 - federico_loss: 0.0166 - pranav_loss: 0.0215 - what_accuracy: 0.9913 - riccardo_accuracy: 0.9738 - federico_accuracy: 0.9956 - pranav_accuracy: 0.9971 - val_loss: 0.7386 - val_what_loss: 0.2860 - val_riccardo_loss: 0.2311 - val_federico_loss: 0.1049 - val_pranav_loss: 0.1347 - val_what_accuracy: 0.9458 - val_riccardo_accuracy: 0.9288 - val_federico_accuracy: 0.9593 - val_pranav_accuracy: 0.9763\n",
      "Epoch 149/200\n",
      "686/686 [==============================] - 7s 10ms/sample - loss: 0.1602 - what_loss: 0.0399 - riccardo_loss: 0.0844 - federico_loss: 0.0125 - pranav_loss: 0.0247 - what_accuracy: 0.9883 - riccardo_accuracy: 0.9708 - federico_accuracy: 0.9971 - pranav_accuracy: 0.9942 - val_loss: 0.7185 - val_what_loss: 0.2931 - val_riccardo_loss: 0.2013 - val_federico_loss: 0.0981 - val_pranav_loss: 0.1338 - val_what_accuracy: 0.9492 - val_riccardo_accuracy: 0.9322 - val_federico_accuracy: 0.9661 - val_pranav_accuracy: 0.9763\n",
      "Epoch 150/200\n",
      "672/686 [============================>.] - ETA: 0s - loss: 0.1860 - what_loss: 0.0492 - riccardo_loss: 0.0871 - federico_loss: 0.0171 - pranav_loss: 0.0326 - what_accuracy: 0.9836 - riccardo_accuracy: 0.9747 - federico_accuracy: 0.9926 - pranav_accuracy: 0.9940\n",
      "Epoch 00150: ReduceLROnPlateau reducing learning rate to 0.0008589933626353742.\n",
      "686/686 [==============================] - 7s 10ms/sample - loss: 0.1867 - what_loss: 0.0476 - riccardo_loss: 0.0894 - federico_loss: 0.0168 - pranav_loss: 0.0336 - what_accuracy: 0.9840 - riccardo_accuracy: 0.9738 - federico_accuracy: 0.9927 - pranav_accuracy: 0.9927 - val_loss: 0.6975 - val_what_loss: 0.2911 - val_riccardo_loss: 0.2032 - val_federico_loss: 0.0999 - val_pranav_loss: 0.1187 - val_what_accuracy: 0.9492 - val_riccardo_accuracy: 0.9322 - val_federico_accuracy: 0.9627 - val_pranav_accuracy: 0.9763\n",
      "Epoch 151/200\n",
      "686/686 [==============================] - 7s 10ms/sample - loss: 0.1693 - what_loss: 0.0373 - riccardo_loss: 0.0959 - federico_loss: 0.0189 - pranav_loss: 0.0225 - what_accuracy: 0.9913 - riccardo_accuracy: 0.9738 - federico_accuracy: 0.9913 - pranav_accuracy: 0.9956 - val_loss: 0.7711 - val_what_loss: 0.2894 - val_riccardo_loss: 0.2706 - val_federico_loss: 0.1195 - val_pranav_loss: 0.1115 - val_what_accuracy: 0.9458 - val_riccardo_accuracy: 0.9186 - val_federico_accuracy: 0.9525 - val_pranav_accuracy: 0.9831\n",
      "Epoch 152/200\n",
      "686/686 [==============================] - 7s 10ms/sample - loss: 0.1679 - what_loss: 0.0341 - riccardo_loss: 0.0919 - federico_loss: 0.0183 - pranav_loss: 0.0219 - what_accuracy: 0.9971 - riccardo_accuracy: 0.9752 - federico_accuracy: 0.9927 - pranav_accuracy: 0.9956 - val_loss: 0.6939 - val_what_loss: 0.2879 - val_riccardo_loss: 0.2006 - val_federico_loss: 0.1105 - val_pranav_loss: 0.1113 - val_what_accuracy: 0.9458 - val_riccardo_accuracy: 0.9322 - val_federico_accuracy: 0.9525 - val_pranav_accuracy: 0.9831\n",
      "Epoch 153/200\n",
      "686/686 [==============================] - 7s 11ms/sample - loss: 0.1876 - what_loss: 0.0412 - riccardo_loss: 0.0946 - federico_loss: 0.0226 - pranav_loss: 0.0260 - what_accuracy: 0.9854 - riccardo_accuracy: 0.9679 - federico_accuracy: 0.9913 - pranav_accuracy: 0.9942 - val_loss: 0.7362 - val_what_loss: 0.2891 - val_riccardo_loss: 0.2252 - val_federico_loss: 0.1154 - val_pranav_loss: 0.1230 - val_what_accuracy: 0.9492 - val_riccardo_accuracy: 0.9356 - val_federico_accuracy: 0.9525 - val_pranav_accuracy: 0.9763\n",
      "Epoch 154/200\n",
      "686/686 [==============================] - 7s 11ms/sample - loss: 0.1805 - what_loss: 0.0433 - riccardo_loss: 0.1038 - federico_loss: 0.0141 - pranav_loss: 0.0233 - what_accuracy: 0.9883 - riccardo_accuracy: 0.9708 - federico_accuracy: 0.9956 - pranav_accuracy: 0.9971 - val_loss: 0.7194 - val_what_loss: 0.2852 - val_riccardo_loss: 0.1968 - val_federico_loss: 0.0967 - val_pranav_loss: 0.1576 - val_what_accuracy: 0.9458 - val_riccardo_accuracy: 0.9356 - val_federico_accuracy: 0.9627 - val_pranav_accuracy: 0.9729\n",
      "Epoch 155/200\n",
      "672/686 [============================>.] - ETA: 0s - loss: 0.1781 - what_loss: 0.0498 - riccardo_loss: 0.0852 - federico_loss: 0.0205 - pranav_loss: 0.0225 - what_accuracy: 0.9851 - riccardo_accuracy: 0.9762 - federico_accuracy: 0.9955 - pranav_accuracy: 0.9940\n",
      "Epoch 00155: ReduceLROnPlateau reducing learning rate to 0.0006871947087347508.\n",
      "686/686 [==============================] - 7s 11ms/sample - loss: 0.1770 - what_loss: 0.0482 - riccardo_loss: 0.0840 - federico_loss: 0.0199 - pranav_loss: 0.0237 - what_accuracy: 0.9854 - riccardo_accuracy: 0.9767 - federico_accuracy: 0.9956 - pranav_accuracy: 0.9942 - val_loss: 0.7079 - val_what_loss: 0.2853 - val_riccardo_loss: 0.1963 - val_federico_loss: 0.1065 - val_pranav_loss: 0.1342 - val_what_accuracy: 0.9458 - val_riccardo_accuracy: 0.9356 - val_federico_accuracy: 0.9559 - val_pranav_accuracy: 0.9763\n",
      "Epoch 156/200\n",
      "686/686 [==============================] - 7s 10ms/sample - loss: 0.1892 - what_loss: 0.0405 - riccardo_loss: 0.1010 - federico_loss: 0.0146 - pranav_loss: 0.0321 - what_accuracy: 0.9913 - riccardo_accuracy: 0.9723 - federico_accuracy: 0.9942 - pranav_accuracy: 0.9913 - val_loss: 0.7061 - val_what_loss: 0.2909 - val_riccardo_loss: 0.1946 - val_federico_loss: 0.1149 - val_pranav_loss: 0.1230 - val_what_accuracy: 0.9424 - val_riccardo_accuracy: 0.9356 - val_federico_accuracy: 0.9525 - val_pranav_accuracy: 0.9763\n",
      "Epoch 157/200\n",
      "686/686 [==============================] - 7s 11ms/sample - loss: 0.1818 - what_loss: 0.0370 - riccardo_loss: 0.1033 - federico_loss: 0.0179 - pranav_loss: 0.0236 - what_accuracy: 0.9927 - riccardo_accuracy: 0.9738 - federico_accuracy: 0.9942 - pranav_accuracy: 0.9956 - val_loss: 0.7547 - val_what_loss: 0.2938 - val_riccardo_loss: 0.2255 - val_federico_loss: 0.1181 - val_pranav_loss: 0.1314 - val_what_accuracy: 0.9458 - val_riccardo_accuracy: 0.9288 - val_federico_accuracy: 0.9525 - val_pranav_accuracy: 0.9763\n",
      "Epoch 158/200\n",
      "686/686 [==============================] - 7s 10ms/sample - loss: 0.1682 - what_loss: 0.0475 - riccardo_loss: 0.0795 - federico_loss: 0.0184 - pranav_loss: 0.0224 - what_accuracy: 0.9927 - riccardo_accuracy: 0.9781 - federico_accuracy: 0.9913 - pranav_accuracy: 0.9942 - val_loss: 0.7337 - val_what_loss: 0.3034 - val_riccardo_loss: 0.1984 - val_federico_loss: 0.0995 - val_pranav_loss: 0.1522 - val_what_accuracy: 0.9424 - val_riccardo_accuracy: 0.9322 - val_federico_accuracy: 0.9627 - val_pranav_accuracy: 0.9729\n",
      "Epoch 159/200\n",
      "686/686 [==============================] - 7s 10ms/sample - loss: 0.1701 - what_loss: 0.0386 - riccardo_loss: 0.0970 - federico_loss: 0.0143 - pranav_loss: 0.0211 - what_accuracy: 0.9927 - riccardo_accuracy: 0.9694 - federico_accuracy: 0.9971 - pranav_accuracy: 0.9956 - val_loss: 0.7482 - val_what_loss: 0.2992 - val_riccardo_loss: 0.2198 - val_federico_loss: 0.1032 - val_pranav_loss: 0.1440 - val_what_accuracy: 0.9458 - val_riccardo_accuracy: 0.9322 - val_federico_accuracy: 0.9593 - val_pranav_accuracy: 0.9763\n",
      "Epoch 160/200\n",
      "672/686 [============================>.] - ETA: 0s - loss: 0.1694 - what_loss: 0.0419 - riccardo_loss: 0.0875 - federico_loss: 0.0142 - pranav_loss: 0.0259 - what_accuracy: 0.9911 - riccardo_accuracy: 0.9747 - federico_accuracy: 0.9970 - pranav_accuracy: 0.9926\n",
      "Epoch 00160: ReduceLROnPlateau reducing learning rate to 0.0005497557576745749.\n",
      "686/686 [==============================] - 7s 10ms/sample - loss: 0.1698 - what_loss: 0.0404 - riccardo_loss: 0.0840 - federico_loss: 0.0141 - pranav_loss: 0.0318 - what_accuracy: 0.9913 - riccardo_accuracy: 0.9752 - federico_accuracy: 0.9971 - pranav_accuracy: 0.9913 - val_loss: 0.6725 - val_what_loss: 0.3010 - val_riccardo_loss: 0.2049 - val_federico_loss: 0.1134 - val_pranav_loss: 0.0711 - val_what_accuracy: 0.9492 - val_riccardo_accuracy: 0.9322 - val_federico_accuracy: 0.9525 - val_pranav_accuracy: 0.9898\n"
     ]
    },
    {
     "name": "stdout",
     "output_type": "stream",
     "text": [
      "Epoch 161/200\n",
      "686/686 [==============================] - 7s 11ms/sample - loss: 0.1801 - what_loss: 0.0360 - riccardo_loss: 0.0921 - federico_loss: 0.0120 - pranav_loss: 0.0414 - what_accuracy: 0.9956 - riccardo_accuracy: 0.9694 - federico_accuracy: 0.9985 - pranav_accuracy: 0.9869 - val_loss: 0.7215 - val_what_loss: 0.2976 - val_riccardo_loss: 0.2130 - val_federico_loss: 0.1169 - val_pranav_loss: 0.1094 - val_what_accuracy: 0.9492 - val_riccardo_accuracy: 0.9322 - val_federico_accuracy: 0.9525 - val_pranav_accuracy: 0.9831\n",
      "Epoch 162/200\n",
      "686/686 [==============================] - 7s 10ms/sample - loss: 0.1638 - what_loss: 0.0388 - riccardo_loss: 0.0835 - federico_loss: 0.0157 - pranav_loss: 0.0227 - what_accuracy: 0.9898 - riccardo_accuracy: 0.9781 - federico_accuracy: 0.9927 - pranav_accuracy: 0.9956 - val_loss: 0.7333 - val_what_loss: 0.2981 - val_riccardo_loss: 0.2140 - val_federico_loss: 0.1126 - val_pranav_loss: 0.1229 - val_what_accuracy: 0.9525 - val_riccardo_accuracy: 0.9390 - val_federico_accuracy: 0.9525 - val_pranav_accuracy: 0.9763\n",
      "Epoch 163/200\n",
      "686/686 [==============================] - 7s 10ms/sample - loss: 0.1674 - what_loss: 0.0378 - riccardo_loss: 0.0914 - federico_loss: 0.0138 - pranav_loss: 0.0238 - what_accuracy: 0.9927 - riccardo_accuracy: 0.9723 - federico_accuracy: 0.9956 - pranav_accuracy: 0.9971 - val_loss: 0.7304 - val_what_loss: 0.2988 - val_riccardo_loss: 0.1923 - val_federico_loss: 0.1059 - val_pranav_loss: 0.1449 - val_what_accuracy: 0.9525 - val_riccardo_accuracy: 0.9356 - val_federico_accuracy: 0.9559 - val_pranav_accuracy: 0.9729\n",
      "Epoch 164/200\n",
      "686/686 [==============================] - 7s 10ms/sample - loss: 0.1685 - what_loss: 0.0312 - riccardo_loss: 0.1012 - federico_loss: 0.0171 - pranav_loss: 0.0195 - what_accuracy: 0.9971 - riccardo_accuracy: 0.9665 - federico_accuracy: 0.9927 - pranav_accuracy: 0.9971 - val_loss: 0.7491 - val_what_loss: 0.2971 - val_riccardo_loss: 0.2132 - val_federico_loss: 0.1158 - val_pranav_loss: 0.1364 - val_what_accuracy: 0.9492 - val_riccardo_accuracy: 0.9356 - val_federico_accuracy: 0.9525 - val_pranav_accuracy: 0.9763\n",
      "Epoch 165/200\n",
      "672/686 [============================>.] - ETA: 0s - loss: 0.1912 - what_loss: 0.0399 - riccardo_loss: 0.0962 - federico_loss: 0.0254 - pranav_loss: 0.0296 - what_accuracy: 0.9940 - riccardo_accuracy: 0.9717 - federico_accuracy: 0.9926 - pranav_accuracy: 0.9955\n",
      "Epoch 00165: ReduceLROnPlateau reducing learning rate to 0.0004398046061396599.\n",
      "686/686 [==============================] - 7s 11ms/sample - loss: 0.1896 - what_loss: 0.0402 - riccardo_loss: 0.0939 - federico_loss: 0.0244 - pranav_loss: 0.0292 - what_accuracy: 0.9942 - riccardo_accuracy: 0.9723 - federico_accuracy: 0.9927 - pranav_accuracy: 0.9956 - val_loss: 0.7208 - val_what_loss: 0.2949 - val_riccardo_loss: 0.2090 - val_federico_loss: 0.1066 - val_pranav_loss: 0.1248 - val_what_accuracy: 0.9492 - val_riccardo_accuracy: 0.9322 - val_federico_accuracy: 0.9559 - val_pranav_accuracy: 0.9763\n",
      "Epoch 166/200\n",
      "686/686 [==============================] - 7s 10ms/sample - loss: 0.1643 - what_loss: 0.0327 - riccardo_loss: 0.0987 - federico_loss: 0.0138 - pranav_loss: 0.0221 - what_accuracy: 0.9956 - riccardo_accuracy: 0.9694 - federico_accuracy: 0.9971 - pranav_accuracy: 0.9971 - val_loss: 0.7290 - val_what_loss: 0.2987 - val_riccardo_loss: 0.1970 - val_federico_loss: 0.1110 - val_pranav_loss: 0.1384 - val_what_accuracy: 0.9458 - val_riccardo_accuracy: 0.9322 - val_federico_accuracy: 0.9525 - val_pranav_accuracy: 0.9763\n",
      "Epoch 167/200\n",
      "686/686 [==============================] - 7s 10ms/sample - loss: 0.1710 - what_loss: 0.0369 - riccardo_loss: 0.0922 - federico_loss: 0.0182 - pranav_loss: 0.0242 - what_accuracy: 0.9927 - riccardo_accuracy: 0.9752 - federico_accuracy: 0.9927 - pranav_accuracy: 0.9942 - val_loss: 0.7476 - val_what_loss: 0.3006 - val_riccardo_loss: 0.2087 - val_federico_loss: 0.1122 - val_pranav_loss: 0.1405 - val_what_accuracy: 0.9525 - val_riccardo_accuracy: 0.9390 - val_federico_accuracy: 0.9525 - val_pranav_accuracy: 0.9763\n",
      "Epoch 168/200\n",
      "686/686 [==============================] - 7s 10ms/sample - loss: 0.1517 - what_loss: 0.0354 - riccardo_loss: 0.0835 - federico_loss: 0.0148 - pranav_loss: 0.0191 - what_accuracy: 0.9927 - riccardo_accuracy: 0.9752 - federico_accuracy: 0.9971 - pranav_accuracy: 0.9971 - val_loss: 0.7257 - val_what_loss: 0.2981 - val_riccardo_loss: 0.1993 - val_federico_loss: 0.1042 - val_pranav_loss: 0.1386 - val_what_accuracy: 0.9525 - val_riccardo_accuracy: 0.9322 - val_federico_accuracy: 0.9559 - val_pranav_accuracy: 0.9763\n",
      "Epoch 169/200\n",
      "686/686 [==============================] - 7s 10ms/sample - loss: 0.1891 - what_loss: 0.0358 - riccardo_loss: 0.0994 - federico_loss: 0.0207 - pranav_loss: 0.0302 - what_accuracy: 0.9956 - riccardo_accuracy: 0.9738 - federico_accuracy: 0.9942 - pranav_accuracy: 0.9913 - val_loss: 0.7124 - val_what_loss: 0.2973 - val_riccardo_loss: 0.2011 - val_federico_loss: 0.1018 - val_pranav_loss: 0.1274 - val_what_accuracy: 0.9525 - val_riccardo_accuracy: 0.9322 - val_federico_accuracy: 0.9627 - val_pranav_accuracy: 0.9763\n",
      "Epoch 170/200\n",
      "672/686 [============================>.] - ETA: 0s - loss: 0.1498 - what_loss: 0.0308 - riccardo_loss: 0.0821 - federico_loss: 0.0140 - pranav_loss: 0.0229 - what_accuracy: 0.9955 - riccardo_accuracy: 0.9777 - federico_accuracy: 0.9955 - pranav_accuracy: 0.9970\n",
      "Epoch 00170: ReduceLROnPlateau reducing learning rate to 0.00035184368025511505.\n",
      "686/686 [==============================] - 7s 11ms/sample - loss: 0.1515 - what_loss: 0.0332 - riccardo_loss: 0.0812 - federico_loss: 0.0170 - pranav_loss: 0.0222 - what_accuracy: 0.9942 - riccardo_accuracy: 0.9781 - federico_accuracy: 0.9942 - pranav_accuracy: 0.9971 - val_loss: 0.7291 - val_what_loss: 0.2967 - val_riccardo_loss: 0.2056 - val_federico_loss: 0.1098 - val_pranav_loss: 0.1315 - val_what_accuracy: 0.9525 - val_riccardo_accuracy: 0.9356 - val_federico_accuracy: 0.9525 - val_pranav_accuracy: 0.9763\n",
      "Epoch 171/200\n",
      "686/686 [==============================] - 7s 11ms/sample - loss: 0.1782 - what_loss: 0.0380 - riccardo_loss: 0.0987 - federico_loss: 0.0208 - pranav_loss: 0.0221 - what_accuracy: 0.9927 - riccardo_accuracy: 0.9708 - federico_accuracy: 0.9927 - pranav_accuracy: 0.9971 - val_loss: 0.7110 - val_what_loss: 0.2934 - val_riccardo_loss: 0.1935 - val_federico_loss: 0.0976 - val_pranav_loss: 0.1413 - val_what_accuracy: 0.9492 - val_riccardo_accuracy: 0.9356 - val_federico_accuracy: 0.9627 - val_pranav_accuracy: 0.9763\n",
      "Epoch 172/200\n",
      "686/686 [==============================] - 7s 11ms/sample - loss: 0.1706 - what_loss: 0.0388 - riccardo_loss: 0.0937 - federico_loss: 0.0195 - pranav_loss: 0.0225 - what_accuracy: 0.9942 - riccardo_accuracy: 0.9694 - federico_accuracy: 0.9942 - pranav_accuracy: 0.9985 - val_loss: 0.7456 - val_what_loss: 0.2883 - val_riccardo_loss: 0.2266 - val_federico_loss: 0.1127 - val_pranav_loss: 0.1337 - val_what_accuracy: 0.9492 - val_riccardo_accuracy: 0.9288 - val_federico_accuracy: 0.9525 - val_pranav_accuracy: 0.9763\n",
      "Epoch 173/200\n",
      "686/686 [==============================] - 7s 10ms/sample - loss: 0.1645 - what_loss: 0.0358 - riccardo_loss: 0.0877 - federico_loss: 0.0196 - pranav_loss: 0.0220 - what_accuracy: 0.9956 - riccardo_accuracy: 0.9767 - federico_accuracy: 0.9956 - pranav_accuracy: 0.9942 - val_loss: 0.7197 - val_what_loss: 0.2893 - val_riccardo_loss: 0.1964 - val_federico_loss: 0.1050 - val_pranav_loss: 0.1430 - val_what_accuracy: 0.9492 - val_riccardo_accuracy: 0.9356 - val_federico_accuracy: 0.9559 - val_pranav_accuracy: 0.9763\n",
      "Epoch 174/200\n",
      "686/686 [==============================] - 7s 10ms/sample - loss: 0.1564 - what_loss: 0.0375 - riccardo_loss: 0.0840 - federico_loss: 0.0121 - pranav_loss: 0.0199 - what_accuracy: 0.9942 - riccardo_accuracy: 0.9767 - federico_accuracy: 0.9971 - pranav_accuracy: 1.0000 - val_loss: 0.7195 - val_what_loss: 0.2922 - val_riccardo_loss: 0.2007 - val_federico_loss: 0.1052 - val_pranav_loss: 0.1376 - val_what_accuracy: 0.9458 - val_riccardo_accuracy: 0.9322 - val_federico_accuracy: 0.9559 - val_pranav_accuracy: 0.9763\n",
      "Epoch 175/200\n",
      "672/686 [============================>.] - ETA: 0s - loss: 0.1638 - what_loss: 0.0363 - riccardo_loss: 0.0957 - federico_loss: 0.0121 - pranav_loss: 0.0197 - what_accuracy: 0.9955 - riccardo_accuracy: 0.9732 - federico_accuracy: 0.9970 - pranav_accuracy: 0.9970\n",
      "Epoch 00175: ReduceLROnPlateau reducing learning rate to 0.0002814749488607049.\n",
      "686/686 [==============================] - 7s 10ms/sample - loss: 0.1652 - what_loss: 0.0408 - riccardo_loss: 0.0947 - federico_loss: 0.0125 - pranav_loss: 0.0189 - what_accuracy: 0.9942 - riccardo_accuracy: 0.9738 - federico_accuracy: 0.9971 - pranav_accuracy: 0.9971 - val_loss: 0.7348 - val_what_loss: 0.2953 - val_riccardo_loss: 0.1964 - val_federico_loss: 0.1071 - val_pranav_loss: 0.1492 - val_what_accuracy: 0.9492 - val_riccardo_accuracy: 0.9322 - val_federico_accuracy: 0.9559 - val_pranav_accuracy: 0.9729\n",
      "Epoch 176/200\n",
      "686/686 [==============================] - 7s 10ms/sample - loss: 0.1559 - what_loss: 0.0354 - riccardo_loss: 0.0829 - federico_loss: 0.0138 - pranav_loss: 0.0213 - what_accuracy: 0.9927 - riccardo_accuracy: 0.9752 - federico_accuracy: 0.9971 - pranav_accuracy: 0.9956 - val_loss: 0.7169 - val_what_loss: 0.2882 - val_riccardo_loss: 0.1942 - val_federico_loss: 0.1042 - val_pranav_loss: 0.1450 - val_what_accuracy: 0.9492 - val_riccardo_accuracy: 0.9356 - val_federico_accuracy: 0.9593 - val_pranav_accuracy: 0.9729\n",
      "Epoch 177/200\n",
      "686/686 [==============================] - 7s 10ms/sample - loss: 0.1731 - what_loss: 0.0417 - riccardo_loss: 0.0902 - federico_loss: 0.0152 - pranav_loss: 0.0241 - what_accuracy: 0.9869 - riccardo_accuracy: 0.9708 - federico_accuracy: 0.9985 - pranav_accuracy: 0.9956 - val_loss: 0.7255 - val_what_loss: 0.2862 - val_riccardo_loss: 0.1980 - val_federico_loss: 0.1061 - val_pranav_loss: 0.1480 - val_what_accuracy: 0.9492 - val_riccardo_accuracy: 0.9322 - val_federico_accuracy: 0.9559 - val_pranav_accuracy: 0.9729\n",
      "Epoch 178/200\n",
      "686/686 [==============================] - 7s 10ms/sample - loss: 0.1517 - what_loss: 0.0325 - riccardo_loss: 0.0848 - federico_loss: 0.0137 - pranav_loss: 0.0201 - what_accuracy: 0.9956 - riccardo_accuracy: 0.9752 - federico_accuracy: 0.9942 - pranav_accuracy: 0.9956 - val_loss: 0.7202 - val_what_loss: 0.2882 - val_riccardo_loss: 0.1935 - val_federico_loss: 0.1044 - val_pranav_loss: 0.1469 - val_what_accuracy: 0.9492 - val_riccardo_accuracy: 0.9356 - val_federico_accuracy: 0.9559 - val_pranav_accuracy: 0.9729\n",
      "Epoch 179/200\n",
      "686/686 [==============================] - 7s 10ms/sample - loss: 0.1565 - what_loss: 0.0324 - riccardo_loss: 0.0893 - federico_loss: 0.0154 - pranav_loss: 0.0179 - what_accuracy: 0.9927 - riccardo_accuracy: 0.9767 - federico_accuracy: 0.9956 - pranav_accuracy: 1.0000 - val_loss: 0.7284 - val_what_loss: 0.2928 - val_riccardo_loss: 0.1989 - val_federico_loss: 0.1136 - val_pranav_loss: 0.1369 - val_what_accuracy: 0.9458 - val_riccardo_accuracy: 0.9322 - val_federico_accuracy: 0.9525 - val_pranav_accuracy: 0.9763\n",
      "Epoch 180/200\n",
      "672/686 [============================>.] - ETA: 0s - loss: 0.1647 - what_loss: 0.0372 - riccardo_loss: 0.0867 - federico_loss: 0.0181 - pranav_loss: 0.0227 - what_accuracy: 0.9911 - riccardo_accuracy: 0.9807 - federico_accuracy: 0.9926 - pranav_accuracy: 0.9970\n",
      "Epoch 00180: ReduceLROnPlateau reducing learning rate to 0.0002251799684017897.\n",
      "686/686 [==============================] - 7s 10ms/sample - loss: 0.1639 - what_loss: 0.0366 - riccardo_loss: 0.0866 - federico_loss: 0.0174 - pranav_loss: 0.0224 - what_accuracy: 0.9913 - riccardo_accuracy: 0.9810 - federico_accuracy: 0.9927 - pranav_accuracy: 0.9971 - val_loss: 0.7244 - val_what_loss: 0.2923 - val_riccardo_loss: 0.1993 - val_federico_loss: 0.1075 - val_pranav_loss: 0.1401 - val_what_accuracy: 0.9458 - val_riccardo_accuracy: 0.9322 - val_federico_accuracy: 0.9559 - val_pranav_accuracy: 0.9763\n",
      "Epoch 181/200\n",
      "686/686 [==============================] - 7s 10ms/sample - loss: 0.1736 - what_loss: 0.0330 - riccardo_loss: 0.1013 - federico_loss: 0.0128 - pranav_loss: 0.0296 - what_accuracy: 0.9942 - riccardo_accuracy: 0.9752 - federico_accuracy: 0.9956 - pranav_accuracy: 0.9913 - val_loss: 0.7263 - val_what_loss: 0.2947 - val_riccardo_loss: 0.2137 - val_federico_loss: 0.1119 - val_pranav_loss: 0.1228 - val_what_accuracy: 0.9458 - val_riccardo_accuracy: 0.9322 - val_federico_accuracy: 0.9525 - val_pranav_accuracy: 0.9763\n",
      "Epoch 182/200\n",
      "686/686 [==============================] - 7s 10ms/sample - loss: 0.1588 - what_loss: 0.0334 - riccardo_loss: 0.0922 - federico_loss: 0.0117 - pranav_loss: 0.0182 - what_accuracy: 0.9942 - riccardo_accuracy: 0.9752 - federico_accuracy: 0.9971 - pranav_accuracy: 0.9985 - val_loss: 0.7205 - val_what_loss: 0.2907 - val_riccardo_loss: 0.2018 - val_federico_loss: 0.1065 - val_pranav_loss: 0.1363 - val_what_accuracy: 0.9458 - val_riccardo_accuracy: 0.9356 - val_federico_accuracy: 0.9559 - val_pranav_accuracy: 0.9763\n",
      "Epoch 183/200\n",
      "686/686 [==============================] - 7s 11ms/sample - loss: 0.1585 - what_loss: 0.0359 - riccardo_loss: 0.0815 - federico_loss: 0.0129 - pranav_loss: 0.0264 - what_accuracy: 0.9942 - riccardo_accuracy: 0.9767 - federico_accuracy: 0.9942 - pranav_accuracy: 0.9927 - val_loss: 0.7211 - val_what_loss: 0.2883 - val_riccardo_loss: 0.1958 - val_federico_loss: 0.1073 - val_pranav_loss: 0.1435 - val_what_accuracy: 0.9458 - val_riccardo_accuracy: 0.9322 - val_federico_accuracy: 0.9559 - val_pranav_accuracy: 0.9763\n",
      "Epoch 184/200\n",
      "686/686 [==============================] - 7s 10ms/sample - loss: 0.1677 - what_loss: 0.0370 - riccardo_loss: 0.0938 - federico_loss: 0.0156 - pranav_loss: 0.0221 - what_accuracy: 0.9913 - riccardo_accuracy: 0.9738 - federico_accuracy: 0.9956 - pranav_accuracy: 0.9971 - val_loss: 0.7192 - val_what_loss: 0.2899 - val_riccardo_loss: 0.1991 - val_federico_loss: 0.1092 - val_pranav_loss: 0.1359 - val_what_accuracy: 0.9458 - val_riccardo_accuracy: 0.9322 - val_federico_accuracy: 0.9559 - val_pranav_accuracy: 0.9763\n",
      "Epoch 185/200\n",
      "672/686 [============================>.] - ETA: 0s - loss: 0.1688 - what_loss: 0.0427 - riccardo_loss: 0.0872 - federico_loss: 0.0162 - pranav_loss: 0.0227 - what_accuracy: 0.9911 - riccardo_accuracy: 0.9762 - federico_accuracy: 0.9940 - pranav_accuracy: 0.9940\n",
      "Epoch 00185: ReduceLROnPlateau reducing learning rate to 0.0001801439793780446.\n",
      "686/686 [==============================] - 7s 10ms/sample - loss: 0.1721 - what_loss: 0.0418 - riccardo_loss: 0.0950 - federico_loss: 0.0173 - pranav_loss: 0.0222 - what_accuracy: 0.9913 - riccardo_accuracy: 0.9752 - federico_accuracy: 0.9942 - pranav_accuracy: 0.9942 - val_loss: 0.7252 - val_what_loss: 0.2917 - val_riccardo_loss: 0.2141 - val_federico_loss: 0.1050 - val_pranav_loss: 0.1305 - val_what_accuracy: 0.9458 - val_riccardo_accuracy: 0.9356 - val_federico_accuracy: 0.9559 - val_pranav_accuracy: 0.9763\n",
      "Epoch 186/200\n",
      "686/686 [==============================] - 7s 10ms/sample - loss: 0.1516 - what_loss: 0.0342 - riccardo_loss: 0.0824 - federico_loss: 0.0161 - pranav_loss: 0.0201 - what_accuracy: 0.9927 - riccardo_accuracy: 0.9752 - federico_accuracy: 0.9942 - pranav_accuracy: 0.9985 - val_loss: 0.7147 - val_what_loss: 0.2909 - val_riccardo_loss: 0.2015 - val_federico_loss: 0.0958 - val_pranav_loss: 0.1418 - val_what_accuracy: 0.9458 - val_riccardo_accuracy: 0.9356 - val_federico_accuracy: 0.9627 - val_pranav_accuracy: 0.9763\n",
      "Epoch 187/200\n",
      "686/686 [==============================] - 7s 10ms/sample - loss: 0.1532 - what_loss: 0.0352 - riccardo_loss: 0.0799 - federico_loss: 0.0122 - pranav_loss: 0.0233 - what_accuracy: 0.9956 - riccardo_accuracy: 0.9796 - federico_accuracy: 0.9971 - pranav_accuracy: 0.9942 - val_loss: 0.7165 - val_what_loss: 0.2922 - val_riccardo_loss: 0.1961 - val_federico_loss: 0.0973 - val_pranav_loss: 0.1450 - val_what_accuracy: 0.9458 - val_riccardo_accuracy: 0.9322 - val_federico_accuracy: 0.9627 - val_pranav_accuracy: 0.9729\n",
      "Epoch 188/200\n",
      "686/686 [==============================] - 7s 10ms/sample - loss: 0.1570 - what_loss: 0.0379 - riccardo_loss: 0.0927 - federico_loss: 0.0117 - pranav_loss: 0.0199 - what_accuracy: 0.9898 - riccardo_accuracy: 0.9796 - federico_accuracy: 0.9985 - pranav_accuracy: 0.9971 - val_loss: 0.7261 - val_what_loss: 0.2931 - val_riccardo_loss: 0.2008 - val_federico_loss: 0.1033 - val_pranav_loss: 0.1429 - val_what_accuracy: 0.9458 - val_riccardo_accuracy: 0.9356 - val_federico_accuracy: 0.9559 - val_pranav_accuracy: 0.9763\n"
     ]
    },
    {
     "name": "stdout",
     "output_type": "stream",
     "text": [
      "Epoch 189/200\n",
      "686/686 [==============================] - 7s 10ms/sample - loss: 0.1685 - what_loss: 0.0382 - riccardo_loss: 0.0834 - federico_loss: 0.0194 - pranav_loss: 0.0266 - what_accuracy: 0.9913 - riccardo_accuracy: 0.9738 - federico_accuracy: 0.9927 - pranav_accuracy: 0.9956 - val_loss: 0.7191 - val_what_loss: 0.2924 - val_riccardo_loss: 0.1991 - val_federico_loss: 0.1034 - val_pranav_loss: 0.1383 - val_what_accuracy: 0.9458 - val_riccardo_accuracy: 0.9322 - val_federico_accuracy: 0.9559 - val_pranav_accuracy: 0.9763\n",
      "Epoch 190/200\n",
      "672/686 [============================>.] - ETA: 0s - loss: 0.1751 - what_loss: 0.0380 - riccardo_loss: 0.0873 - federico_loss: 0.0235 - pranav_loss: 0.0262 - what_accuracy: 0.9926 - riccardo_accuracy: 0.9702 - federico_accuracy: 0.9911 - pranav_accuracy: 0.9955\n",
      "Epoch 00190: ReduceLROnPlateau reducing learning rate to 0.00014411518350243568.\n",
      "686/686 [==============================] - 7s 10ms/sample - loss: 0.1752 - what_loss: 0.0374 - riccardo_loss: 0.0883 - federico_loss: 0.0246 - pranav_loss: 0.0252 - what_accuracy: 0.9927 - riccardo_accuracy: 0.9694 - federico_accuracy: 0.9913 - pranav_accuracy: 0.9956 - val_loss: 0.7248 - val_what_loss: 0.2925 - val_riccardo_loss: 0.1960 - val_federico_loss: 0.1039 - val_pranav_loss: 0.1459 - val_what_accuracy: 0.9458 - val_riccardo_accuracy: 0.9322 - val_federico_accuracy: 0.9559 - val_pranav_accuracy: 0.9729\n",
      "Epoch 191/200\n",
      "686/686 [==============================] - 7s 10ms/sample - loss: 0.1520 - what_loss: 0.0324 - riccardo_loss: 0.0824 - federico_loss: 0.0186 - pranav_loss: 0.0189 - what_accuracy: 0.9927 - riccardo_accuracy: 0.9767 - federico_accuracy: 0.9942 - pranav_accuracy: 0.9985 - val_loss: 0.7214 - val_what_loss: 0.2931 - val_riccardo_loss: 0.1971 - val_federico_loss: 0.1063 - val_pranav_loss: 0.1391 - val_what_accuracy: 0.9458 - val_riccardo_accuracy: 0.9356 - val_federico_accuracy: 0.9559 - val_pranav_accuracy: 0.9763\n",
      "Epoch 192/200\n",
      "686/686 [==============================] - 7s 10ms/sample - loss: 0.1639 - what_loss: 0.0345 - riccardo_loss: 0.0850 - federico_loss: 0.0154 - pranav_loss: 0.0289 - what_accuracy: 0.9956 - riccardo_accuracy: 0.9723 - federico_accuracy: 0.9927 - pranav_accuracy: 0.9927 - val_loss: 0.7281 - val_what_loss: 0.2932 - val_riccardo_loss: 0.1985 - val_federico_loss: 0.1080 - val_pranav_loss: 0.1427 - val_what_accuracy: 0.9458 - val_riccardo_accuracy: 0.9356 - val_federico_accuracy: 0.9525 - val_pranav_accuracy: 0.9763\n",
      "Epoch 193/200\n",
      "686/686 [==============================] - 7s 11ms/sample - loss: 0.1754 - what_loss: 0.0400 - riccardo_loss: 0.0841 - federico_loss: 0.0235 - pranav_loss: 0.0265 - what_accuracy: 0.9942 - riccardo_accuracy: 0.9752 - federico_accuracy: 0.9898 - pranav_accuracy: 0.9913 - val_loss: 0.7198 - val_what_loss: 0.2950 - val_riccardo_loss: 0.1981 - val_federico_loss: 0.1040 - val_pranav_loss: 0.1386 - val_what_accuracy: 0.9424 - val_riccardo_accuracy: 0.9356 - val_federico_accuracy: 0.9559 - val_pranav_accuracy: 0.9763\n",
      "Epoch 194/200\n",
      "686/686 [==============================] - 7s 11ms/sample - loss: 0.1740 - what_loss: 0.0396 - riccardo_loss: 0.0962 - federico_loss: 0.0154 - pranav_loss: 0.0200 - what_accuracy: 0.9869 - riccardo_accuracy: 0.9738 - federico_accuracy: 0.9956 - pranav_accuracy: 0.9985 - val_loss: 0.7164 - val_what_loss: 0.2923 - val_riccardo_loss: 0.1961 - val_federico_loss: 0.1063 - val_pranav_loss: 0.1360 - val_what_accuracy: 0.9458 - val_riccardo_accuracy: 0.9390 - val_federico_accuracy: 0.9559 - val_pranav_accuracy: 0.9763\n",
      "Epoch 195/200\n",
      "672/686 [============================>.] - ETA: 0s - loss: 0.1577 - what_loss: 0.0344 - riccardo_loss: 0.0898 - federico_loss: 0.0140 - pranav_loss: 0.0195 - what_accuracy: 0.9866 - riccardo_accuracy: 0.9762 - federico_accuracy: 0.9985 - pranav_accuracy: 0.9970\n",
      "Epoch 00195: ReduceLROnPlateau reducing learning rate to 0.00011529214680194855.\n",
      "686/686 [==============================] - 7s 10ms/sample - loss: 0.1599 - what_loss: 0.0355 - riccardo_loss: 0.0903 - federico_loss: 0.0138 - pranav_loss: 0.0230 - what_accuracy: 0.9869 - riccardo_accuracy: 0.9752 - federico_accuracy: 0.9985 - pranav_accuracy: 0.9956 - val_loss: 0.7298 - val_what_loss: 0.2927 - val_riccardo_loss: 0.1977 - val_federico_loss: 0.1074 - val_pranav_loss: 0.1456 - val_what_accuracy: 0.9424 - val_riccardo_accuracy: 0.9390 - val_federico_accuracy: 0.9559 - val_pranav_accuracy: 0.9763\n",
      "Epoch 196/200\n",
      "686/686 [==============================] - 7s 10ms/sample - loss: 0.1504 - what_loss: 0.0314 - riccardo_loss: 0.0863 - federico_loss: 0.0120 - pranav_loss: 0.0217 - what_accuracy: 0.9942 - riccardo_accuracy: 0.9665 - federico_accuracy: 0.9985 - pranav_accuracy: 0.9942 - val_loss: 0.7292 - val_what_loss: 0.2926 - val_riccardo_loss: 0.1998 - val_federico_loss: 0.1077 - val_pranav_loss: 0.1427 - val_what_accuracy: 0.9458 - val_riccardo_accuracy: 0.9356 - val_federico_accuracy: 0.9559 - val_pranav_accuracy: 0.9763\n",
      "Epoch 197/200\n",
      "686/686 [==============================] - 7s 10ms/sample - loss: 0.1604 - what_loss: 0.0288 - riccardo_loss: 0.0920 - federico_loss: 0.0139 - pranav_loss: 0.0223 - what_accuracy: 0.9956 - riccardo_accuracy: 0.9679 - federico_accuracy: 0.9956 - pranav_accuracy: 0.9956 - val_loss: 0.7233 - val_what_loss: 0.2920 - val_riccardo_loss: 0.1988 - val_federico_loss: 0.1085 - val_pranav_loss: 0.1378 - val_what_accuracy: 0.9424 - val_riccardo_accuracy: 0.9356 - val_federico_accuracy: 0.9525 - val_pranav_accuracy: 0.9763\n",
      "Epoch 198/200\n",
      "686/686 [==============================] - 7s 11ms/sample - loss: 0.1581 - what_loss: 0.0383 - riccardo_loss: 0.0831 - federico_loss: 0.0160 - pranav_loss: 0.0206 - what_accuracy: 0.9913 - riccardo_accuracy: 0.9810 - federico_accuracy: 0.9942 - pranav_accuracy: 0.9956 - val_loss: 0.7220 - val_what_loss: 0.2923 - val_riccardo_loss: 0.1944 - val_federico_loss: 0.1057 - val_pranav_loss: 0.1424 - val_what_accuracy: 0.9492 - val_riccardo_accuracy: 0.9356 - val_federico_accuracy: 0.9559 - val_pranav_accuracy: 0.9763\n",
      "Epoch 199/200\n",
      "686/686 [==============================] - 7s 10ms/sample - loss: 0.1626 - what_loss: 0.0442 - riccardo_loss: 0.0810 - federico_loss: 0.0125 - pranav_loss: 0.0226 - what_accuracy: 0.9927 - riccardo_accuracy: 0.9781 - federico_accuracy: 0.9956 - pranav_accuracy: 0.9942 - val_loss: 0.7195 - val_what_loss: 0.2909 - val_riccardo_loss: 0.1931 - val_federico_loss: 0.1028 - val_pranav_loss: 0.1441 - val_what_accuracy: 0.9525 - val_riccardo_accuracy: 0.9356 - val_federico_accuracy: 0.9593 - val_pranav_accuracy: 0.9763\n",
      "Epoch 200/200\n",
      "672/686 [============================>.] - ETA: 0s - loss: 0.1581 - what_loss: 0.0352 - riccardo_loss: 0.0879 - federico_loss: 0.0154 - pranav_loss: 0.0196 - what_accuracy: 0.9955 - riccardo_accuracy: 0.9688 - federico_accuracy: 0.9955 - pranav_accuracy: 0.9970\n",
      "Epoch 00200: ReduceLROnPlateau reducing learning rate to 9.223371744155885e-05.\n",
      "686/686 [==============================] - 7s 10ms/sample - loss: 0.1567 - what_loss: 0.0345 - riccardo_loss: 0.0853 - federico_loss: 0.0152 - pranav_loss: 0.0200 - what_accuracy: 0.9956 - riccardo_accuracy: 0.9694 - federico_accuracy: 0.9956 - pranav_accuracy: 0.9971 - val_loss: 0.7124 - val_what_loss: 0.2900 - val_riccardo_loss: 0.1933 - val_federico_loss: 0.1004 - val_pranav_loss: 0.1409 - val_what_accuracy: 0.9492 - val_riccardo_accuracy: 0.9356 - val_federico_accuracy: 0.9627 - val_pranav_accuracy: 0.9763\n"
     ]
    }
   ],
   "source": [
    "callbacks = [tf.keras.callbacks.ReduceLROnPlateau(patience=5, verbose=1, \n",
    "                                                  min_lr=1e-5, factor=0.8),\n",
    "             tf.keras.callbacks.EarlyStopping(patience=100, verbose=1, restore_best_weights=True)]\n",
    "history = model.fit(X_train, [y_what_train,y_is_ricc_train, \n",
    "                              y_is_fede_train, y_is_pk_train], \n",
    "                    epochs=200, batch_size=32,\n",
    "                    callbacks=callbacks,\n",
    "                    validation_data=(X_test, [y_what_test,y_is_ricc_test, \n",
    "                                              y_is_fede_test, y_is_pk_test]))"
   ]
  },
  {
   "cell_type": "code",
   "execution_count": 41,
   "metadata": {
    "colab": {},
    "colab_type": "code",
    "id": "LRdpbHqE-H0k"
   },
   "outputs": [
    {
     "data": {
      "image/png": "[encoded data removed]",
      "text/plain": [
       "<Figure size 1440x720 with 5 Axes>"
      ]
     },
     "metadata": {
      "needs_background": "light"
     },
     "output_type": "display_data"
    }
   ],
   "source": [
    "plt.figure(figsize=(20,10))\n",
    "\n",
    "ax0 = plt.subplot2grid((2, 4), (0, 0), colspan=2, rowspan=2)\n",
    "plt.plot(history.history['loss'])\n",
    "plt.plot(history.history['val_loss'])\n",
    "plt.title('Loss')\n",
    "plt.legend(['Training Loss', 'Validation Loss'])\n",
    "\n",
    "ax1 = plt.subplot2grid((2, 4), (0, 2))\n",
    "plt.plot(history.history['what_accuracy'])\n",
    "plt.plot(history.history['val_what_accuracy'])\n",
    "plt.legend(['Training', 'Validation'])\n",
    "plt.title('What Accuracy')\n",
    "\n",
    "\n",
    "ax1 = plt.subplot2grid((2, 4), (1, 2))\n",
    "plt.plot(history.history['pranav_accuracy'])\n",
    "plt.plot(history.history['val_pranav_accuracy'])\n",
    "plt.legend(['Training', 'Validation'])\n",
    "plt.title('Pranav Accuracy')\n",
    "\n",
    "\n",
    "ax1 = plt.subplot2grid((2, 4), (0, 3))\n",
    "plt.plot(history.history['riccardo_accuracy'])\n",
    "plt.plot(history.history['val_riccardo_accuracy'])\n",
    "plt.legend(['Training', 'Validation'])\n",
    "plt.title('Riccardo Accuracy')\n",
    "\n",
    "\n",
    "ax1 = plt.subplot2grid((2, 4), (1, 3))\n",
    "plt.plot(history.history['federico_accuracy'])\n",
    "plt.plot(history.history['val_federico_accuracy'])\n",
    "plt.legend(['Training', 'Validation'])\n",
    "plt.title('Federico Accuracy')\n",
    "plt.show()"
   ]
  },
  {
   "cell_type": "code",
   "execution_count": 42,
   "metadata": {
    "colab": {},
    "colab_type": "code",
    "id": "04t64Lczuqnq"
   },
   "outputs": [
    {
     "name": "stdout",
     "output_type": "stream",
     "text": [
      "295/295 [==============================] - 1s 4ms/sample - loss: 0.7124 - what_loss: 0.2900 - riccardo_loss: 0.1933 - federico_loss: 0.1004 - pranav_loss: 0.1409 - what_accuracy: 0.9492 - riccardo_accuracy: 0.9356 - federico_accuracy: 0.9627 - pranav_accuracy: 0.9763\n"
     ]
    },
    {
     "data": {
      "text/plain": [
       "[0.7123758431208336,\n",
       " 0.2899926,\n",
       " 0.19328889,\n",
       " 0.10041499,\n",
       " 0.1408945,\n",
       " 0.9491525,\n",
       " 0.93559325,\n",
       " 0.9627119,\n",
       " 0.9762712]"
      ]
     },
     "execution_count": 42,
     "metadata": {},
     "output_type": "execute_result"
    }
   ],
   "source": [
    "model.evaluate(X_test, [y_what_test,y_is_ricc_test,y_is_fede_test, y_is_pk_test])"
   ]
  },
  {
   "cell_type": "code",
   "execution_count": 52,
   "metadata": {},
   "outputs": [],
   "source": [
    "model.save('cnn_model.h5')"
   ]
  },
  {
   "cell_type": "code",
   "execution_count": 47,
   "metadata": {
    "colab": {},
    "colab_type": "code",
    "id": "efSq2PXCOEBz"
   },
   "outputs": [],
   "source": [
    "def predict_nn(model, X, rate=88200, threshold=0.95):\n",
    "    X = np.array(X).reshape(-1,rate,1).astype('float32')\n",
    "    y = model.predict(X)\n",
    "\n",
    "    what = list(map(lambda x: np.argmax(x) if x[np.argmax(x)] > 0.8 else -1, \n",
    "                  y[0]))\n",
    "    what_what = {0:'Forse',1:'No',2:'Si',-1:'Non Capisco'}\n",
    "    print(list(map(lambda x: what_what[x], what)))\n",
    "\n",
    "    who = list(map(lambda x: np.argmax(x) if x[np.argmax(x)] > 0.8 else -1, \n",
    "                 np.hstack((y[1],y[2], y[3]))))\n",
    "    person = {0:'Riccardo',1:'Federico',2:'Pranav',-1:'Unknown'}\n",
    "    who_person = list(map(lambda x: person[x], who)) \n",
    "    print(who_person)"
   ]
  },
  {
   "cell_type": "code",
   "execution_count": 45,
   "metadata": {
    "colab": {},
    "colab_type": "code",
    "id": "l36Xr_8gZ4YL"
   },
   "outputs": [],
   "source": [
    "hk_si = pd.read_csv(path + 'extraTesting/Harshita_si.csv', header=None).drop(0, axis=1)\n",
    "hk_no = pd.read_csv(path + 'extraTesting/Harshita_no.csv', header=None).drop(0,axis=1)\n",
    "hk_forse = pd.read_csv(path + 'extraTesting/Harshita_forse.csv', header=None).drop(0,axis=1)\n",
    "hk_caso = pd.read_csv(path + 'extraTesting/Harshita_caso.csv', header=None).drop(0,axis=1)\n",
    "\n",
    "#hk_no = np.array(list(map(extract_feature, hk_no.values)))\n",
    "#hk_si = np.array(list(map(extract_feature, hk_si.values)))\n",
    "#hk_forse = np.array(list(map(extract_feature, hk_forse.values)))\n",
    "#hk_caso = np.array(list(map(extract_feature, hk_caso.values)))"
   ]
  },
  {
   "cell_type": "code",
   "execution_count": 48,
   "metadata": {
    "colab": {
     "base_uri": "https://localhost:8080/",
     "height": 51
    },
    "colab_type": "code",
    "id": "lp78LyuFOGVY",
    "outputId": "050f08fb-1ac7-4217-94a1-87ab71dbd6d7"
   },
   "outputs": [
    {
     "name": "stdout",
     "output_type": "stream",
     "text": [
      "['Non Capisco', 'Non Capisco', 'No', 'No', 'No', 'Non Capisco']\n",
      "['Pranav', 'Pranav', 'Pranav', 'Pranav', 'Pranav', 'Pranav']\n"
     ]
    }
   ],
   "source": [
    "predict_nn(model, hk_no)"
   ]
  },
  {
   "cell_type": "code",
   "execution_count": 49,
   "metadata": {
    "colab": {
     "base_uri": "https://localhost:8080/",
     "height": 51
    },
    "colab_type": "code",
    "id": "SqLBmYnMOKB8",
    "outputId": "1ae46f67-3117-427b-9bbc-004a795754f2"
   },
   "outputs": [
    {
     "name": "stdout",
     "output_type": "stream",
     "text": [
      "['Forse', 'Forse', 'Si', 'Si']\n",
      "['Pranav', 'Pranav', 'Pranav', 'Pranav']\n"
     ]
    }
   ],
   "source": [
    "predict_nn(model, hk_si)"
   ]
  },
  {
   "cell_type": "code",
   "execution_count": 50,
   "metadata": {
    "colab": {
     "base_uri": "https://localhost:8080/",
     "height": 51
    },
    "colab_type": "code",
    "id": "may79PNsOMNP",
    "outputId": "22f0bf4a-8386-485f-858f-5c5c63af96e4"
   },
   "outputs": [
    {
     "name": "stdout",
     "output_type": "stream",
     "text": [
      "['Non Capisco', 'Non Capisco', 'Forse', 'Forse', 'Non Capisco', 'Non Capisco']\n",
      "['Pranav', 'Pranav', 'Pranav', 'Pranav', 'Pranav', 'Pranav']\n"
     ]
    }
   ],
   "source": [
    "predict_nn(model, hk_forse)"
   ]
  },
  {
   "cell_type": "code",
   "execution_count": 51,
   "metadata": {
    "colab": {
     "base_uri": "https://localhost:8080/",
     "height": 51
    },
    "colab_type": "code",
    "id": "kw1fsIVaONdf",
    "outputId": "ee51c4d6-16c4-4923-efe7-dfb1bd1dbf1c"
   },
   "outputs": [
    {
     "name": "stdout",
     "output_type": "stream",
     "text": [
      "['No', 'No', 'Non Capisco', 'Non Capisco', 'Non Capisco', 'Non Capisco', 'Non Capisco']\n",
      "['Pranav', 'Pranav', 'Pranav', 'Pranav', 'Unknown', 'Pranav', 'Pranav']\n"
     ]
    }
   ],
   "source": [
    "predict_nn(model, hk_caso)"
   ]
  },
  {
   "cell_type": "code",
   "execution_count": 54,
   "metadata": {
    "colab": {},
    "colab_type": "code",
    "id": "lV6Fmfml0H9d"
   },
   "outputs": [],
   "source": [
    "noemi = pd.read_csv(path+'Noemi.csv', header=None)"
   ]
  },
  {
   "cell_type": "code",
   "execution_count": 64,
   "metadata": {},
   "outputs": [
    {
     "name": "stdout",
     "output_type": "stream",
     "text": [
      "['Non Capisco', 'Non Capisco', 'Non Capisco']\n",
      "['Unknown', 'Unknown', 'Pranav']\n"
     ]
    }
   ],
   "source": [
    "predict_nn(model, noemi.iloc[:,1:].values)"
   ]
  }
 ],
 "metadata": {
  "accelerator": "GPU",
  "colab": {
   "collapsed_sections": [],
   "name": "DSIM.ipynb",
   "provenance": []
  },
  "kernelspec": {
   "display_name": "Python 3",
   "language": "python",
   "name": "python3"
  },
  "language_info": {
   "codemirror_mode": {
    "name": "ipython",
    "version": 3
   },
   "file_extension": ".py",
   "mimetype": "text/x-python",
   "name": "python",
   "nbconvert_exporter": "python",
   "pygments_lexer": "ipython3",
   "version": "3.7.5"
  }
 },
 "nbformat": 4,
 "nbformat_minor": 1
}
